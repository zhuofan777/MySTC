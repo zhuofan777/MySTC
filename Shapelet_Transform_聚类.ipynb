{
 "cells": [
  {
   "cell_type": "code",
   "execution_count": 705,
   "metadata": {},
   "outputs": [],
   "source": [
    "import numpy as np\n",
    "import pandas as pd\n",
    "from scipy.stats import f_oneway\n",
    "from scipy.spatial.distance import cdist\n",
    "from sklearn.manifold import TSNE\n",
    "import matplotlib.pyplot as plt\n",
    "import seaborn as sns\n",
    "from tqdm import tqdm\n",
    "import heapq as hq"
   ]
  },
  {
   "cell_type": "code",
   "execution_count": 706,
   "metadata": {
    "pycharm": {
     "name": "#%%\n"
    }
   },
   "outputs": [],
   "source": [
    "# 计算方差窗口的大小\n",
    "def computeWinSize(length, b):\n",
    "    if 0 < length <= b:\n",
    "        return 1\n",
    "    else:\n",
    "        return length // b"
   ]
  },
  {
   "cell_type": "code",
   "execution_count": 707,
   "metadata": {
    "pycharm": {
     "name": "#%%\n"
    }
   },
   "outputs": [],
   "source": [
    "# 计算标准差数组\n",
    "def computeStdArr(series, b):\n",
    "    l = len(series)\n",
    "    # 窗口下取整\n",
    "    w = computeWinSize(l, b)\n",
    "    # print(w)\n",
    "    res = []\n",
    "    for i in range(w, l - w):\n",
    "        win_arr = [0 for i in range(2 * w + 1)]\n",
    "        cnt = 0\n",
    "        for j in range(i - w, w + i + 1):\n",
    "            win_arr[cnt] = series[j]\n",
    "            cnt += 1\n",
    "        std = np.std(win_arr, ddof=0)\n",
    "        res.append(std)\n",
    "    return res"
   ]
  },
  {
   "cell_type": "code",
   "execution_count": 708,
   "metadata": {
    "pycharm": {
     "name": "#%%\n"
    }
   },
   "outputs": [],
   "source": [
    "# 选择L*α最大的点的下标,，保留下标\n",
    "def selectLargePoint(series, a):\n",
    "    l = len(series)\n",
    "    # 生成l*a个\n",
    "    res = hq.nlargest(int(l * a), range(l), key=lambda x: series[x])\n",
    "    return res"
   ]
  },
  {
   "cell_type": "code",
   "execution_count": 709,
   "metadata": {
    "pycharm": {
     "name": "#%%\n"
    }
   },
   "outputs": [],
   "source": [
    "# 判断是否为波峰波谷\n",
    "def isPeakOrValley(std_arr, index, b):\n",
    "    win_size = computeWinSize(len(std_arr), b)\n",
    "    flag = False\n",
    "    if win_size == 1:\n",
    "        if ((std_arr[index] > std_arr[index - 1] and std_arr[index] > std_arr[index + 1]) or (\n",
    "                std_arr[index] < std_arr[index - 1] and std_arr[index] < std_arr[index + 1])):\n",
    "            flag = True\n",
    "    elif win_size == 2:\n",
    "        if ((std_arr[index] >= std_arr[index - 1] and std_arr[index] > std_arr[index - 2] and std_arr[index] >= std_arr[\n",
    "            index + 1] and std_arr[index] > std_arr[index + 2])\n",
    "                or\n",
    "                (std_arr[index] <= std_arr[index - 1] and std_arr[index] < std_arr[index - 2] and std_arr[index] <=\n",
    "                 std_arr[\n",
    "                     index + 1]) and std_arr[index] < std_arr[index + 2]):\n",
    "            flag = True\n",
    "    elif win_size == 3:\n",
    "        if ((std_arr[index] >= std_arr[index - 1] and std_arr[index] > std_arr[index - 2] and std_arr[index] > std_arr[\n",
    "            index - 3]\n",
    "             and std_arr[index] >= std_arr[index + 1] and std_arr[index] > std_arr[index + 2] and std_arr[index] >\n",
    "             std_arr[\n",
    "                 index + 3])\n",
    "                or\n",
    "                (std_arr[index] <= std_arr[index - 1] and std_arr[index] < std_arr[index - 2] and std_arr[index] <\n",
    "                 std_arr[index - 3]) and std_arr[index] <= std_arr[index + 1] and std_arr[index] < std_arr[\n",
    "                    index + 2] and std_arr[index] < std_arr[index + 3]):\n",
    "            flag = True\n",
    "    elif win_size == 4:\n",
    "        if ((std_arr[index] >= std_arr[index - 1] and std_arr[index] > std_arr[index - 2] and std_arr[index] > std_arr[\n",
    "            index - 3] and std_arr[index] > std_arr[index - 4]\n",
    "             and std_arr[index] >= std_arr[index + 1] and std_arr[index] > std_arr[index + 2] and std_arr[index] >\n",
    "             std_arr[\n",
    "                 index + 3] and std_arr[index] > std_arr[index + 4])\n",
    "                or\n",
    "                (std_arr[index] <= std_arr[index - 1] and std_arr[index] < std_arr[index - 2] and std_arr[index] <\n",
    "                 std_arr[\n",
    "                     index - 3] and std_arr[index] < std_arr[index - 4]\n",
    "                 and std_arr[index] <= std_arr[index + 1] and std_arr[index] < std_arr[index + 2] and std_arr[index] <\n",
    "                 std_arr[index + 3] and std_arr[index] < std_arr[index + 4])):\n",
    "            flag = True\n",
    "    else:\n",
    "        if ((std_arr[index] > std_arr[index - 1] and std_arr[index] > std_arr[index - 2] and std_arr[index] > std_arr[\n",
    "            index - 3] and std_arr[index] > std_arr[index - 4] and std_arr[index] > std_arr[index - 5]\n",
    "             and std_arr[index] > std_arr[index + 1] and std_arr[index] > std_arr[index + 2] and std_arr[index] >\n",
    "             std_arr[\n",
    "                 index + 3] and std_arr[index] > std_arr[index + 4] and std_arr[index] > std_arr[index + 5])\n",
    "                or\n",
    "                (std_arr[index] < std_arr[index - 1] and std_arr[index] < std_arr[index - 2] and std_arr[index] <\n",
    "                 std_arr[\n",
    "                     index - 3] and std_arr[index] < std_arr[index - 4] and std_arr[index] < std_arr[index - 5]\n",
    "                 and std_arr[index] < std_arr[index + 1] and std_arr[index] < std_arr[index + 2] and std_arr[index] <\n",
    "                 std_arr[\n",
    "                     index + 3] and std_arr[index] < std_arr[index + 4] and std_arr[index] < std_arr[index + 5])):\n",
    "            flag = True\n",
    "    return flag\n",
    "\n"
   ]
  },
  {
   "cell_type": "code",
   "execution_count": 710,
   "metadata": {
    "pycharm": {
     "name": "#%%\n"
    }
   },
   "outputs": [],
   "source": [
    "# 找到所有合适的区间\n",
    "def fitPoint(stdA, indexA, b):\n",
    "    w = computeWinSize(len(stdA), b)\n",
    "    l = len(indexA)\n",
    "    res = []\n",
    "    for i in range(0, l):\n",
    "        val = indexA[i]\n",
    "        if w <= val < l - w:\n",
    "            if isPeakOrValley(stdA, val, b):\n",
    "                res.append(val + 2 * w + 1)\n",
    "    return res"
   ]
  },
  {
   "cell_type": "code",
   "execution_count": 711,
   "metadata": {
    "pycharm": {
     "name": "#%%\n"
    }
   },
   "outputs": [],
   "source": [
    "# 提取特征关键点\n",
    "def extractFeaturePoint(arr, a, b):\n",
    "    stdArrOne = computeStdArr(arr, b)\n",
    "    largePoint = selectLargePoint(stdArrOne, a)\n",
    "    indexArr = fitPoint(stdArrOne, largePoint, b)\n",
    "    return indexArr"
   ]
  },
  {
   "cell_type": "code",
   "execution_count": 712,
   "metadata": {
    "pycharm": {
     "name": "#%%\n"
    }
   },
   "outputs": [],
   "source": [
    "# 判断有几个关键点与它相近\n",
    "def closeNums(keyList,key,threshold):\n",
    "    cnt = 0\n",
    "    cnt += keyList.count(key)\n",
    "    for i in range(1,threshold):\n",
    "        a = key + i\n",
    "        b = key - i\n",
    "        cnt += keyList.count(a)\n",
    "        cnt += keyList.count(b)\n",
    "    return cnt"
   ]
  },
  {
   "cell_type": "code",
   "execution_count": 713,
   "metadata": {
    "pycharm": {
     "name": "#%%\n"
    }
   },
   "outputs": [],
   "source": [
    "class keyPoint:\n",
    "    def __init__(self,key,cnt,dim):\n",
    "        self.key = key\n",
    "        self.cnt = cnt\n",
    "        self.dim = dim"
   ]
  },
  {
   "cell_type": "code",
   "execution_count": 714,
   "metadata": {
    "pycharm": {
     "name": "#%%\n"
    }
   },
   "outputs": [],
   "source": [
    "class smallKeyPoint:\n",
    "    def __init__(self,key,dim):\n",
    "        self.key = key\n",
    "        self.dim = dim"
   ]
  },
  {
   "cell_type": "code",
   "execution_count": 715,
   "metadata": {
    "pycharm": {
     "name": "#%%\n"
    }
   },
   "outputs": [],
   "source": [
    "# 找到较为相近的关键点\n",
    "def selectKeys(data,alp,blt,howclose=2):\n",
    "    # 原始data顺序 样本数 维度数 序列长度\n",
    "    dim_nums = data.shape[1]\n",
    "    sample_nums = data.shape[0]\n",
    "    all_keys = []\n",
    "    for sm in tqdm(range(sample_nums)):\n",
    "        one_sample  = data[sm]\n",
    "        # 每个维度的关键点下标集合\n",
    "        key_points = []\n",
    "        # 所为维度下的关键点下标\n",
    "        ex_key_points = []\n",
    "        for dn in range(dim_nums):\n",
    "            # keys 关键点的下标\n",
    "            keys = extractFeaturePoint(one_sample[dn],alp,blt)\n",
    "            key_points.append(keys)\n",
    "        # 有一部分在构建的序列上\n",
    "\n",
    "        for dn in range(dim_nums):\n",
    "            # 一个维度上的关键下标\n",
    "            kl = key_points[dn]\n",
    "            # 去掉自己维度的下标\n",
    "            tmp_key_points = key_points[:]\n",
    "            tmp_key_points.remove(kl)\n",
    "            key_list = []\n",
    "            for i in tmp_key_points:\n",
    "                key_list.extend(i)\n",
    "\n",
    "            ekl = []\n",
    "            for k in kl:\n",
    "                cnt = closeNums(key_list,k,howclose)\n",
    "                ekl.append(keyPoint(k,cnt,dn))\n",
    "            ex_key_points.extend(ekl)\n",
    "\n",
    "        ex_key_points.sort(key=lambda x:x.cnt,reverse=True)\n",
    "        # 筛选\n",
    "        res_keys = ex_key_points[:]\n",
    "        # res = 0\n",
    "        # for k in res_keys:\n",
    "        #     if k.cnt >= res_keys[0].cnt * 0.9:\n",
    "        #         res += 1\n",
    "        # res_keys = res_keys[:res]\n",
    "        all_keys.append(res_keys)\n",
    "    return all_keys"
   ]
  },
  {
   "cell_type": "code",
   "execution_count": 716,
   "metadata": {
    "pycharm": {
     "name": "#%%\n"
    }
   },
   "outputs": [],
   "source": [
    "class shapelet:\n",
    "    def __init__(self,keyPoint,ylt,st,ed,length,val,sample):\n",
    "        # keyPoint 由那个keyPoint生成\n",
    "        # ylt 松弛是多少\n",
    "        # st 起始位置\n",
    "        # ed 终止位置\n",
    "        # val shapelet在序列中的实际的值\n",
    "        self.quality = None\n",
    "        self.keyPoint = keyPoint\n",
    "        self.ylt = ylt\n",
    "        self.st = st\n",
    "        self.ed = ed\n",
    "        self.length = length\n",
    "        self.val = val\n",
    "        self.sample = sample\n",
    "    def setQuality(self,quality):\n",
    "        self.quality = quality"
   ]
  },
  {
   "cell_type": "code",
   "execution_count": 717,
   "metadata": {
    "pycharm": {
     "name": "#%%\n"
    }
   },
   "outputs": [],
   "source": [
    "def generateCandidates(s,sm,l,keyP,ylt):\n",
    "    # sm 为单个样本[维度，长度]\n",
    "    # keyP 应该为一个keyPoint\n",
    "    # ylt为松弛参数\n",
    "    candidate = []\n",
    "    if l % 2 == 1:\n",
    "        l = l // 2\n",
    "        dim = keyP.dim\n",
    "        s = s[dim]\n",
    "        for i in range(-ylt,ylt+1):\n",
    "            # 从中心点两侧的松弛长度进行计算\n",
    "            if keyP.key - i - l < 0:\n",
    "                continue\n",
    "            left = keyP.key - i - l\n",
    "            if keyP.key - i + l + 1 >= len(s):\n",
    "                continue\n",
    "            right = keyP.key - i + l + 1\n",
    "            spt = shapelet(keyPoint=keyP,ylt=ylt,st=left,ed=right - 1,length=right-left,val=s[left:right],sample=sm)\n",
    "            candidate.append(spt)\n",
    "    else:\n",
    "        l = l // 2\n",
    "        dim = keyP.dim\n",
    "        s = s[dim]\n",
    "        for i in range(-ylt,ylt+1):\n",
    "            # 从中心点两侧的松弛长度进行计算\n",
    "            if keyP.key - i - l < 0:\n",
    "                continue\n",
    "            left = keyP.key - i - l\n",
    "            if keyP.key - i + l >= len(s):\n",
    "                continue\n",
    "            right = keyP.key - i + l\n",
    "            spt = shapelet(keyPoint=keyP,ylt=ylt,st=left,ed=right - 1,length=right-left,val=s[left:right],sample=sm)\n",
    "            candidate.append(spt)\n",
    "            if keyP.key - i - l + 1< 0:\n",
    "                continue\n",
    "            left = keyP.key - i - l + 1\n",
    "            if keyP.key - i + l + 1 >= len(s):\n",
    "                continue\n",
    "            right = keyP.key - i + l + 1\n",
    "            spt = shapelet(keyPoint=keyP,ylt=ylt,st=left,ed=right - 1,length=right-left,val=s[left:right],sample=sm)\n",
    "            candidate.append(spt)\n",
    "    return candidate"
   ]
  },
  {
   "cell_type": "code",
   "execution_count": 718,
   "outputs": [],
   "source": [
    "from sklearn.cluster import KMeans\n",
    "from functools import cmp_to_key"
   ],
   "metadata": {
    "collapsed": false,
    "pycharm": {
     "name": "#%%\n"
    }
   }
  },
  {
   "cell_type": "code",
   "execution_count": 719,
   "outputs": [],
   "source": [
    "import operator\n",
    "# a = [0.18357,0.20175]\n",
    "# b = [0.078888,-0.016535]\n",
    "# # a=[-1,1,0]\n",
    "# # b=[1,-1,0]\n",
    "# # c=[-1,1,0]\n",
    "# print(operator.eq(a,b))"
   ],
   "metadata": {
    "collapsed": false,
    "pycharm": {
     "name": "#%%\n"
    }
   }
  },
  {
   "cell_type": "code",
   "execution_count": 720,
   "outputs": [],
   "source": [
    "import collections\n",
    "def findShapeletCandidates(data,lmin,lmax,keys,ylt,odim):\n",
    "    sample_nums = data.shape[0]\n",
    "    candidate = []\n",
    "    for sm in tqdm(range(sample_nums)):\n",
    "        s = data[sm]\n",
    "        keyList = keys[sm]\n",
    "        for k in keyList:\n",
    "            # lmin - lmax\n",
    "            for l in range(lmin,lmax+1):\n",
    "                candidate.extend(generateCandidates(s,sm,l,k,ylt))\n",
    "    # print(len(candidate))\n",
    "    dt = collections.defaultdict(list)\n",
    "    for cd in candidate:\n",
    "        dt[cd.length].append(cd)\n",
    "\n",
    "    # 对dt进行剪枝\n",
    "    v = dt.keys()\n",
    "    # print(len(dt[3]))\n",
    "\n",
    "    # 对于每个长度\n",
    "    for k in tqdm(v):\n",
    "\n",
    "        ls = dt[k]\n",
    "        res = collections.defaultdict(list)\n",
    "        for i in ls:\n",
    "            # print(type(i))\n",
    "            res[i.keyPoint.dim].append(i)\n",
    "        dims = list(res.keys())\n",
    "        dis_ls = []\n",
    "        for i in ls:\n",
    "            dis_ls.append(i.val)\n",
    "        kmeans = KMeans(n_clusters=5,max_iter=10000).fit(dis_ls)\n",
    "        center = kmeans.cluster_centers_\n",
    "        labels = kmeans.labels_\n",
    "\n",
    "\n",
    "    #     每个簇选50个\n",
    "        label_dt = collections.defaultdict(list)\n",
    "        for i,x in enumerate(labels):\n",
    "            label_dt[x].append(dis_ls[i])\n",
    "        # print(label_dt.keys())\n",
    "\n",
    "        tmpls = []\n",
    "        for i,x in  enumerate(list(label_dt.keys())):\n",
    "            cnter = center[x]\n",
    "            cdi = label_dt[x]\n",
    "            def cmp(x,y):\n",
    "                distx = 0\n",
    "                disty = 0\n",
    "                for a in range(len(cnter)):\n",
    "                    distx += (cnter[a] - x[a]) * (cnter[a] - x[a])\n",
    "                    disty += (cnter[a] - y[a]) * (cnter[a] - y[a])\n",
    "                if distx > disty:\n",
    "                    return 1\n",
    "                return -1\n",
    "            cdi = list(set([tuple(t) for t in cdi]))\n",
    "            cdi.sort(key=cmp_to_key(cmp),reverse=True)\n",
    "            # print(cnter)\n",
    "            # print(cdi)\n",
    "            cdi = cdi[:min(100,len(cdi))]\n",
    "            # 将距离计算转换为shapelet\n",
    "            def myeql(a,b):\n",
    "                for i in range(len(a)):\n",
    "                    if a[i] != b[i]:\n",
    "                        return False\n",
    "                return True\n",
    "            for index,a in enumerate(cdi):\n",
    "                for jndex,b in enumerate(dis_ls):\n",
    "                    # print(a,b)\n",
    "                    # print(len(a))\n",
    "                    # print(len(b))\n",
    "                    if myeql(a,b):\n",
    "                        # print(a,b)\n",
    "                        tmpls.append(ls[jndex])\n",
    "                        break\n",
    "        dt[k] = tmpls\n",
    "    return dt\n"
   ],
   "metadata": {
    "collapsed": false,
    "pycharm": {
     "name": "#%%\n"
    }
   }
  },
  {
   "cell_type": "code",
   "execution_count": 721,
   "metadata": {
    "pycharm": {
     "name": "#%%\n"
    }
   },
   "outputs": [],
   "source": [
    "def findDistances(c,l,data):\n",
    "    # 查找获选shapelet在每个样本上的最小值\n",
    "    ds = []\n",
    "    dim = c.keyPoint.dim\n",
    "    data = np.transpose(data,axes=(1,0,2))\n",
    "    sers = data[dim]\n",
    "    for s in sers:\n",
    "        cp = [s[i : i + l] for i in range(0, len(s)-l+1, 1)]\n",
    "        ds.append(cdist([c.val],cp,metric='seuclidean').min())\n",
    "    return np.array(ds)"
   ]
  },
  {
   "cell_type": "code",
   "execution_count": 722,
   "metadata": {
    "pycharm": {
     "name": "#%%\n"
    }
   },
   "outputs": [],
   "source": [
    "def assessCandidate(ds,label):\n",
    "    class_groups = []\n",
    "    for c in np.unique(label):\n",
    "        class_groups.append(ds[label==c].tolist())\n",
    "#  返回f值\n",
    "    return f_oneway(*class_groups).statistic"
   ]
  },
  {
   "cell_type": "code",
   "execution_count": 723,
   "metadata": {
    "pycharm": {
     "name": "#%%\n"
    }
   },
   "outputs": [],
   "source": [
    "def sortByQuality(shapelets):\n",
    "    return sorted(shapelets, key=lambda s: s.quality,reverse=True)"
   ]
  },
  {
   "cell_type": "code",
   "execution_count": 724,
   "outputs": [],
   "source": [
    "class interval:\n",
    "    def __init__(self,st,ed):\n",
    "        self.st = st\n",
    "        self.ed = ed\n",
    "    def isInclude(self,a):\n",
    "        # 是否被a包含\n",
    "        if self.st >= a.st and self.ed <= a.ed:\n",
    "            return True\n"
   ],
   "metadata": {
    "collapsed": false,
    "pycharm": {
     "name": "#%%\n"
    }
   }
  },
  {
   "cell_type": "code",
   "execution_count": 725,
   "metadata": {
    "pycharm": {
     "name": "#%%\n"
    }
   },
   "outputs": [],
   "source": [
    "def removeSelfSimilar(shapelets):\n",
    "    ts = shapelets[:][::-1]\n",
    "    it = []\n",
    "    for x in ts:\n",
    "        it.append(interval(x.st,x.ed))\n",
    "    removeIdx = []\n",
    "    l = len(it)\n",
    "    # 修改将重叠改为包含\n",
    "    for i in range(l):\n",
    "        for j in range(i+1,l):\n",
    "            if it[i].isInclude(it[j]):\n",
    "                removeIdx.append(i)\n",
    "                break\n",
    "    res = []\n",
    "    for i in range(l):\n",
    "        if i not in removeIdx:\n",
    "            res.append(ts[i])\n",
    "\n",
    "\n",
    "    return res[::-1]"
   ]
  },
  {
   "cell_type": "code",
   "execution_count": 726,
   "metadata": {
    "pycharm": {
     "name": "#%%\n"
    }
   },
   "outputs": [],
   "source": [
    "def merge(k,kShapelets,shapelets):\n",
    "    total_shapelets = kShapelets + shapelets\n",
    "    return sortByQuality(total_shapelets)[:k]"
   ]
  },
  {
   "cell_type": "code",
   "execution_count": 727,
   "metadata": {
    "pycharm": {
     "name": "#%%\n"
    }
   },
   "outputs": [],
   "source": [
    "def findShapelets(data,label,dt,k):\n",
    "    kShapelets = []\n",
    "    # l 为长度\n",
    "    for l in dt.keys():\n",
    "        # cd 是单个长度的所有样本和维度下的shaplet候选\n",
    "        cd = dt[l]\n",
    "        if len(cd) == 0:\n",
    "            continue\n",
    "        for i,c in enumerate(tqdm(cd)):\n",
    "            ds = findDistances(c,l,data)\n",
    "            quality = assessCandidate(ds,label)\n",
    "            cd[i].setQuality(quality)\n",
    "        cd = sortByQuality(cd)\n",
    "        # print(len(cd))\n",
    "        cd = removeSelfSimilar(cd)\n",
    "        # print(len(cd))\n",
    "        kShapelets = merge(k,kShapelets,cd)\n",
    "    return kShapelets\n",
    "        # print(len(cd))\n",
    "        # print(cd[0].quality,cd[1].quality,cd[-1].quality)\n",
    "    # print(k)"
   ]
  },
  {
   "cell_type": "code",
   "execution_count": 728,
   "metadata": {
    "pycharm": {
     "name": "#%%\n"
    }
   },
   "outputs": [],
   "source": [
    "def load_raw_ts(path, dataset):\n",
    "    path = path + \"raw//\" + dataset + \"//\"\n",
    "    # 训练集\n",
    "    x_train = np.load(path + 'X_train.npy')\n",
    "    x_train = np.transpose(x_train, axes=(0, 2, 1))\n",
    "    x_test = np.load(path + 'X_test.npy')\n",
    "    x_test = np.transpose(x_test, axes=(0, 2, 1))\n",
    "    y_train = np.load(path + 'y_train.npy')\n",
    "    y_test = np.load(path + 'y_test.npy')\n",
    "    labels = np.concatenate((y_train, y_test), axis=0)\n",
    "    nclass = int(np.amax(labels)) + 1\n",
    "    return x_train, x_test, y_train.reshape(-1), y_test.reshape(-1), nclass"
   ]
  },
  {
   "cell_type": "code",
   "execution_count": 729,
   "metadata": {
    "pycharm": {
     "name": "#%%\n"
    }
   },
   "outputs": [],
   "source": [
    "# target_train 为标签 data_train 为序列\n",
    "data_train, data_test, target_train, target_test, nclass = load_raw_ts(\"D://tmppro//data//\", \"UWaveGestureLibrary\")\n",
    "sample_nums = data_train.shape[0]\n",
    "dim_nums = data_train.shape[1]\n",
    "series_length = data_train.shape[2]\n",
    "test_nums = data_test.shape[0]"
   ]
  },
  {
   "cell_type": "code",
   "execution_count": 730,
   "metadata": {},
   "outputs": [],
   "source": [
    "import random\n",
    "\n",
    "lmin = 3\n",
    "lmax = 13\n",
    "# 选取shapelet的数量\n",
    "# k = int(series_length * dim_nums)\n",
    "k = 100\n",
    "alp = 0.6\n",
    "# k = 20\n",
    "# alp = random.choice([0.3, 0.4])\n",
    "# blt = random.choice([100, 90, 80, 70, 60, 50])\n",
    "blt = 100\n",
    "# ylt = random.choice([5,6,7,8])\n",
    "ylt = 7\n",
    "dis = 2"
   ]
  },
  {
   "cell_type": "code",
   "execution_count": 731,
   "outputs": [
    {
     "name": "stdout",
     "output_type": "stream",
     "text": [
      "100\n"
     ]
    }
   ],
   "source": [
    "print(k)"
   ],
   "metadata": {
    "collapsed": false,
    "pycharm": {
     "name": "#%%\n"
    }
   }
  },
  {
   "cell_type": "code",
   "execution_count": 732,
   "metadata": {
    "pycharm": {
     "name": "#%%\n"
    }
   },
   "outputs": [],
   "source": [
    "#对于每个样本生成差异序列序列\n",
    "def genDiffSeries(data):\n",
    "    sample_nums = data.shape[0]\n",
    "    dim_nums = data.shape[1]\n",
    "    series_length = data.shape[2]\n",
    "    gen_data = []\n",
    "    for sn in range(sample_nums):\n",
    "        sm = data[sn]\n",
    "        res = []\n",
    "        # 先将原始的每个维度的加进入\n",
    "        for i in range(dim_nums):\n",
    "            res.append(sm[i])\n",
    "        # 再计算每个减法维度，然后依次加进去\n",
    "        for i in range(dim_nums-1):\n",
    "            for j in range(i+1,dim_nums):\n",
    "                s1 = sm[i]\n",
    "                s2 = sm[j]\n",
    "                news = [0 for _ in range(series_length)]\n",
    "                for k in range(series_length):\n",
    "                    news[k] = s1[k] - s2[k]\n",
    "                res.append(np.array(news))\n",
    "        gen_data.append(np.array(res))\n",
    "    return np.array(gen_data)"
   ]
  },
  {
   "cell_type": "code",
   "execution_count": 733,
   "metadata": {
    "pycharm": {
     "name": "#%%\n"
    }
   },
   "outputs": [
    {
     "name": "stdout",
     "output_type": "stream",
     "text": [
      "(120, 3, 315)\n",
      "(120, 6, 315)\n"
     ]
    }
   ],
   "source": [
    "print(data_train.shape)\n",
    "a = genDiffSeries(data_train)\n",
    "print(a.shape)\n"
   ]
  },
  {
   "cell_type": "code",
   "execution_count": 734,
   "metadata": {
    "pycharm": {
     "name": "#%%\n"
    }
   },
   "outputs": [
    {
     "name": "stderr",
     "output_type": "stream",
     "text": [
      "100%|██████████| 120/120 [00:06<00:00, 19.50it/s]\n"
     ]
    }
   ],
   "source": [
    "keys = selectKeys(a,alp,blt,2)"
   ]
  },
  {
   "cell_type": "code",
   "execution_count": 735,
   "metadata": {
    "pycharm": {
     "name": "#%%\n"
    }
   },
   "outputs": [
    {
     "name": "stderr",
     "output_type": "stream",
     "text": [
      "100%|██████████| 120/120 [00:05<00:00, 21.60it/s]\n",
      "100%|██████████| 11/11 [06:02<00:00, 32.98s/it]\n"
     ]
    }
   ],
   "source": [
    "dt = findShapeletCandidates(a,lmin,lmax,keys,ylt,dim_nums)"
   ]
  },
  {
   "cell_type": "code",
   "execution_count": 736,
   "metadata": {
    "pycharm": {
     "name": "#%%\n"
    }
   },
   "outputs": [
    {
     "name": "stderr",
     "output_type": "stream",
     "text": [
      "100%|██████████| 500/500 [00:14<00:00, 35.08it/s]\n",
      "100%|██████████| 500/500 [00:14<00:00, 35.06it/s]\n",
      "100%|██████████| 500/500 [00:14<00:00, 34.82it/s]\n",
      "100%|██████████| 500/500 [00:14<00:00, 34.58it/s]\n",
      "100%|██████████| 500/500 [00:14<00:00, 34.38it/s]\n",
      "100%|██████████| 500/500 [00:14<00:00, 34.16it/s]\n",
      "100%|██████████| 500/500 [00:14<00:00, 34.00it/s]\n",
      "100%|██████████| 500/500 [00:14<00:00, 33.91it/s]\n",
      "100%|██████████| 500/500 [00:14<00:00, 34.14it/s]\n",
      "100%|██████████| 500/500 [00:14<00:00, 33.64it/s]\n",
      "100%|██████████| 500/500 [00:14<00:00, 33.43it/s]\n"
     ]
    }
   ],
   "source": [
    "kshapelets = findShapelets(a,target_train,dt,k)\n",
    "k = len(kshapelets)"
   ]
  },
  {
   "cell_type": "code",
   "execution_count": 737,
   "outputs": [
    {
     "data": {
      "text/plain": "<Figure size 432x288 with 1 Axes>",
      "image/png": "[encoded data removed]"
     },
     "metadata": {
      "needs_background": "light"
     },
     "output_type": "display_data"
    }
   ],
   "source": [
    "for shape in kshapelets:\n",
    "    if shape.length == 7:\n",
    "        plt.plot(shape.val)\n",
    "plt.title(\"Discriminatory Shapelets\")\n",
    "plt.show()"
   ],
   "metadata": {
    "collapsed": false,
    "pycharm": {
     "name": "#%%\n"
    }
   }
  },
  {
   "cell_type": "markdown",
   "source": [
    "搞个判断标准，选择较好的候选shapelet"
   ],
   "metadata": {
    "collapsed": false
   }
  },
  {
   "cell_type": "code",
   "execution_count": 738,
   "metadata": {
    "pycharm": {
     "name": "#%%\n"
    }
   },
   "outputs": [
    {
     "name": "stderr",
     "output_type": "stream",
     "text": [
      "100%|██████████| 100/100 [00:02<00:00, 34.18it/s]\n"
     ]
    }
   ],
   "source": [
    "dataset = np.zeros((sample_nums,k))\n",
    "for i,sp in enumerate(tqdm(kshapelets)):\n",
    "    Ds = findDistances(sp,sp.length,a)\n",
    "    dataset[:,i] = Ds\n",
    "dataset = np.nan_to_num(dataset)\n",
    "# print(dataset)"
   ]
  },
  {
   "cell_type": "code",
   "execution_count": 739,
   "metadata": {},
   "outputs": [
    {
     "name": "stderr",
     "output_type": "stream",
     "text": [
      "100%|██████████| 100/100 [00:07<00:00, 12.79it/s]\n"
     ]
    }
   ],
   "source": [
    "dataset_test = np.zeros((test_nums,k))\n",
    "b = genDiffSeries(data_test)\n",
    "for i,sp in enumerate(tqdm(kshapelets)):\n",
    "    Ds = findDistances(sp,sp.length,b)\n",
    "    dataset_test[:,i] = Ds\n",
    "dataset_test = np.nan_to_num(dataset_test)"
   ]
  },
  {
   "cell_type": "code",
   "execution_count": 740,
   "metadata": {},
   "outputs": [],
   "source": [
    "from sklearn.linear_model import LogisticRegressionCV\n",
    "from sklearn.svm import LinearSVC\n",
    "from sklearn.preprocessing import StandardScaler\n",
    "from sklearn.metrics import classification_report\n",
    "from sklearn.metrics import accuracy_score"
   ]
  },
  {
   "cell_type": "code",
   "execution_count": 741,
   "metadata": {
    "scrolled": true
   },
   "outputs": [],
   "source": [
    "sc = StandardScaler()\n",
    "# scc = sc.fit_transform(dataset)\n",
    "# np.set_printoptions(threshold=np.inf)\n",
    "# print(dataset)\n",
    "# print(scc)\n",
    "\n",
    "# model = LogisticRegressionCV(max_iter=100000).fit(sc.fit_transform(dataset),target_train)\n",
    "model = LinearSVC(max_iter=100000).fit(sc.fit_transform(dataset),target_train)"
   ]
  },
  {
   "cell_type": "code",
   "execution_count": 742,
   "metadata": {
    "scrolled": true
   },
   "outputs": [
    {
     "name": "stdout",
     "output_type": "stream",
     "text": [
      "              precision    recall  f1-score   support\n",
      "\n",
      "           0       0.88      0.93      0.90        15\n",
      "           1       1.00      1.00      1.00        15\n",
      "           2       1.00      1.00      1.00        15\n",
      "           3       1.00      0.93      0.97        15\n",
      "           4       1.00      1.00      1.00        15\n",
      "           5       1.00      0.93      0.97        15\n",
      "           6       0.93      0.93      0.93        15\n",
      "           7       0.94      1.00      0.97        15\n",
      "\n",
      "    accuracy                           0.97       120\n",
      "   macro avg       0.97      0.97      0.97       120\n",
      "weighted avg       0.97      0.97      0.97       120\n",
      "\n",
      "0.9666666666666667\n"
     ]
    }
   ],
   "source": [
    "print(classification_report(target_train,model.predict(sc.transform(dataset))))\n",
    "print(accuracy_score(target_train,model.predict(sc.transform(dataset))))"
   ]
  },
  {
   "cell_type": "code",
   "execution_count": 743,
   "metadata": {
    "scrolled": true
   },
   "outputs": [
    {
     "name": "stdout",
     "output_type": "stream",
     "text": [
      "              precision    recall  f1-score   support\n",
      "\n",
      "           0       0.35      0.45      0.40        40\n",
      "           1       0.64      0.57      0.61        40\n",
      "           2       0.54      0.55      0.54        40\n",
      "           3       0.62      0.75      0.68        40\n",
      "           4       0.86      0.75      0.80        40\n",
      "           5       0.52      0.57      0.55        40\n",
      "           6       0.56      0.55      0.56        40\n",
      "           7       0.35      0.23      0.27        40\n",
      "\n",
      "    accuracy                           0.55       320\n",
      "   macro avg       0.56      0.55      0.55       320\n",
      "weighted avg       0.56      0.55      0.55       320\n",
      "\n",
      "0.553125\n"
     ]
    }
   ],
   "source": [
    "print(classification_report(target_test,model.predict(sc.transform(dataset_test))))\n",
    "print(accuracy_score(target_test,model.predict(sc.transform(dataset_test))))"
   ]
  },
  {
   "cell_type": "code",
   "execution_count": 743,
   "metadata": {},
   "outputs": [],
   "source": []
  },
  {
   "cell_type": "markdown",
   "source": [
    "todo:\n",
    "优先选择样本产生多的？？"
   ],
   "metadata": {
    "collapsed": false
   }
  }
 ],
 "metadata": {
  "kernelspec": {
   "display_name": "Python 3 (ipykernel)",
   "language": "python",
   "name": "python3"
  },
  "language_info": {
   "codemirror_mode": {
    "name": "ipython",
    "version": 3
   },
   "file_extension": ".py",
   "mimetype": "text/x-python",
   "name": "python",
   "nbconvert_exporter": "python",
   "pygments_lexer": "ipython3",
   "version": "3.8.2"
  }
 },
 "nbformat": 4,
 "nbformat_minor": 4
}
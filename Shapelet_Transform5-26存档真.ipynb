{
 "cells": [
  {
   "cell_type": "code",
   "execution_count": 1549,
   "metadata": {},
   "outputs": [],
   "source": [
    "import numpy as np\n",
    "import pandas as pd\n",
    "from scipy.stats import f_oneway\n",
    "from scipy.spatial.distance import cdist\n",
    "from sklearn.manifold import TSNE\n",
    "import matplotlib.pyplot as plt\n",
    "import seaborn as sns\n",
    "from tqdm import tqdm\n",
    "import heapq as hq"
   ]
  },
  {
   "cell_type": "code",
   "execution_count": 1550,
   "metadata": {
    "pycharm": {
     "name": "#%%\n"
    }
   },
   "outputs": [],
   "source": [
    "# 计算方差窗口的大小\n",
    "def computeWinSize(length, b):\n",
    "    if 0 < length <= b:\n",
    "        return 1\n",
    "    else:\n",
    "        return length // b"
   ]
  },
  {
   "cell_type": "code",
   "execution_count": 1551,
   "metadata": {
    "pycharm": {
     "name": "#%%\n"
    }
   },
   "outputs": [],
   "source": [
    "# 计算标准差数组\n",
    "def computeStdArr(series, b):\n",
    "    l = len(series)\n",
    "    # 窗口下取整\n",
    "    w = computeWinSize(l, b)\n",
    "    # print(w)\n",
    "    res = []\n",
    "    for i in range(w, l - w):\n",
    "        win_arr = [0 for i in range(2 * w + 1)]\n",
    "        cnt = 0\n",
    "        for j in range(i - w, w + i + 1):\n",
    "            win_arr[cnt] = series[j]\n",
    "            cnt += 1\n",
    "        std = np.std(win_arr, ddof=0)\n",
    "        res.append(std)\n",
    "    return res"
   ]
  },
  {
   "cell_type": "code",
   "execution_count": 1552,
   "metadata": {
    "pycharm": {
     "name": "#%%\n"
    }
   },
   "outputs": [],
   "source": [
    "# 选择L*α最大的点的下标,，保留下标\n",
    "def selectLargePoint(series, a):\n",
    "    l = len(series)\n",
    "    # 生成l*a个\n",
    "    res = hq.nlargest(int(l * a), range(l), key=lambda x: series[x])\n",
    "    return res"
   ]
  },
  {
   "cell_type": "code",
   "execution_count": 1553,
   "metadata": {
    "pycharm": {
     "name": "#%%\n"
    }
   },
   "outputs": [],
   "source": [
    "# 判断是否为波峰波谷\n",
    "def isPeakOrValley(std_arr, index, b):\n",
    "    win_size = computeWinSize(len(std_arr), b)\n",
    "    flag = False\n",
    "    if win_size == 1:\n",
    "        if ((std_arr[index] > std_arr[index - 1] and std_arr[index] > std_arr[index + 1]) or (\n",
    "                std_arr[index] < std_arr[index - 1] and std_arr[index] < std_arr[index + 1])):\n",
    "            flag = True\n",
    "    elif win_size == 2:\n",
    "        if ((std_arr[index] >= std_arr[index - 1] and std_arr[index] > std_arr[index - 2] and std_arr[index] >= std_arr[\n",
    "            index + 1] and std_arr[index] > std_arr[index + 2])\n",
    "                or\n",
    "                (std_arr[index] <= std_arr[index - 1] and std_arr[index] < std_arr[index - 2] and std_arr[index] <=\n",
    "                 std_arr[\n",
    "                     index + 1]) and std_arr[index] < std_arr[index + 2]):\n",
    "            flag = True\n",
    "    elif win_size == 3:\n",
    "        if ((std_arr[index] >= std_arr[index - 1] and std_arr[index] > std_arr[index - 2] and std_arr[index] > std_arr[\n",
    "            index - 3]\n",
    "             and std_arr[index] >= std_arr[index + 1] and std_arr[index] > std_arr[index + 2] and std_arr[index] >\n",
    "             std_arr[\n",
    "                 index + 3])\n",
    "                or\n",
    "                (std_arr[index] <= std_arr[index - 1] and std_arr[index] < std_arr[index - 2] and std_arr[index] <\n",
    "                 std_arr[index - 3]) and std_arr[index] <= std_arr[index + 1] and std_arr[index] < std_arr[\n",
    "                    index + 2] and std_arr[index] < std_arr[index + 3]):\n",
    "            flag = True\n",
    "    elif win_size == 4:\n",
    "        if ((std_arr[index] >= std_arr[index - 1] and std_arr[index] > std_arr[index - 2] and std_arr[index] > std_arr[\n",
    "            index - 3] and std_arr[index] > std_arr[index - 4]\n",
    "             and std_arr[index] >= std_arr[index + 1] and std_arr[index] > std_arr[index + 2] and std_arr[index] >\n",
    "             std_arr[\n",
    "                 index + 3] and std_arr[index] > std_arr[index + 4])\n",
    "                or\n",
    "                (std_arr[index] <= std_arr[index - 1] and std_arr[index] < std_arr[index - 2] and std_arr[index] <\n",
    "                 std_arr[\n",
    "                     index - 3] and std_arr[index] < std_arr[index - 4]\n",
    "                 and std_arr[index] <= std_arr[index + 1] and std_arr[index] < std_arr[index + 2] and std_arr[index] <\n",
    "                 std_arr[index + 3] and std_arr[index] < std_arr[index + 4])):\n",
    "            flag = True\n",
    "    else:\n",
    "        if ((std_arr[index] > std_arr[index - 1] and std_arr[index] > std_arr[index - 2] and std_arr[index] > std_arr[\n",
    "            index - 3] and std_arr[index] > std_arr[index - 4] and std_arr[index] > std_arr[index - 5]\n",
    "             and std_arr[index] > std_arr[index + 1] and std_arr[index] > std_arr[index + 2] and std_arr[index] >\n",
    "             std_arr[\n",
    "                 index + 3] and std_arr[index] > std_arr[index + 4] and std_arr[index] > std_arr[index + 5])\n",
    "                or\n",
    "                (std_arr[index] < std_arr[index - 1] and std_arr[index] < std_arr[index - 2] and std_arr[index] <\n",
    "                 std_arr[\n",
    "                     index - 3] and std_arr[index] < std_arr[index - 4] and std_arr[index] < std_arr[index - 5]\n",
    "                 and std_arr[index] < std_arr[index + 1] and std_arr[index] < std_arr[index + 2] and std_arr[index] <\n",
    "                 std_arr[\n",
    "                     index + 3] and std_arr[index] < std_arr[index + 4] and std_arr[index] < std_arr[index + 5])):\n",
    "            flag = True\n",
    "    return flag\n",
    "\n"
   ]
  },
  {
   "cell_type": "code",
   "execution_count": 1554,
   "metadata": {
    "pycharm": {
     "name": "#%%\n"
    }
   },
   "outputs": [],
   "source": [
    "# 找到所有合适的区间\n",
    "def fitPoint(stdA, indexA, b):\n",
    "    w = computeWinSize(len(stdA), b)\n",
    "    l = len(indexA)\n",
    "    res = []\n",
    "    for i in range(0, l):\n",
    "        val = indexA[i]\n",
    "        if w <= val < l - w:\n",
    "            if isPeakOrValley(stdA, val, b):\n",
    "                res.append(val + 2 * w + 1)\n",
    "    return res"
   ]
  },
  {
   "cell_type": "code",
   "execution_count": 1555,
   "metadata": {
    "pycharm": {
     "name": "#%%\n"
    }
   },
   "outputs": [],
   "source": [
    "# 提取特征关键点\n",
    "def extractFeaturePoint(arr, a, b):\n",
    "    stdArrOne = computeStdArr(arr, b)\n",
    "    largePoint = selectLargePoint(stdArrOne, a)\n",
    "    indexArr = fitPoint(stdArrOne, largePoint, b)\n",
    "    return indexArr"
   ]
  },
  {
   "cell_type": "code",
   "execution_count": 1556,
   "metadata": {
    "pycharm": {
     "name": "#%%\n"
    }
   },
   "outputs": [],
   "source": [
    "# 判断有几个关键点与它相近\n",
    "def closeNums(keyList,key,threshold):\n",
    "    cnt = 0\n",
    "    cnt += keyList.count(key)\n",
    "    for i in range(1,threshold):\n",
    "        a = key + i\n",
    "        b = key - i\n",
    "        cnt += keyList.count(a)\n",
    "        cnt += keyList.count(b)\n",
    "    return cnt"
   ]
  },
  {
   "cell_type": "code",
   "execution_count": 1557,
   "metadata": {
    "pycharm": {
     "name": "#%%\n"
    }
   },
   "outputs": [],
   "source": [
    "class keyPoint:\n",
    "    def __init__(self,key,cnt,dim):\n",
    "        self.key = key\n",
    "        self.cnt = cnt\n",
    "        self.dim = dim"
   ]
  },
  {
   "cell_type": "code",
   "execution_count": 1558,
   "metadata": {
    "pycharm": {
     "name": "#%%\n"
    }
   },
   "outputs": [],
   "source": [
    "class smallKeyPoint:\n",
    "    def __init__(self,key,dim):\n",
    "        self.key = key\n",
    "        self.dim = dim"
   ]
  },
  {
   "cell_type": "code",
   "execution_count": 1559,
   "metadata": {
    "pycharm": {
     "name": "#%%\n"
    }
   },
   "outputs": [],
   "source": [
    "# 找到较为相近的关键点\n",
    "def selectKeys(data,alp,blt,howclose=2):\n",
    "    # 原始data顺序 样本数 维度数 序列长度\n",
    "    dim_nums = data.shape[1]\n",
    "    sample_nums = data.shape[0]\n",
    "    all_keys = []\n",
    "    for sm in tqdm(range(sample_nums)):\n",
    "        one_sample  = data[sm]\n",
    "        # 每个维度的关键点下标集合\n",
    "        key_points = []\n",
    "        # 所为维度下的关键点下标\n",
    "        ex_key_points = []\n",
    "        for dn in range(dim_nums):\n",
    "            # keys 关键点的下标\n",
    "            keys = extractFeaturePoint(one_sample[dn],alp,blt)\n",
    "            key_points.append(keys)\n",
    "        # 有一部分在构建的序列上\n",
    "\n",
    "        for dn in range(dim_nums):\n",
    "            # 一个维度上的关键下标\n",
    "            kl = key_points[dn]\n",
    "            # 去掉自己维度的下标\n",
    "            tmp_key_points = key_points[:]\n",
    "            tmp_key_points.remove(kl)\n",
    "            key_list = []\n",
    "            for i in tmp_key_points:\n",
    "                key_list.extend(i)\n",
    "\n",
    "            ekl = []\n",
    "            for k in kl:\n",
    "                cnt = closeNums(key_list,k,howclose)\n",
    "                ekl.append(keyPoint(k,cnt,dn))\n",
    "            ex_key_points.extend(ekl)\n",
    "\n",
    "        ex_key_points.sort(key=lambda x:x.cnt,reverse=True)\n",
    "        # 筛选\n",
    "        res_keys = ex_key_points[:]\n",
    "        # res = 0\n",
    "        # for k in res_keys:\n",
    "        #     if k.cnt >= res_keys[0].cnt * 0.9:\n",
    "        #         res += 1\n",
    "        # res_keys = res_keys[:res]\n",
    "        all_keys.append(res_keys)\n",
    "    return all_keys"
   ]
  },
  {
   "cell_type": "code",
   "execution_count": 1560,
   "metadata": {
    "pycharm": {
     "name": "#%%\n"
    }
   },
   "outputs": [],
   "source": [
    "class shapelet:\n",
    "    def __init__(self,keyPoint,ylt,st,ed,length,val,sample):\n",
    "        # keyPoint 由那个keyPoint生成\n",
    "        # ylt 松弛是多少\n",
    "        # st 起始位置\n",
    "        # ed 终止位置\n",
    "        # val shapelet在序列中的实际的值\n",
    "        self.quality = None\n",
    "        self.keyPoint = keyPoint\n",
    "        self.ylt = ylt\n",
    "        self.st = st\n",
    "        self.ed = ed\n",
    "        self.length = length\n",
    "        self.val = val\n",
    "        self.sample = sample\n",
    "    def setQuality(self,quality):\n",
    "        self.quality = quality"
   ]
  },
  {
   "cell_type": "code",
   "execution_count": 1561,
   "metadata": {
    "pycharm": {
     "name": "#%%\n"
    }
   },
   "outputs": [],
   "source": [
    "def generateCandidates(s,sm,l,keyP,ylt):\n",
    "    # sm 为单个样本[维度，长度]\n",
    "    # keyP 应该为一个keyPoint\n",
    "    # ylt为松弛参数\n",
    "    candidate = []\n",
    "    if l % 2 == 1:\n",
    "        l = l // 2\n",
    "        dim = keyP.dim\n",
    "        s = s[dim]\n",
    "        for i in range(-ylt,ylt+1):\n",
    "            # 从中心点两侧的松弛长度进行计算\n",
    "            if keyP.key - i - l < 0:\n",
    "                continue\n",
    "            left = keyP.key - i - l\n",
    "            if keyP.key - i + l + 1 >= len(s):\n",
    "                continue\n",
    "            right = keyP.key - i + l + 1\n",
    "            spt = shapelet(keyPoint=keyP,ylt=ylt,st=left,ed=right - 1,length=right-left,val=s[left:right],sample=sm)\n",
    "            candidate.append(spt)\n",
    "    else:\n",
    "        l = l // 2\n",
    "        dim = keyP.dim\n",
    "        s = s[dim]\n",
    "        for i in range(-ylt,ylt+1):\n",
    "            # 从中心点两侧的松弛长度进行计算\n",
    "            if keyP.key - i - l < 0:\n",
    "                continue\n",
    "            left = keyP.key - i - l\n",
    "            if keyP.key - i + l >= len(s):\n",
    "                continue\n",
    "            right = keyP.key - i + l\n",
    "            spt = shapelet(keyPoint=keyP,ylt=ylt,st=left,ed=right - 1,length=right-left,val=s[left:right],sample=sm)\n",
    "            candidate.append(spt)\n",
    "            if keyP.key - i - l + 1< 0:\n",
    "                continue\n",
    "            left = keyP.key - i - l + 1\n",
    "            if keyP.key - i + l + 1 >= len(s):\n",
    "                continue\n",
    "            right = keyP.key - i + l + 1\n",
    "            spt = shapelet(keyPoint=keyP,ylt=ylt,st=left,ed=right - 1,length=right-left,val=s[left:right],sample=sm)\n",
    "            candidate.append(spt)\n",
    "    return candidate"
   ]
  },
  {
   "cell_type": "code",
   "execution_count": 1562,
   "metadata": {
    "pycharm": {
     "name": "#%%\n"
    }
   },
   "outputs": [],
   "source": [
    "import collections\n",
    "def findShapeletCandidates(data,lmin,lmax,keys,ylt):\n",
    "    sample_nums = data.shape[0]\n",
    "    candidate = []\n",
    "    for sm in tqdm(range(sample_nums)):\n",
    "        s = data[sm]\n",
    "        keyList = keys[sm]\n",
    "        for k in keyList:\n",
    "            # lmin - lmax\n",
    "            for l in range(lmin,lmax+1):\n",
    "                candidate.extend(generateCandidates(s,sm,l,k,ylt))\n",
    "    # print(len(candidate))\n",
    "    dt = collections.defaultdict(list)\n",
    "    for cd in candidate:\n",
    "        dt[cd.length].append(cd)\n",
    "\n",
    "    # 对dt进行剪枝\n",
    "    v = dt.keys()\n",
    "    # 对于每个长度\n",
    "    #0 1 2 3 4 5 6 7 8 9 10\n",
    "    for k in v:\n",
    "        ls = dt[k]\n",
    "        tmpls = []\n",
    "    #     每个维度都选几个\n",
    "        res = collections.defaultdict(list)\n",
    "        for i in ls:\n",
    "            # print(type(i))\n",
    "            res[i.keyPoint.dim].append(i)\n",
    "        dims = res.keys()\n",
    "        # 取每个维度的前1000\n",
    "\n",
    "        for i in dims:\n",
    "            tmp = res[i]\n",
    "            smp = random.sample(tmp,50)\n",
    "            tmpls.extend(smp)\n",
    "        dt[k] = tmpls\n",
    "    return dt\n"
   ]
  },
  {
   "cell_type": "code",
   "execution_count": 1563,
   "metadata": {
    "pycharm": {
     "name": "#%%\n"
    }
   },
   "outputs": [],
   "source": [
    "def findDistances(c,l,data):\n",
    "    # 查找获选shapelet在每个样本上的最小值\n",
    "    ds = []\n",
    "    dim = c.keyPoint.dim\n",
    "    data = np.transpose(data,axes=(1,0,2))\n",
    "    sers = data[dim]\n",
    "    for s in sers:\n",
    "        cp = [s[i : i + l] for i in range(0, len(s)-l+1, 1)]\n",
    "        ds.append(cdist([c.val],cp,metric='seuclidean').min())\n",
    "    return np.array(ds)"
   ]
  },
  {
   "cell_type": "code",
   "execution_count": 1564,
   "metadata": {
    "pycharm": {
     "name": "#%%\n"
    }
   },
   "outputs": [],
   "source": [
    "def assessCandidate(ds,label):\n",
    "    class_groups = []\n",
    "    for c in np.unique(label):\n",
    "        class_groups.append(ds[label==c].tolist())\n",
    "#  返回f值\n",
    "    return f_oneway(*class_groups).statistic"
   ]
  },
  {
   "cell_type": "code",
   "execution_count": 1565,
   "metadata": {
    "pycharm": {
     "name": "#%%\n"
    }
   },
   "outputs": [],
   "source": [
    "def sortByQuality(shapelets):\n",
    "    return sorted(shapelets, key=lambda s: s.quality,reverse=True)"
   ]
  },
  {
   "cell_type": "code",
   "execution_count": 1566,
   "metadata": {
    "pycharm": {
     "name": "#%%\n"
    }
   },
   "outputs": [],
   "source": [
    "def removeSelfSimilar(shapelets):\n",
    "    ts = shapelets[:][::-1]\n",
    "    it = []\n",
    "    for x in ts:\n",
    "        it.append(pd.Interval(x.st,x.ed,closed='both'))\n",
    "    removeIdx = []\n",
    "    l = len(it)\n",
    "    for i in range(l):\n",
    "        for j in range(i+1,l):\n",
    "            if it[i].overlaps(it[j]):\n",
    "                removeIdx.append(i)\n",
    "                break\n",
    "    res = []\n",
    "    for i in range(l):\n",
    "        if i not in removeIdx:\n",
    "            res.append(ts[i])\n",
    "\n",
    "\n",
    "    return res[::-1]"
   ]
  },
  {
   "cell_type": "code",
   "execution_count": 1567,
   "metadata": {
    "pycharm": {
     "name": "#%%\n"
    }
   },
   "outputs": [],
   "source": [
    "def merge(k,kShapelets,shapelets):\n",
    "    total_shapelets = kShapelets + shapelets\n",
    "    return sortByQuality(total_shapelets)[:k]"
   ]
  },
  {
   "cell_type": "code",
   "execution_count": 1568,
   "metadata": {
    "pycharm": {
     "name": "#%%\n"
    }
   },
   "outputs": [],
   "source": [
    "def findShapelets(data,label,dt,k):\n",
    "    kShapelets = []\n",
    "    # l 为长度\n",
    "    for l in dt.keys():\n",
    "        # cd 是单个长度的所有样本和维度下的shaplet候选\n",
    "        cd = dt[l]\n",
    "        if len(cd) == 0:\n",
    "            continue\n",
    "        for i,c in enumerate(tqdm(cd)):\n",
    "            ds = findDistances(c,l,data)\n",
    "            quality = assessCandidate(ds,label)\n",
    "            cd[i].setQuality(quality)\n",
    "        cd = sortByQuality(cd)\n",
    "        # print(len(cd))\n",
    "        cd = removeSelfSimilar(cd)\n",
    "        # print(len(cd))\n",
    "        kShapelets = merge(k,kShapelets,cd)\n",
    "    return kShapelets\n",
    "        # print(len(cd))\n",
    "        # print(cd[0].quality,cd[1].quality,cd[-1].quality)\n",
    "    # print(k)"
   ]
  },
  {
   "cell_type": "code",
   "execution_count": 1569,
   "metadata": {
    "pycharm": {
     "name": "#%%\n"
    }
   },
   "outputs": [],
   "source": [
    "# np.vstack([[2,3,4,5],[1,2,3,4],[1,2,3,5]])"
   ]
  },
  {
   "cell_type": "code",
   "execution_count": 1570,
   "metadata": {
    "pycharm": {
     "name": "#%%\n"
    }
   },
   "outputs": [],
   "source": [
    "# a = cdist([[1,2,3,4]],[[2,3,4,10],[1,2,3,4],[1,2,3,5]],metric='euclidean').min()\n",
    "# print(a)"
   ]
  },
  {
   "cell_type": "code",
   "execution_count": 1571,
   "metadata": {
    "pycharm": {
     "name": "#%%\n"
    }
   },
   "outputs": [],
   "source": [
    "# def SelectShapelet(data,label,lmin,lmax,alp,blt,ylt):\n",
    "#     # 原始data顺序 样本数 维度数 序列长度\n",
    "#     data = np.transpose(data,axes=(1,0,2))\n",
    "#     # 现在data顺序 维度数 样本数 序列长度\n",
    "#     dim_nums = data.shape[0]\n",
    "#     sample_nums = data.shape[1]\n",
    "#     for dn in tqdm(range(dim_nums)):\n",
    "#         T = data[dn]\n",
    "#         keyPoints = []\n",
    "#         for sm in range(sample_nums):\n",
    "#             keyPoints.append(extractFeaturePoint(data[dn][sm],alp,blt))\n",
    "#\n",
    "#\n",
    "#\n",
    "#\n",
    "#\n",
    "#\n",
    "#         # print(keyPoints)\n",
    "#         precompute_Wl = {l : create_Wl(T,l,keyPoints,sample_nums,ylt) for l in np.arange(lmin,lmax+1)}\n",
    "#\n",
    "#         kShapelets = []\n",
    "#         for i,Ti in enumerate(T):\n",
    "#             shapelets = []\n",
    "#             for l in np.arange(lmin,lmax+1):\n",
    "#                 # S为所有的长度\n",
    "#                 Al = precompute_Wl[l]\n",
    "#                 Wl,Pl = Al[0],Al[1]\n",
    "#                 for index,S in enumerate(Wl[i]):\n",
    "#                      # 和所有样本上的候选者比较\n",
    "#                     #  S 区间，keypoint，松弛长度\n",
    "#                     # Ds,Indx = findDistances(S,Wl)\n",
    "#\n",
    "#                     Ds = findDistances(S,Wl)\n",
    "#                     quality = assessCandidate(Ds,label)\n",
    "#                     #  区间值 度量  区间 关键点\n",
    "#                     shapelets.append((S,quality,pd.Interval(Pl[index][1],Pl[index][2]-1,closed='both'),Pl[index][0]))\n",
    "#             shapelets = sortByQuality(shapelets)\n",
    "#             shapelets = removeSelfSimilar(shapelets)\n",
    "#             kShapelets = merge(k,kShapelets,shapelets)\n",
    "#         print(kShapelets)\n",
    "#\n",
    "#\n",
    "#\n",
    "#\n",
    "#\n",
    "#\n",
    "#\n"
   ]
  },
  {
   "cell_type": "code",
   "execution_count": 1572,
   "metadata": {
    "pycharm": {
     "name": "#%%\n"
    }
   },
   "outputs": [],
   "source": [
    "def load_raw_ts(path, dataset):\n",
    "    path = path + \"raw//\" + dataset + \"//\"\n",
    "    # 训练集\n",
    "    x_train = np.load(path + 'X_train.npy')\n",
    "    x_train = np.transpose(x_train, axes=(0, 2, 1))\n",
    "    x_test = np.load(path + 'X_test.npy')\n",
    "    x_test = np.transpose(x_test, axes=(0, 2, 1))\n",
    "    y_train = np.load(path + 'y_train.npy')\n",
    "    y_test = np.load(path + 'y_test.npy')\n",
    "    labels = np.concatenate((y_train, y_test), axis=0)\n",
    "    nclass = int(np.amax(labels)) + 1\n",
    "    return x_train, x_test, y_train.reshape(-1), y_test.reshape(-1), nclass"
   ]
  },
  {
   "cell_type": "code",
   "execution_count": 1573,
   "metadata": {
    "pycharm": {
     "name": "#%%\n"
    }
   },
   "outputs": [],
   "source": [
    "# target_train 为标签 data_train 为序列\n",
    "data_train, data_test, target_train, target_test, nclass = load_raw_ts(\"D://tmppro//data//\", \"UWaveGestureLibrary\")\n",
    "sample_nums = data_train.shape[0]\n",
    "dim_nums = data_train.shape[1]\n",
    "series_length = data_train.shape[2]\n",
    "test_nums = data_test.shape[0]"
   ]
  },
  {
   "cell_type": "code",
   "execution_count": 1574,
   "metadata": {},
   "outputs": [],
   "source": [
    "import random\n",
    "\n",
    "lmin = 3\n",
    "lmax = 13\n",
    "# 选取shapelet的数量\n",
    "k = 150\n",
    "alp = 0.5\n",
    "# k = 20\n",
    "# alp = random.choice([0.3, 0.4])\n",
    "# blt = random.choice([100, 90, 80, 70, 60, 50])\n",
    "blt = 100\n",
    "# ylt = random.choice([5,6,7,8])\n",
    "ylt = 5\n",
    "dis = 2"
   ]
  },
  {
   "cell_type": "code",
   "execution_count": 1575,
   "outputs": [
    {
     "name": "stdout",
     "output_type": "stream",
     "text": [
      "150\n"
     ]
    }
   ],
   "source": [
    "print(k)"
   ],
   "metadata": {
    "collapsed": false,
    "pycharm": {
     "name": "#%%\n"
    }
   }
  },
  {
   "cell_type": "code",
   "execution_count": 1576,
   "metadata": {
    "pycharm": {
     "name": "#%%\n"
    }
   },
   "outputs": [],
   "source": [
    "#对于每个样本生成差异序列序列\n",
    "def genDiffSeries(data):\n",
    "    sample_nums = data.shape[0]\n",
    "    dim_nums = data.shape[1]\n",
    "    series_length = data.shape[2]\n",
    "    gen_data = []\n",
    "    for sn in range(sample_nums):\n",
    "        sm = data[sn]\n",
    "        res = []\n",
    "        # 先将原始的每个维度的加进入\n",
    "        for i in range(dim_nums):\n",
    "            res.append(sm[i])\n",
    "        # 再计算每个减法维度，然后依次加进去\n",
    "        for i in range(dim_nums-1):\n",
    "            for j in range(i+1,dim_nums):\n",
    "                s1 = sm[i]\n",
    "                s2 = sm[j]\n",
    "                news = [0 for _ in range(series_length)]\n",
    "                for k in range(series_length):\n",
    "                    news[k] = s1[k] - s2[k]\n",
    "                res.append(np.array(news))\n",
    "        gen_data.append(np.array(res))\n",
    "    return np.array(gen_data)"
   ]
  },
  {
   "cell_type": "code",
   "execution_count": 1577,
   "metadata": {
    "pycharm": {
     "name": "#%%\n"
    }
   },
   "outputs": [
    {
     "name": "stdout",
     "output_type": "stream",
     "text": [
      "(120, 3, 315)\n",
      "(120, 6, 315)\n"
     ]
    }
   ],
   "source": [
    "print(data_train.shape)\n",
    "a = genDiffSeries(data_train)\n",
    "print(a.shape)\n"
   ]
  },
  {
   "cell_type": "code",
   "execution_count": 1578,
   "metadata": {
    "pycharm": {
     "name": "#%%\n"
    }
   },
   "outputs": [
    {
     "name": "stderr",
     "output_type": "stream",
     "text": [
      "100%|██████████| 120/120 [00:06<00:00, 18.91it/s]\n"
     ]
    }
   ],
   "source": [
    "keys = selectKeys(a,alp,blt,2)"
   ]
  },
  {
   "cell_type": "code",
   "execution_count": 1579,
   "metadata": {},
   "outputs": [],
   "source": [
    "# print(keys)"
   ]
  },
  {
   "cell_type": "code",
   "execution_count": 1580,
   "metadata": {
    "pycharm": {
     "name": "#%%\n"
    }
   },
   "outputs": [
    {
     "name": "stderr",
     "output_type": "stream",
     "text": [
      "100%|██████████| 120/120 [00:02<00:00, 44.58it/s]\n"
     ]
    }
   ],
   "source": [
    "dt = findShapeletCandidates(a,lmin,lmax,keys,ylt)"
   ]
  },
  {
   "cell_type": "code",
   "execution_count": 1581,
   "metadata": {
    "pycharm": {
     "name": "#%%\n"
    }
   },
   "outputs": [
    {
     "name": "stderr",
     "output_type": "stream",
     "text": [
      "100%|██████████| 300/300 [00:08<00:00, 33.71it/s]\n",
      "100%|██████████| 300/300 [00:08<00:00, 33.48it/s]\n",
      "100%|██████████| 300/300 [00:09<00:00, 32.19it/s]\n",
      "100%|██████████| 300/300 [00:09<00:00, 32.28it/s]\n",
      "100%|██████████| 300/300 [00:10<00:00, 27.78it/s]\n",
      "100%|██████████| 300/300 [00:10<00:00, 29.34it/s]\n",
      "100%|██████████| 300/300 [00:09<00:00, 30.90it/s]\n",
      "100%|██████████| 300/300 [00:09<00:00, 32.87it/s]\n",
      "100%|██████████| 300/300 [00:09<00:00, 31.31it/s]\n",
      "100%|██████████| 300/300 [00:09<00:00, 31.98it/s]\n",
      "100%|██████████| 300/300 [00:09<00:00, 32.53it/s]\n"
     ]
    }
   ],
   "source": [
    "kshapelets = findShapelets(a,target_train,dt,k)\n",
    "k = len(kshapelets)"
   ]
  },
  {
   "cell_type": "code",
   "execution_count": 1582,
   "outputs": [
    {
     "name": "stdout",
     "output_type": "stream",
     "text": [
      "136\n"
     ]
    }
   ],
   "source": [
    "print(k)"
   ],
   "metadata": {
    "collapsed": false,
    "pycharm": {
     "name": "#%%\n"
    }
   }
  },
  {
   "cell_type": "code",
   "execution_count": 1583,
   "outputs": [
    {
     "data": {
      "text/plain": "<Figure size 432x288 with 1 Axes>",
      "image/png": "[encoded data removed]"
     },
     "metadata": {
      "needs_background": "light"
     },
     "output_type": "display_data"
    }
   ],
   "source": [
    "for shape in kshapelets:\n",
    "    if shape.length == 13:\n",
    "        plt.plot(shape.val)\n",
    "plt.title(\"Discriminatory Shapelets\")\n",
    "plt.show()"
   ],
   "metadata": {
    "collapsed": false,
    "pycharm": {
     "name": "#%%\n"
    }
   }
  },
  {
   "cell_type": "code",
   "execution_count": 1584,
   "outputs": [
    {
     "name": "stdout",
     "output_type": "stream",
     "text": [
      "[-3.1239 -3.1652 -3.1353]\n",
      "[-0.11874  -0.052375  0.075382]\n",
      "[-0.70233 -0.52703 -0.3495 ]\n",
      "[-0.096799  0.020028  0.17075 ]\n",
      "[ 0.36273   0.092496 -0.16993 ]\n",
      "[-2.5842  -2.5201  -2.40334]\n",
      "[-0.049378  0.17128   0.38012 ]\n",
      "[-0.71653 -0.63343 -0.54641]\n",
      "[-2.12593 -2.23298 -2.33993]\n",
      "[0.042331 0.47467  0.83029 ]\n",
      "[-2.2977 -2.3447 -2.4212]\n",
      "[2.38405 2.48667 2.5856 ]\n",
      "[-1.4645 -1.7712 -1.9867]\n",
      "[-0.87737 -0.85803 -0.83807]\n",
      "[1.0265 1.3161 1.6058]\n",
      "[0.52059 0.67811 0.83785]\n",
      "[0.34271 0.44603 0.53349]\n",
      "[-0.41893 -0.3589  -0.28486]\n",
      "[-2.4408  -2.50534 -2.55787]\n",
      "[-2.0577 -2.1594 -2.3103]\n",
      "[-1.37035 -1.3359  -1.30055]\n",
      "[-1.5388 -1.5739 -1.6367]\n",
      "[-0.33062 -0.54267 -0.77445]\n",
      "[0.28951 0.25036 0.21122]\n",
      "[-1.6726 -1.6726 -1.6726]\n",
      "[1.6796 1.5763 1.4624]\n",
      "[-0.98171 -0.98171 -0.98171]\n",
      "[-0.17593  -0.044407  0.087117  0.21864 ]\n",
      "[-0.2847   -0.12171   0.032556  0.073484]\n",
      "[0.3335   0.23192  0.13033  0.028747]\n",
      "[-2.6177  -2.5842  -2.5201  -2.40334]\n",
      "[0.032724 0.3201   0.58835  0.83154 ]\n",
      "[0.066283 0.16785  0.24935  0.31898 ]\n",
      "[-0.22014  -0.19186  -0.1244   -0.022641]\n",
      "[-2.0958 -2.0958 -2.0958 -2.043 ]\n",
      "[-1.28713 -1.51128 -1.73543 -1.85598]\n",
      "[0.25078  0.17374  0.10078  0.006574]\n",
      "[0.28438  0.22532  0.14282  0.047416]\n",
      "[0.26594 0.34636 0.42677 0.50718]\n",
      "[-2.83019 -2.85746 -2.8309  -2.77264]\n",
      "[-1.41993 -1.5145  -1.53832 -1.45187]\n",
      "[-1.3812 -1.4924 -1.6233 -1.703 ]\n",
      "[-2.3567 -2.2877 -2.148  -2.0071]\n",
      "[2.1203 2.0902 2.0166 1.9252]\n",
      "[-0.59898 -0.71857 -0.83816 -0.95775]\n",
      "[-0.11095 -0.11095 -0.11095 -0.11095]\n",
      "[0.48983 0.48983 0.48983 0.49405]\n",
      "[0.71079  0.744393 0.723902 0.70164 ]\n",
      "[-0.43448  -0.31735  -0.18223  -0.044591  0.065705]\n",
      "[0.041391 0.12897  0.26409  0.42947  0.61616 ]\n",
      "[-0.54287  -0.455    -0.30378  -0.14441   0.062436]\n",
      "[-3.57008 -3.65879 -3.72269 -3.7524  -3.7355 ]\n",
      "[-2.9873 -2.9152 -2.8431 -2.771  -2.6701]\n",
      "[-0.46702  -0.35575  -0.24889  -0.14817  -0.047458]\n",
      "[-2.29837 -2.25603 -2.24883 -2.24988 -2.21478]\n",
      "[-1.95324 -1.99247 -2.16984 -2.40302 -2.61685]\n",
      "[-1.8475 -2.0234 -2.0234 -2.0361 -2.0825]\n",
      "[-0.019489  0.087616  0.19472   0.30183   0.40893 ]\n",
      "[ 1.2334    0.84074   0.41257  -0.015599 -0.44377 ]\n",
      "[0.63072 0.55477 0.47881 0.40286 0.3269 ]\n",
      "[-1.77977  -1.71445  -1.62578  -1.486817 -1.225157]\n",
      "[ 0.042863 -0.027144 -0.10753  -0.18792  -0.26044 ]\n",
      "[0.35885 0.49962 0.59618 0.69273 0.78928]\n",
      "[1.319983 1.317441 1.3148   1.312158 1.309516]\n",
      "[0.16462 0.1785  0.18583 0.18583 0.18583]\n",
      "[1.09581 1.09581 1.09581 1.09581 1.09581]\n",
      "[-0.79954 -0.51131 -0.22309  0.06514  0.35233  0.49644]\n",
      "[-0.30592  -0.13782   0.034461  0.21612   0.39948   0.58626 ]\n",
      "[-0.84178  -0.71937  -0.58635  -0.40501  -0.17083   0.073979]\n",
      "[-0.47245  -0.44525  -0.37455  -0.19703  -0.027488  0.093546]\n",
      "[-2.76942  -2.690428 -2.690428 -2.690428 -2.690428 -2.594128]\n",
      "[1.8082  1.5648  1.3711  1.1836  0.99599 0.83154]\n",
      "[-0.35262  -0.26713  -0.18414  -0.10464  -0.056435 -0.024015]\n",
      "[ 0.27266   0.1599    0.060994 -0.015078 -0.070739 -0.083872]\n",
      "[2.63445 2.53643 2.4384  2.3404  2.2447  2.1729 ]\n",
      "[-1.7777 -1.7982 -1.8393 -1.8505 -1.7921 -1.8762]\n",
      "[ 0.2379    0.006606 -0.11591  -0.30712  -0.45499  -0.55709 ]\n",
      "[-2.33975 -2.57737 -2.8059  -2.9133  -3.0258  -3.1451 ]\n",
      "[-0.98171 -0.98171 -0.98171 -0.98171 -0.98171 -0.98171]\n",
      "[-1.1942  -1.1486  -1.0592  -0.91747 -0.77573 -0.69223 -0.66437]\n",
      "[-0.58218  -0.49469  -0.4072   -0.31971  -0.23222  -0.14473  -0.057244]\n",
      "[-2.7292 -2.7727 -2.7918 -2.8032 -2.8017 -2.7808 -2.7613]\n",
      "[-1.327   -1.2741  -1.1938  -1.0895  -0.96379 -0.8139  -0.60226]\n",
      "[-0.41843  -0.35171  -0.28276  -0.21156  -0.1401   -0.068638  0.002825]\n",
      "[1.91073 2.02578 2.14524 2.26459 2.38405 2.48667 2.5856 ]\n",
      "[-1.7954  -1.85425 -1.75099 -1.42794 -1.09408 -0.97443 -1.06877]\n",
      "[-0.14776 -0.14776 -0.20854 -0.29237 -0.39797 -0.43122 -0.44649]\n",
      "[0.34801  0.31194  0.26536  0.21589  0.1652   0.11451  0.063821]\n",
      "[ 0.21921   0.21128   0.16887   0.023782 -0.010337 -0.056586 -0.18095 ]\n",
      "[-0.35749  -0.20929  -0.0528    0.096387  0.20518   0.28343   0.36167\n",
      "  0.43991 ]\n",
      "[-0.47245  -0.44525  -0.37455  -0.19703  -0.027488  0.093546  0.069875\n",
      " -0.099778]\n",
      "[-1.4703   -1.3397   -1.1993   -1.0426   -0.83255  -0.57149  -0.31043\n",
      " -0.049378]\n",
      "[0.87837 0.82482 0.77127 0.69265 0.60035 0.45337 0.29271 0.13205]\n",
      "[ 0.63593   0.57862   0.51613   0.4509    0.34819   0.23511   0.085747\n",
      " -0.082257]\n",
      "[-0.72389 -0.70079 -0.63194 -0.5308  -0.43005 -0.37718 -0.36299 -0.36299]\n",
      "[2.50926 2.64906 2.78316 2.85703 2.83058 2.73256 2.63445 2.53643]\n",
      "[0.033454 0.090186 0.14692  0.20365  0.26038  0.31712  0.37385  0.43058 ]\n",
      "[ 0.2214    0.17258   0.097548 -0.010293 -0.1062   -0.17131  -0.19671\n",
      " -0.18383 ]\n",
      "[1.68119 2.10936 2.24042 1.96015 1.43768 0.92671 0.49124 0.0624 ]\n",
      "[-0.76222 -0.62536 -0.62536 -0.50302 -0.21479  0.09728  0.52962  0.96196\n",
      "  1.3943 ]\n",
      "[-1.0401  -1.0401  -1.0312  -0.91063 -0.75636 -0.59956 -0.48329 -0.48329\n",
      " -0.48329]\n",
      "[-0.40886 -0.2124  -0.01594  0.19722  0.4401   0.8231   1.0815   1.2258\n",
      "  1.2466 ]\n",
      "[-2.90171 -3.09952 -3.2973  -3.4951  -3.657   -3.8029  -3.8999  -3.9831\n",
      " -4.0661 ]\n",
      "[ 1.159     0.81979   0.57571   0.35096   0.15713  -0.015167 -0.14292\n",
      " -0.22612  -0.27458 ]\n",
      "[ 0.41473   0.6074    0.69506   0.6555    0.50176   0.28456   0.089059\n",
      " -0.1374   -0.24506 ]\n",
      "[ 0.89327   0.73831   0.55938   0.37074   0.1929    0.052173 -0.13972\n",
      " -0.31328  -0.44191 ]\n",
      "[-2.5452  -2.5358  -2.5263  -2.5448  -2.5676  -2.5656  -2.54    -2.51203\n",
      " -2.47039]\n",
      "[-1.3297  -1.2726  -1.2575  -1.2347  -1.161   -1.0683  -0.96301 -0.83769\n",
      " -0.69401 -0.55793]\n",
      "[-0.98286 -0.89045 -0.79803 -0.70561 -0.6132  -0.52078 -0.42837 -0.35248\n",
      " -0.2806  -0.2138 ]\n",
      "[-1.2642  -1.2642  -1.2464  -1.1687  -1.0422  -0.89799 -0.75374 -0.64246\n",
      " -0.56732 -0.56732]\n",
      "[-0.58218  -0.49469  -0.4072   -0.31971  -0.23222  -0.14473  -0.057244\n",
      " -0.007212 -0.003084 -0.003084]\n",
      "[-5.0318e-01 -4.4032e-01 -3.7745e-01 -3.1458e-01 -2.5172e-01 -1.8885e-01\n",
      " -1.2599e-01 -6.3120e-02 -2.5500e-04  6.2611e-02]\n",
      "[-2.0974 -2.1209 -2.1409 -2.1602 -2.2513 -2.3599 -2.4802 -2.5763 -2.6678\n",
      " -2.744 ]\n",
      "[-1.95785 -1.96397 -1.97565 -2.0523  -2.11939 -2.1746  -2.1849  -2.1819\n",
      " -2.1652  -2.1388 ]\n",
      "[2.0405  1.7947  1.5349  1.2916  1.0703  0.90352 0.78737 0.70008 0.62985\n",
      " 0.55464]\n",
      "[-0.4989   -0.51212  -0.55744  -0.65129  -0.67851  -0.77339  -0.92146\n",
      " -0.987601 -1.06166  -1.12981 ]\n",
      "[-1.2718  -1.1301  -0.98834 -0.8466  -0.73496 -0.66437 -0.66437 -0.66437\n",
      " -0.58177 -0.38603 -0.10417]\n",
      "[-0.86231  -0.78138  -0.69922  -0.60895  -0.51707  -0.42122  -0.3315\n",
      " -0.25157  -0.17888  -0.11041  -0.047952]\n",
      "[-0.47074  -0.39841  -0.3634   -0.35297  -0.30954  -0.20335  -0.083729\n",
      "  0.06015   0.18692   0.30125   0.40975 ]\n",
      "[ 0.56523   0.5017    0.38246   0.17365  -0.063052 -0.29975  -0.51933\n",
      " -0.63764  -0.54774  -0.28177   0.028241]\n",
      "[-0.26451  -0.15332  -0.042139  0.069046  0.18023   0.29142   0.4026\n",
      "  0.51378   0.62497   0.73615   0.79731 ]\n",
      "[-0.37496  -0.29328  -0.21159  -0.1299   -0.048216  0.033471  0.10196\n",
      "  0.16099   0.21545   0.25744   0.29147 ]\n",
      "[0.58644 0.58644 0.58644 0.58644 0.59002 0.60803 0.67178 0.72006 0.74787\n",
      " 0.74787 0.74787]\n",
      "[-1.5183 -1.5076 -1.4891 -1.4707 -1.4522 -1.4338 -1.4235 -1.4131 -1.4131\n",
      " -1.4131 -1.4131]\n",
      "[-1.1894   -0.92759  -0.6053   -0.27906   0.047988  0.32392   0.56832\n",
      "  0.7837    0.98008   1.1378    1.2636    1.3563  ]\n",
      "[-1.0672  -1.0672  -1.0672  -1.0672  -1.0084  -0.89085 -0.77328 -0.65571\n",
      " -0.53815 -0.42058 -0.30957 -0.19953]\n",
      "[-1.1275   -1.0528   -0.95465  -0.8431   -0.71887  -0.58813  -0.46966\n",
      " -0.35683  -0.25781  -0.16443  -0.083464 -0.006963]\n",
      "[-1.5508  -1.4402  -1.3297  -1.2726  -1.2575  -1.2347  -1.161   -1.0683\n",
      " -0.96301 -0.83769 -0.69401 -0.55793]\n",
      "[-0.50837  -0.45343  -0.39849  -0.32621  -0.23709  -0.1474   -0.055829\n",
      "  0.035737  0.1273    0.21887   0.29962   0.37532 ]\n",
      "[-1.98116 -2.09058 -2.19165 -2.27017 -2.34126 -2.40998 -2.44112 -2.48718\n",
      " -2.57514 -2.58177 -2.53787 -2.43617]\n",
      "[-1.40373 -1.40373 -1.40373 -1.40373 -1.39984 -1.37035 -1.3359  -1.30055\n",
      " -1.26938 -1.24975 -1.24938 -1.24938]\n",
      "[-0.84236 -0.71929 -0.57843 -0.40886 -0.2124  -0.01594  0.19722  0.4401\n",
      "  0.8231   1.0815   1.2258   1.2466   1.3152 ]\n",
      "[-1.1942  -1.1486  -1.0592  -0.91747 -0.77573 -0.69223 -0.66437 -0.66437\n",
      " -0.64703 -0.59687 -0.45514 -0.3134  -0.19875]\n",
      "[-2.6997  -2.78426 -2.86881 -2.95337 -3.03792 -3.04323 -3.04634 -3.03503\n",
      " -3.01997 -2.98882 -2.9474  -2.8995  -2.8431 ]\n",
      "[-1.1308  -1.28921 -1.43243 -1.56379 -1.68421 -1.7935  -1.89191 -1.97601\n",
      " -2.04253 -2.07924 -2.11113 -2.13185 -2.13033]\n",
      "[-0.761   -0.76262 -0.79598 -0.84836 -0.88011 -0.88876 -0.88876 -0.88876\n",
      " -0.88876 -0.88876 -0.88876 -0.88876 -0.88972]\n"
     ]
    }
   ],
   "source": [
    "# res = []\n",
    "# for shape in kshapelets:\n",
    "#     res.append(shape.val)\n",
    "# res.sort(key=lambda x:len(x))\n",
    "# for i in res:\n",
    "#     print(i)"
   ],
   "metadata": {
    "collapsed": false,
    "pycharm": {
     "name": "#%%\n"
    }
   }
  },
  {
   "cell_type": "code",
   "execution_count": 1585,
   "outputs": [],
   "source": [
    "# kshapelets = kshapelets[:100]"
   ],
   "metadata": {
    "collapsed": false,
    "pycharm": {
     "name": "#%%\n"
    }
   }
  },
  {
   "cell_type": "code",
   "execution_count": 1586,
   "metadata": {
    "pycharm": {
     "name": "#%%\n"
    }
   },
   "outputs": [
    {
     "name": "stderr",
     "output_type": "stream",
     "text": [
      "100%|██████████| 136/136 [00:04<00:00, 33.45it/s]\n"
     ]
    }
   ],
   "source": [
    "dataset = np.zeros((sample_nums,k))\n",
    "for i,sp in enumerate(tqdm(kshapelets)):\n",
    "    Ds = findDistances(sp,sp.length,a)\n",
    "    dataset[:,i] = Ds\n",
    "dataset = np.nan_to_num(dataset)\n",
    "# print(dataset)"
   ]
  },
  {
   "cell_type": "code",
   "execution_count": 1587,
   "metadata": {},
   "outputs": [
    {
     "name": "stderr",
     "output_type": "stream",
     "text": [
      "100%|██████████| 136/136 [00:10<00:00, 12.77it/s]\n"
     ]
    }
   ],
   "source": [
    "dataset_test = np.zeros((test_nums,k))\n",
    "b = genDiffSeries(data_test)\n",
    "for i,sp in enumerate(tqdm(kshapelets)):\n",
    "    Ds = findDistances(sp,sp.length,b)\n",
    "    dataset_test[:,i] = Ds\n",
    "dataset_test = np.nan_to_num(dataset_test)"
   ]
  },
  {
   "cell_type": "code",
   "execution_count": 1588,
   "metadata": {},
   "outputs": [],
   "source": [
    "from sklearn.linear_model import LogisticRegressionCV\n",
    "from sklearn.svm import LinearSVC\n",
    "from sklearn.preprocessing import StandardScaler\n",
    "from sklearn.metrics import classification_report\n",
    "from sklearn.metrics import accuracy_score"
   ]
  },
  {
   "cell_type": "code",
   "execution_count": 1589,
   "metadata": {
    "scrolled": true
   },
   "outputs": [],
   "source": [
    "sc = StandardScaler()\n",
    "# scc = sc.fit_transform(dataset)\n",
    "# np.set_printoptions(threshold=np.inf)\n",
    "# print(dataset)\n",
    "# print(scc)\n",
    "\n",
    "model = LogisticRegressionCV(max_iter=100000).fit(sc.fit_transform(dataset),target_train)\n",
    "# model = LinearSVC(max_iter=10000).fit(sc.fit_transform(dataset),target_train)"
   ]
  },
  {
   "cell_type": "code",
   "execution_count": 1590,
   "metadata": {
    "scrolled": true
   },
   "outputs": [
    {
     "name": "stdout",
     "output_type": "stream",
     "text": [
      "              precision    recall  f1-score   support\n",
      "\n",
      "           0       1.00      1.00      1.00        15\n",
      "           1       1.00      1.00      1.00        15\n",
      "           2       1.00      1.00      1.00        15\n",
      "           3       1.00      1.00      1.00        15\n",
      "           4       1.00      1.00      1.00        15\n",
      "           5       1.00      1.00      1.00        15\n",
      "           6       1.00      1.00      1.00        15\n",
      "           7       1.00      1.00      1.00        15\n",
      "\n",
      "    accuracy                           1.00       120\n",
      "   macro avg       1.00      1.00      1.00       120\n",
      "weighted avg       1.00      1.00      1.00       120\n",
      "\n",
      "1.0\n"
     ]
    }
   ],
   "source": [
    "print(classification_report(target_train,model.predict(sc.transform(dataset))))\n",
    "print(accuracy_score(target_train,model.predict(sc.transform(dataset))))"
   ]
  },
  {
   "cell_type": "code",
   "execution_count": 1591,
   "metadata": {
    "scrolled": true
   },
   "outputs": [
    {
     "name": "stdout",
     "output_type": "stream",
     "text": [
      "              precision    recall  f1-score   support\n",
      "\n",
      "           0       0.74      0.88      0.80        40\n",
      "           1       0.83      0.95      0.88        40\n",
      "           2       0.86      0.75      0.80        40\n",
      "           3       0.78      0.80      0.79        40\n",
      "           4       1.00      0.82      0.90        40\n",
      "           5       0.91      0.80      0.85        40\n",
      "           6       0.76      0.65      0.70        40\n",
      "           7       0.71      0.88      0.79        40\n",
      "\n",
      "    accuracy                           0.82       320\n",
      "   macro avg       0.83      0.82      0.82       320\n",
      "weighted avg       0.83      0.82      0.82       320\n",
      "\n",
      "0.815625\n"
     ]
    }
   ],
   "source": [
    "print(classification_report(target_test,model.predict(sc.transform(dataset_test))))\n",
    "print(accuracy_score(target_test,model.predict(sc.transform(dataset_test))))"
   ]
  },
  {
   "cell_type": "code",
   "execution_count": 1591,
   "metadata": {},
   "outputs": [],
   "source": []
  }
 ],
 "metadata": {
  "kernelspec": {
   "display_name": "Python 3 (ipykernel)",
   "language": "python",
   "name": "python3"
  },
  "language_info": {
   "codemirror_mode": {
    "name": "ipython",
    "version": 3
   },
   "file_extension": ".py",
   "mimetype": "text/x-python",
   "name": "python",
   "nbconvert_exporter": "python",
   "pygments_lexer": "ipython3",
   "version": "3.8.2"
  }
 },
 "nbformat": 4,
 "nbformat_minor": 4
}
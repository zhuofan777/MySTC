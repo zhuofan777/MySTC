{
 "cells": [
  {
   "cell_type": "code",
   "execution_count": 1,
   "metadata": {},
   "outputs": [],
   "source": [
    "import numpy as np\n",
    "import pandas as pd\n",
    "from scipy.stats import f_oneway\n",
    "from scipy.spatial.distance import cdist\n",
    "from sklearn.manifold import TSNE\n",
    "import matplotlib.pyplot as plt\n",
    "import seaborn as sns\n",
    "from tqdm import tqdm"
   ]
  },
  {
   "cell_type": "code",
   "execution_count": 2,
   "metadata": {},
   "outputs": [],
   "source": [
    "def generateCandidates(Ti,l):\n",
    "    Wil = [np.array(Ti[i : i + l]) for i in range(0, len(Ti)-l+1, 1)]\n",
    "    return Wil"
   ]
  },
  {
   "cell_type": "code",
   "execution_count": 3,
   "metadata": {},
   "outputs": [],
   "source": [
    "def create_Wl(T,l):\n",
    "    return [generateCandidates(Ti,l) for Ti in T]"
   ]
  },
  {
   "cell_type": "code",
   "execution_count": 4,
   "metadata": {},
   "outputs": [],
   "source": [
    "def findDistances(S,Wl):\n",
    "    Ds = []\n",
    "    for Wil in Wl:\n",
    "        Ds.append(cdist(np.array([S]),np.vstack(Wil),metric='seuclidean').min())\n",
    "    return np.array(Ds)"
   ]
  },
  {
   "cell_type": "code",
   "execution_count": 5,
   "metadata": {},
   "outputs": [],
   "source": [
    "def assessCandidate(S,Ds,C):\n",
    "    class_groups = []\n",
    "    for c in np.unique(C):\n",
    "        class_groups.append(Ds[C==c].tolist())\n",
    "\n",
    "#     plt.figure(figsize=(10,5))\n",
    "#     colors = np.array(['red','blue','green'])\n",
    "#     for c in np.unique(C):\n",
    "#         sns.distplot(x=Ds[C==c],color= colors[c])\n",
    "    \n",
    "    return f_oneway(*class_groups).statistic"
   ]
  },
  {
   "cell_type": "code",
   "execution_count": 6,
   "metadata": {},
   "outputs": [],
   "source": [
    "def sortByQuality(shapelets):\n",
    "    return sorted(shapelets, key=lambda tup: tup[1],reverse=True)"
   ]
  },
  {
   "cell_type": "code",
   "execution_count": 7,
   "metadata": {},
   "outputs": [],
   "source": [
    "def removeSelfSimilar(shapelets):\n",
    "    queue = shapelets[:]\n",
    "    df = pd.DataFrame(shapelets)\n",
    "\n",
    "    keep_df = pd.DataFrame()\n",
    "\n",
    "    while len(df) != 0:\n",
    "        pop_item = queue.pop(0)\n",
    "        s,f,interval = pop_item\n",
    "\n",
    "        keep_df = pd.concat((keep_df,pd.DataFrame([pop_item])))\n",
    "\n",
    "        df = df[~df[2].apply(lambda x: interval.overlaps(x))]\n",
    "        queue = df.values.tolist()\n",
    "    \n",
    "    return keep_df.drop(2,axis=1).values.tolist()"
   ]
  },
  {
   "cell_type": "code",
   "execution_count": 8,
   "metadata": {},
   "outputs": [],
   "source": [
    "def merge(k,kShapelets,shapelets):\n",
    "    total_shapelets = kShapelets + shapelets\n",
    "    return sortByQuality(total_shapelets)[:k]"
   ]
  },
  {
   "cell_type": "code",
   "execution_count": 9,
   "metadata": {},
   "outputs": [],
   "source": [
    "def ShapeletCachedSelection(data,lmin,lmax,k,label):\n",
    "   # 原始data顺序 样本数 维度数 序列长度\n",
    "    data = np.transpose(data,axes=(1,0,2))\n",
    "    # 现在data顺序 维度数 样本数 序列长度\n",
    "    dim_nums = data.shape[0]\n",
    "    sample_nums = data.shape[1]\n",
    "    for dn in tqdm(range(dim_nums)):\n",
    "        T = data[dn]\n",
    "        # print(keyPoints)\n",
    "        precompute_Wl = {l : create_Wl(T,l) for l in np.arange(lmin,lmax+1)}\n",
    "\n",
    "        kShapelets = []\n",
    "        for i,Ti in enumerate(T):\n",
    "            shapelets = []\n",
    "            for l in np.arange(lmin,lmax+1):\n",
    "                # S为所有的长度\n",
    "                Al = precompute_Wl[l]\n",
    "                Wl,Pl = Al[0],Al[1]\n",
    "                for index,S in enumerate(Wl[i]):\n",
    "                     # 和所有样本上的候选者比较\n",
    "                    #  S 区间，keypoint，松弛长度\n",
    "                    # Ds,Indx = findDistances(S,Wl)\n",
    "\n",
    "                    Ds = findDistances(S,Wl)\n",
    "                    quality = assessCandidate(Ds,label)\n",
    "                    #  区间值 度量  区间 关键点\n",
    "                    shapelets.append((S,quality,pd.Interval(Pl[index][1],Pl[index][2]-1,closed='both'),Pl[index][0]))\n",
    "            shapelets = sortByQuality(shapelets)\n",
    "            shapelets = removeSelfSimilar(shapelets)\n",
    "            kShapelets = merge(k,kShapelets,shapelets)\n",
    "        print(kShapelets)\n",
    "\n",
    "    # return kShapelets"
   ]
  },
  {
   "cell_type": "code",
   "execution_count": 10,
   "metadata": {},
   "outputs": [],
   "source": [
    "def load_raw_ts(path, dataset):\n",
    "    path = path + \"raw//\" + dataset + \"//\"\n",
    "    # 训练集\n",
    "    x_train = np.load(path + 'X_train.npy')\n",
    "    x_train = np.transpose(x_train, axes=(0, 2, 1))\n",
    "    x_test = np.load(path + 'X_test.npy')\n",
    "    x_test = np.transpose(x_test, axes=(0, 2, 1))\n",
    "    y_train = np.load(path + 'y_train.npy')\n",
    "    y_test = np.load(path + 'y_test.npy')\n",
    "    labels = np.concatenate((y_train, y_test), axis=0)\n",
    "    nclass = int(np.amax(labels)) + 1\n",
    "    return x_train, x_test, y_train.reshape(-1), y_test.reshape(-1), nclass"
   ]
  },
  {
   "cell_type": "code",
   "execution_count": 13,
   "metadata": {},
   "outputs": [],
   "source": [
    "data_train, data_test, target_train, target_test, nclass = load_raw_ts(\"D://tmppro//data//\", \"StandWalkJump\")\n",
    "sample_nums = data_train.shape[0]\n",
    "dim_nums = data_train.shape[1]\n",
    "series_length = data_train.shape[2]\n",
    "\n",
    "import random\n",
    "\n",
    "# # 这里的N指的是序列的样本数量\n",
    "# # N = len(T)\n",
    "# # N_test = len(T_test)\n",
    "# # print(N,N_test)\n",
    "# # N=200\n",
    "# #N_test = 5000\n",
    "lmin = 5\n",
    "lmax = 10\n",
    "# 选取shapelet的数量\n",
    "k = 50\n",
    "alp = random.choice([0.3, 0.4])\n",
    "blt = random.choice([100, 90, 80, 70, 60, 50])\n",
    "ylt = random.choice([5,6,7,8])\n",
    "#\n",
    "# # min_seq_len = 20\n",
    "# # max_seq_len = 30\n",
    "# # T,C = generate_dataset(N,min_seq_len,max_seq_len)\n",
    "# # T_test,C_test = generate_dataset(N_test,min_seq_len,max_seq_len)"
   ]
  },
  {
   "cell_type": "code",
   "execution_count": 16,
   "metadata": {
    "pycharm": {
     "name": "#%%\n"
    }
   },
   "outputs": [
    {
     "name": "stderr",
     "output_type": "stream",
     "text": [
      "  0%|          | 0/4 [00:00<?, ?it/s]\n"
     ]
    },
    {
     "ename": "ValueError",
     "evalue": "XA must be a 2-dimensional array.",
     "output_type": "error",
     "traceback": [
      "\u001B[1;31m---------------------------------------------------------------------------\u001B[0m",
      "\u001B[1;31mValueError\u001B[0m                                Traceback (most recent call last)",
      "Input \u001B[1;32mIn [16]\u001B[0m, in \u001B[0;36m<cell line: 1>\u001B[1;34m()\u001B[0m\n\u001B[1;32m----> 1\u001B[0m kshapelets \u001B[38;5;241m=\u001B[39m \u001B[43mShapeletCachedSelection\u001B[49m\u001B[43m(\u001B[49m\u001B[43mdata_train\u001B[49m\u001B[43m,\u001B[49m\u001B[43mlmin\u001B[49m\u001B[43m,\u001B[49m\u001B[43mlmax\u001B[49m\u001B[43m,\u001B[49m\u001B[43mk\u001B[49m\u001B[43m,\u001B[49m\u001B[43mtarget_train\u001B[49m\u001B[43m)\u001B[49m\n",
      "Input \u001B[1;32mIn [9]\u001B[0m, in \u001B[0;36mShapeletCachedSelection\u001B[1;34m(data, lmin, lmax, k, label)\u001B[0m\n\u001B[0;32m     18\u001B[0m Wl,Pl \u001B[38;5;241m=\u001B[39m Al[\u001B[38;5;241m0\u001B[39m],Al[\u001B[38;5;241m1\u001B[39m]\n\u001B[0;32m     19\u001B[0m \u001B[38;5;28;01mfor\u001B[39;00m index,S \u001B[38;5;129;01min\u001B[39;00m \u001B[38;5;28menumerate\u001B[39m(Wl[i]):\n\u001B[0;32m     20\u001B[0m      \u001B[38;5;66;03m# 和所有样本上的候选者比较\u001B[39;00m\n\u001B[0;32m     21\u001B[0m     \u001B[38;5;66;03m#  S 区间，keypoint，松弛长度\u001B[39;00m\n\u001B[0;32m     22\u001B[0m     \u001B[38;5;66;03m# Ds,Indx = findDistances(S,Wl)\u001B[39;00m\n\u001B[1;32m---> 24\u001B[0m     Ds \u001B[38;5;241m=\u001B[39m \u001B[43mfindDistances\u001B[49m\u001B[43m(\u001B[49m\u001B[43mS\u001B[49m\u001B[43m,\u001B[49m\u001B[43mWl\u001B[49m\u001B[43m)\u001B[49m\n\u001B[0;32m     25\u001B[0m     quality \u001B[38;5;241m=\u001B[39m assessCandidate(Ds,label)\n\u001B[0;32m     26\u001B[0m     \u001B[38;5;66;03m#  区间值 度量  区间 关键点\u001B[39;00m\n",
      "Input \u001B[1;32mIn [4]\u001B[0m, in \u001B[0;36mfindDistances\u001B[1;34m(S, Wl)\u001B[0m\n\u001B[0;32m      2\u001B[0m Ds \u001B[38;5;241m=\u001B[39m []\n\u001B[0;32m      3\u001B[0m \u001B[38;5;28;01mfor\u001B[39;00m Wil \u001B[38;5;129;01min\u001B[39;00m Wl:\n\u001B[1;32m----> 4\u001B[0m     Ds\u001B[38;5;241m.\u001B[39mappend(\u001B[43mcdist\u001B[49m\u001B[43m(\u001B[49m\u001B[43mnp\u001B[49m\u001B[38;5;241;43m.\u001B[39;49m\u001B[43marray\u001B[49m\u001B[43m(\u001B[49m\u001B[43m[\u001B[49m\u001B[43mS\u001B[49m\u001B[43m]\u001B[49m\u001B[43m)\u001B[49m\u001B[43m,\u001B[49m\u001B[43mnp\u001B[49m\u001B[38;5;241;43m.\u001B[39;49m\u001B[43mvstack\u001B[49m\u001B[43m(\u001B[49m\u001B[43mWil\u001B[49m\u001B[43m)\u001B[49m\u001B[43m,\u001B[49m\u001B[43mmetric\u001B[49m\u001B[38;5;241;43m=\u001B[39;49m\u001B[38;5;124;43m'\u001B[39;49m\u001B[38;5;124;43mseuclidean\u001B[39;49m\u001B[38;5;124;43m'\u001B[39;49m\u001B[43m)\u001B[49m\u001B[38;5;241m.\u001B[39mmin())\n\u001B[0;32m      5\u001B[0m \u001B[38;5;28;01mreturn\u001B[39;00m np\u001B[38;5;241m.\u001B[39marray(Ds)\n",
      "File \u001B[1;32mc:\\users\\ydssx\\appdata\\local\\programs\\python\\python38\\lib\\site-packages\\scipy\\spatial\\distance.py:2931\u001B[0m, in \u001B[0;36mcdist\u001B[1;34m(XA, XB, metric, out, **kwargs)\u001B[0m\n\u001B[0;32m   2928\u001B[0m sB \u001B[38;5;241m=\u001B[39m XB\u001B[38;5;241m.\u001B[39mshape\n\u001B[0;32m   2930\u001B[0m \u001B[38;5;28;01mif\u001B[39;00m \u001B[38;5;28mlen\u001B[39m(s) \u001B[38;5;241m!=\u001B[39m \u001B[38;5;241m2\u001B[39m:\n\u001B[1;32m-> 2931\u001B[0m     \u001B[38;5;28;01mraise\u001B[39;00m \u001B[38;5;167;01mValueError\u001B[39;00m(\u001B[38;5;124m'\u001B[39m\u001B[38;5;124mXA must be a 2-dimensional array.\u001B[39m\u001B[38;5;124m'\u001B[39m)\n\u001B[0;32m   2932\u001B[0m \u001B[38;5;28;01mif\u001B[39;00m \u001B[38;5;28mlen\u001B[39m(sB) \u001B[38;5;241m!=\u001B[39m \u001B[38;5;241m2\u001B[39m:\n\u001B[0;32m   2933\u001B[0m     \u001B[38;5;28;01mraise\u001B[39;00m \u001B[38;5;167;01mValueError\u001B[39;00m(\u001B[38;5;124m'\u001B[39m\u001B[38;5;124mXB must be a 2-dimensional array.\u001B[39m\u001B[38;5;124m'\u001B[39m)\n",
      "\u001B[1;31mValueError\u001B[0m: XA must be a 2-dimensional array."
     ]
    }
   ],
   "source": [
    "kshapelets = ShapeletCachedSelection(data_train,lmin,lmax,k,target_train)"
   ]
  }
 ],
 "metadata": {
  "kernelspec": {
   "name": "python3",
   "language": "python",
   "display_name": "Python 3 (ipykernel)"
  },
  "language_info": {
   "codemirror_mode": {
    "name": "ipython",
    "version": 3
   },
   "file_extension": ".py",
   "mimetype": "text/x-python",
   "name": "python",
   "nbconvert_exporter": "python",
   "pygments_lexer": "ipython3",
   "version": "3.6.3"
  }
 },
 "nbformat": 4,
 "nbformat_minor": 4
}
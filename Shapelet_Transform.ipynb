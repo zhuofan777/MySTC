{
 "cells": [
  {
   "cell_type": "code",
   "execution_count": null,
   "metadata": {},
   "outputs": [],
   "source": [
    "import numpy as np\n",
    "import pandas as pd\n",
    "from scipy.stats import f_oneway\n",
    "from scipy.spatial.distance import cdist\n",
    "from sklearn.manifold import TSNE\n",
    "import matplotlib.pyplot as plt\n",
    "import seaborn as sns\n",
    "from tqdm import tqdm\n",
    "import heapq as hq"
   ]
  },
  {
   "cell_type": "code",
   "execution_count": null,
   "outputs": [],
   "source": [
    "# 计算方差窗口的大小\n",
    "def computeWinSize(length, b):\n",
    "    if 0 < length <= b:\n",
    "        return 1\n",
    "    else:\n",
    "        return length // b"
   ],
   "metadata": {
    "collapsed": false,
    "pycharm": {
     "name": "#%%\n"
    }
   }
  },
  {
   "cell_type": "code",
   "execution_count": null,
   "outputs": [],
   "source": [
    "# 计算标准差数组\n",
    "def computeStdArr(series, b):\n",
    "    l = len(series)\n",
    "    # 窗口下取整\n",
    "    w = computeWinSize(l, b)\n",
    "    # print(w)\n",
    "    res = []\n",
    "    for i in range(w, l - w):\n",
    "        win_arr = [0 for i in range(2 * w + 1)]\n",
    "        cnt = 0\n",
    "        for j in range(i - w, w + i + 1):\n",
    "            win_arr[cnt] = series[j]\n",
    "            cnt += 1\n",
    "        std = np.std(win_arr, ddof=0)\n",
    "        res.append(std)\n",
    "    return res"
   ],
   "metadata": {
    "collapsed": false,
    "pycharm": {
     "name": "#%%\n"
    }
   }
  },
  {
   "cell_type": "code",
   "execution_count": null,
   "outputs": [],
   "source": [
    "# 选择L*α最大的点的下标,，保留下标\n",
    "def selectLargePoint(series, a):\n",
    "    l = len(series)\n",
    "    # 生成l*a个\n",
    "    res = hq.nlargest(int(l * a), range(l), key=lambda x: series[x])\n",
    "    return res"
   ],
   "metadata": {
    "collapsed": false,
    "pycharm": {
     "name": "#%%\n"
    }
   }
  },
  {
   "cell_type": "code",
   "execution_count": null,
   "outputs": [],
   "source": [
    "# 判断是否为波峰波谷\n",
    "def isPeakOrValley(std_arr, index, b):\n",
    "    win_size = computeWinSize(len(std_arr), b)\n",
    "    flag = False\n",
    "    if win_size == 1:\n",
    "        if ((std_arr[index] > std_arr[index - 1] and std_arr[index] > std_arr[index + 1]) or (\n",
    "                std_arr[index] < std_arr[index - 1] and std_arr[index] < std_arr[index + 1])):\n",
    "            flag = True\n",
    "    elif win_size == 2:\n",
    "        if ((std_arr[index] >= std_arr[index - 1] and std_arr[index] > std_arr[index - 2] and std_arr[index] >= std_arr[\n",
    "            index + 1] and std_arr[index] > std_arr[index + 2])\n",
    "                or\n",
    "                (std_arr[index] <= std_arr[index - 1] and std_arr[index] < std_arr[index - 2] and std_arr[index] <=\n",
    "                 std_arr[\n",
    "                     index + 1]) and std_arr[index] < std_arr[index + 2]):\n",
    "            flag = True\n",
    "    elif win_size == 3:\n",
    "        if ((std_arr[index] >= std_arr[index - 1] and std_arr[index] > std_arr[index - 2] and std_arr[index] > std_arr[\n",
    "            index - 3]\n",
    "             and std_arr[index] >= std_arr[index + 1] and std_arr[index] > std_arr[index + 2] and std_arr[index] >\n",
    "             std_arr[\n",
    "                 index + 3])\n",
    "                or\n",
    "                (std_arr[index] <= std_arr[index - 1] and std_arr[index] < std_arr[index - 2] and std_arr[index] <\n",
    "                 std_arr[index - 3]) and std_arr[index] <= std_arr[index + 1] and std_arr[index] < std_arr[\n",
    "                    index + 2] and std_arr[index] < std_arr[index + 3]):\n",
    "            flag = True\n",
    "    elif win_size == 4:\n",
    "        if ((std_arr[index] >= std_arr[index - 1] and std_arr[index] > std_arr[index - 2] and std_arr[index] > std_arr[\n",
    "            index - 3] and std_arr[index] > std_arr[index - 4]\n",
    "             and std_arr[index] >= std_arr[index + 1] and std_arr[index] > std_arr[index + 2] and std_arr[index] >\n",
    "             std_arr[\n",
    "                 index + 3] and std_arr[index] > std_arr[index + 4])\n",
    "                or\n",
    "                (std_arr[index] <= std_arr[index - 1] and std_arr[index] < std_arr[index - 2] and std_arr[index] <\n",
    "                 std_arr[\n",
    "                     index - 3] and std_arr[index] < std_arr[index - 4]\n",
    "                 and std_arr[index] <= std_arr[index + 1] and std_arr[index] < std_arr[index + 2] and std_arr[index] <\n",
    "                 std_arr[index + 3] and std_arr[index] < std_arr[index + 4])):\n",
    "            flag = True\n",
    "    else:\n",
    "        if ((std_arr[index] > std_arr[index - 1] and std_arr[index] > std_arr[index - 2] and std_arr[index] > std_arr[\n",
    "            index - 3] and std_arr[index] > std_arr[index - 4] and std_arr[index] > std_arr[index - 5]\n",
    "             and std_arr[index] > std_arr[index + 1] and std_arr[index] > std_arr[index + 2] and std_arr[index] >\n",
    "             std_arr[\n",
    "                 index + 3] and std_arr[index] > std_arr[index + 4] and std_arr[index] > std_arr[index + 5])\n",
    "                or\n",
    "                (std_arr[index] < std_arr[index - 1] and std_arr[index] < std_arr[index - 2] and std_arr[index] <\n",
    "                 std_arr[\n",
    "                     index - 3] and std_arr[index] < std_arr[index - 4] and std_arr[index] < std_arr[index - 5]\n",
    "                 and std_arr[index] < std_arr[index + 1] and std_arr[index] < std_arr[index + 2] and std_arr[index] <\n",
    "                 std_arr[\n",
    "                     index + 3] and std_arr[index] < std_arr[index + 4] and std_arr[index] < std_arr[index + 5])):\n",
    "            flag = True\n",
    "    return flag\n",
    "\n"
   ],
   "metadata": {
    "collapsed": false,
    "pycharm": {
     "name": "#%%\n"
    }
   }
  },
  {
   "cell_type": "code",
   "execution_count": null,
   "outputs": [],
   "source": [
    "# 找到所有合适的区间\n",
    "def fitPoint(stdA, indexA, b):\n",
    "    w = computeWinSize(len(stdA), b)\n",
    "    l = len(indexA)\n",
    "    res = []\n",
    "    for i in range(0, l):\n",
    "        val = indexA[i]\n",
    "        if w <= val < l - w:\n",
    "            if isPeakOrValley(stdA, val, b):\n",
    "                res.append(val + 2 * w + 1)\n",
    "    return res"
   ],
   "metadata": {
    "collapsed": false,
    "pycharm": {
     "name": "#%%\n"
    }
   }
  },
  {
   "cell_type": "code",
   "execution_count": null,
   "outputs": [],
   "source": [
    "# 提取特征关键点\n",
    "def extractFeaturePoint(arr, a, b):\n",
    "    stdArrOne = computeStdArr(arr, b)\n",
    "    stdArrTwo = computeStdArr(stdArrOne, b)\n",
    "    largePoint = selectLargePoint(stdArrTwo, a)\n",
    "    indexArr = fitPoint(stdArrTwo, largePoint, b)\n",
    "    return indexArr"
   ],
   "metadata": {
    "collapsed": false,
    "pycharm": {
     "name": "#%%\n"
    }
   }
  },
  {
   "cell_type": "code",
   "execution_count": null,
   "metadata": {},
   "outputs": [],
   "source": [
    "# def findDistances(S,Wl):\n",
    "#     Ds = []\n",
    "#     Indx = []\n",
    "#     for Wil in Wl:\n",
    "#         dist = cdist(np.array([S]),np.vstack(Wil),metric='seuclidean')\n",
    "#         minDist = dist.min()\n",
    "#         idx = np.where(dist,minDist)\n",
    "#         Ds.append(minDist)\n",
    "#         Indx.append(idx)\n",
    "#     return np.array(Ds),np.array(Indx)\n",
    "def findDistances(S,Wl):\n",
    "    Ds = []\n",
    "    for Wil in Wl:\n",
    "        Ds.append(cdist(np.array([S]),np.vstack(Wil),metric='seuclidean').min())\n",
    "    return np.array(Ds)"
   ]
  },
  {
   "cell_type": "code",
   "execution_count": null,
   "metadata": {},
   "outputs": [],
   "source": [
    "def assessCandidate(Ds,C):\n",
    "    class_groups = []\n",
    "    for c in np.unique(C):\n",
    "        class_groups.append(Ds[C==c].tolist())\n",
    "#  返回f值\n",
    "    return f_oneway(*class_groups).statistic"
   ]
  },
  {
   "cell_type": "code",
   "execution_count": null,
   "metadata": {},
   "outputs": [],
   "source": [
    "def sortByQuality(shapelets):\n",
    "    return sorted(shapelets, key=lambda tup: tup[1],reverse=True)"
   ]
  },
  {
   "cell_type": "code",
   "execution_count": null,
   "metadata": {},
   "outputs": [],
   "source": [
    "def removeSelfSimilar(shapelets):\n",
    "    queue = shapelets[:]\n",
    "    df = pd.DataFrame(shapelets)\n",
    "\n",
    "    keep_df = pd.DataFrame()\n",
    "\n",
    "    while len(df) != 0:\n",
    "        pop_item = queue.pop(0)\n",
    "        s,f,interval,k = pop_item\n",
    "\n",
    "        keep_df = pd.concat((keep_df,pd.DataFrame([pop_item])))\n",
    "\n",
    "        df = df[~df[2].apply(lambda x: interval.overlaps(x))]\n",
    "        queue = df.values.tolist()\n",
    "\n",
    "    return keep_df.drop(2,axis=1).values.tolist()"
   ]
  },
  {
   "cell_type": "code",
   "execution_count": null,
   "metadata": {},
   "outputs": [],
   "source": [
    "def merge(k,kShapelets,shapelets):\n",
    "    total_shapelets = kShapelets + shapelets\n",
    "    return sortByQuality(total_shapelets)[:k]"
   ]
  },
  {
   "cell_type": "code",
   "execution_count": null,
   "outputs": [],
   "source": [
    "def generateCandidates(Ti,l,keyPoint,ylt):\n",
    "    # ylt为松弛参数\n",
    "    candidate = []\n",
    "    param = []\n",
    "    if l % 2 == 0:\n",
    "        l = l // 2\n",
    "    else:\n",
    "        l = l // 2 + 1\n",
    "    for i in keyPoint:\n",
    "        # candidate keypoint\n",
    "        for j in range(ylt):\n",
    "            # 从中心点两侧的松弛长度进行计算\n",
    "            # 包含区间，keypoint，起点，终点\n",
    "            candidate.append(np.array(Ti[max(i - ylt - l,0) : min(i + ylt + l + 1,len(Ti))]))\n",
    "            param.append([i,max(i - ylt - l,0),min(i + ylt + l + 1,len(Ti))])\n",
    "    return candidate,param"
   ],
   "metadata": {
    "collapsed": false,
    "pycharm": {
     "name": "#%%\n"
    }
   }
  },
  {
   "cell_type": "code",
   "execution_count": null,
   "outputs": [],
   "source": [
    "def create_Wl(T,l,keyPoints,sample_nums,ylt):\n",
    "    res = []\n",
    "    for sn in range(sample_nums):\n",
    "        cd,pa = generateCandidates(T[sn],l,keyPoints[sn],ylt)\n",
    "        res.append([cd,pa])\n",
    "    return res"
   ],
   "metadata": {
    "collapsed": false,
    "pycharm": {
     "name": "#%%\n"
    }
   }
  },
  {
   "cell_type": "code",
   "execution_count": 71,
   "outputs": [],
   "source": [
    "def SelectShapelet(data,label,lmin,lmax,alp,blt,ylt):\n",
    "    # 原始data顺序 样本数 维度数 序列长度\n",
    "    data = np.transpose(data,axes=(1,0,2))\n",
    "    # 现在data顺序 维度数 样本数 序列长度\n",
    "    dim_nums = data.shape[0]\n",
    "    sample_nums = data.shape[1]\n",
    "    for dn in tqdm(range(dim_nums)):\n",
    "        T = data[dn]\n",
    "        keyPoints = []\n",
    "        for sm in range(sample_nums):\n",
    "            keyPoints.append(extractFeaturePoint(data[dn][sm],alp,blt))\n",
    "        # print(keyPoints)\n",
    "        precompute_Wl = {l : create_Wl(T,l,keyPoints,sample_nums,ylt) for l in np.arange(lmin,lmax+1)}\n",
    "\n",
    "        kShapelets = []\n",
    "        for i,Ti in enumerate(T):\n",
    "            shapelets = []\n",
    "            for l in np.arange(lmin,lmax+1):\n",
    "                # S为所有的长度\n",
    "                Al = precompute_Wl[l]\n",
    "                Wl,Pl = Al[0],Al[1]\n",
    "                for index,S in enumerate(Wl[i]):\n",
    "                     # 和所有样本上的候选者比较\n",
    "                    #  S 区间，keypoint，松弛长度\n",
    "                    # Ds,Indx = findDistances(S,Wl)\n",
    "\n",
    "                    Ds = findDistances(S,Wl)\n",
    "                    quality = assessCandidate(Ds,label)\n",
    "                    #  区间值 度量  区间 关键点\n",
    "                    shapelets.append((S,quality,pd.Interval(Pl[index][1],Pl[index][2]-1,closed='both'),Pl[index][0]))\n",
    "            shapelets = sortByQuality(shapelets)\n",
    "            shapelets = removeSelfSimilar(shapelets)\n",
    "            kShapelets = merge(k,kShapelets,shapelets)\n",
    "        print(kShapelets)\n",
    "\n",
    "\n",
    "\n",
    "\n",
    "\n",
    "\n",
    "\n"
   ],
   "metadata": {
    "collapsed": false,
    "pycharm": {
     "name": "#%%\n"
    }
   }
  },
  {
   "cell_type": "code",
   "execution_count": null,
   "outputs": [],
   "source": [
    "def load_raw_ts(path, dataset):\n",
    "    path = path + \"raw//\" + dataset + \"//\"\n",
    "    # 训练集\n",
    "    x_train = np.load(path + 'X_train.npy')\n",
    "    x_train = np.transpose(x_train, axes=(0, 2, 1))\n",
    "    x_test = np.load(path + 'X_test.npy')\n",
    "    x_test = np.transpose(x_test, axes=(0, 2, 1))\n",
    "    y_train = np.load(path + 'y_train.npy')\n",
    "    y_test = np.load(path + 'y_test.npy')\n",
    "    labels = np.concatenate((y_train, y_test), axis=0)\n",
    "    nclass = int(np.amax(labels)) + 1\n",
    "    return x_train, x_test, y_train.reshape(-1), y_test.reshape(-1), nclass"
   ],
   "metadata": {
    "collapsed": false,
    "pycharm": {
     "name": "#%%\n"
    }
   }
  },
  {
   "cell_type": "code",
   "execution_count": 73,
   "outputs": [],
   "source": [
    "# import os\n",
    "# folder = 'ItalyPowerDemand'\n",
    "# train_df = pd.read_csv(os.path.join(folder,'ItalyPowerDemand_TRAIN.txt'),sep=\"  \",header=None,error_bad_lines=False)\n",
    "# print(train_df.shape)\n",
    "# test_df = pd.read_csv(os.path.join(folder,'ItalyPowerDemand_TEST.txt'),sep=\"  \",header=None,error_bad_lines=False)\n",
    "# print(test_df.shape)\n",
    "# C= train_df.pop(0)\n",
    "# T = [np.array(Ti) for Ti in train_df.values.tolist()]\n",
    "# C_test = test_df.pop(0)\n",
    "# T_test = [np.array(Ti) for Ti in test_df.values.tolist()]\n",
    "\n",
    "# folder = 'SonyAIBORobotSurface2'\n",
    "# train_df = pd.read_csv(os.path.join(folder,'SonyAIBORobotSurface2_TRAIN.txt'),sep=\"  \",header=None,error_bad_lines=False)\n",
    "# print(train_df.shape)\n",
    "# test_df = pd.read_csv(os.path.join(folder,'SonyAIBORobotSurface2_TEST.txt'),sep=\"  \",header=None,error_bad_lines=False)\n",
    "# print(test_df.shape)\n",
    "# C= train_df.pop(0)\n",
    "# T = [np.array(Ti) for Ti in train_df.values.tolist()]\n",
    "# C_test = test_df.pop(0)\n",
    "# T_test = [np.array(Ti) for Ti in test_df.values.tolist()]\n",
    "# print(type(C),type(T))\n",
    "# C 为标签 T 为序列\n",
    "# target_train 为标签 data_train 为序列\n",
    "data_train, data_test, target_train, target_test, nclass = load_raw_ts(\"D://tmppro//data//\", \"StandWalkJump\")\n",
    "sample_nums = data_train.shape[0]\n",
    "dim_nums = data_train.shape[1]\n",
    "series_length = data_train.shape[2]\n",
    "# print(data_train.shape)\n",
    "# for sn in range(sample_nums):\n",
    "#     for dn in range(1):\n",
    "#         plt.plot(data_train[sn][dn])\n",
    "# plt.title(\"777\")"
   ],
   "metadata": {
    "collapsed": false,
    "pycharm": {
     "name": "#%%\n"
    }
   }
  },
  {
   "cell_type": "code",
   "execution_count": 74,
   "metadata": {},
   "outputs": [],
   "source": [
    "import random\n",
    "\n",
    "# # 这里的N指的是序列的样本数量\n",
    "# # N = len(T)\n",
    "# # N_test = len(T_test)\n",
    "# # print(N,N_test)\n",
    "# # N=200\n",
    "# #N_test = 5000\n",
    "lmin = 5\n",
    "lmax = series_length//2\n",
    "# 选取shapelet的数量\n",
    "k = 50\n",
    "alp = random.choice([0.3, 0.4])\n",
    "blt = random.choice([100, 90, 80, 70, 60, 50])\n",
    "ylt = random.choice([5,6,7,8])\n",
    "#\n",
    "# # min_seq_len = 20\n",
    "# # max_seq_len = 30\n",
    "# # T,C = generate_dataset(N,min_seq_len,max_seq_len)\n",
    "# # T_test,C_test = generate_dataset(N_test,min_seq_len,max_seq_len)"
   ]
  },
  {
   "cell_type": "code",
   "execution_count": null,
   "outputs": [
    {
     "name": "stderr",
     "output_type": "stream",
     "text": [
      "  0%|          | 0/4 [05:44<?, ?it/s]\n"
     ]
    },
    {
     "ename": "KeyboardInterrupt",
     "evalue": "",
     "output_type": "error",
     "traceback": [
      "\u001B[1;31m---------------------------------------------------------------------------\u001B[0m",
      "\u001B[1;31mKeyboardInterrupt\u001B[0m                         Traceback (most recent call last)",
      "Input \u001B[1;32mIn [75]\u001B[0m, in \u001B[0;36m<cell line: 1>\u001B[1;34m()\u001B[0m\n\u001B[1;32m----> 1\u001B[0m kshapelets \u001B[38;5;241m=\u001B[39m \u001B[43mSelectShapelet\u001B[49m\u001B[43m(\u001B[49m\u001B[43mdata_train\u001B[49m\u001B[43m,\u001B[49m\u001B[43mtarget_train\u001B[49m\u001B[43m,\u001B[49m\u001B[43mlmin\u001B[49m\u001B[43m,\u001B[49m\u001B[43mlmax\u001B[49m\u001B[43m,\u001B[49m\u001B[43malp\u001B[49m\u001B[43m,\u001B[49m\u001B[43mblt\u001B[49m\u001B[43m,\u001B[49m\u001B[43mylt\u001B[49m\u001B[43m)\u001B[49m\n",
      "Input \u001B[1;32mIn [71]\u001B[0m, in \u001B[0;36mSelectShapelet\u001B[1;34m(data, label, lmin, lmax, alp, blt, ylt)\u001B[0m\n\u001B[0;32m     12\u001B[0m \u001B[38;5;66;03m# print(keyPoints)\u001B[39;00m\n\u001B[0;32m     13\u001B[0m precompute_Wl \u001B[38;5;241m=\u001B[39m {l : create_Wl(T,l,keyPoints,sample_nums,ylt) \u001B[38;5;28;01mfor\u001B[39;00m l \u001B[38;5;129;01min\u001B[39;00m np\u001B[38;5;241m.\u001B[39marange(lmin,lmax\u001B[38;5;241m+\u001B[39m\u001B[38;5;241m1\u001B[39m)}\n\u001B[1;32m---> 14\u001B[0m \u001B[38;5;28;43mprint\u001B[39;49m\u001B[43m(\u001B[49m\u001B[43mprecompute_Wl\u001B[49m\u001B[43m)\u001B[49m\n\u001B[0;32m     15\u001B[0m kShapelets \u001B[38;5;241m=\u001B[39m []\n\u001B[0;32m     16\u001B[0m \u001B[38;5;28;01mfor\u001B[39;00m i,Ti \u001B[38;5;129;01min\u001B[39;00m \u001B[38;5;28menumerate\u001B[39m(T):\n",
      "File \u001B[1;32mc:\\users\\ydssx\\appdata\\local\\programs\\python\\python38\\lib\\site-packages\\numpy\\core\\arrayprint.py:1413\u001B[0m, in \u001B[0;36m_array_repr_implementation\u001B[1;34m(arr, max_line_width, precision, suppress_small, array2string)\u001B[0m\n\u001B[0;32m   1411\u001B[0m     lst \u001B[38;5;241m=\u001B[39m \u001B[38;5;28mrepr\u001B[39m(arr\u001B[38;5;241m.\u001B[39mitem())\n\u001B[0;32m   1412\u001B[0m \u001B[38;5;28;01melif\u001B[39;00m arr\u001B[38;5;241m.\u001B[39msize \u001B[38;5;241m>\u001B[39m \u001B[38;5;241m0\u001B[39m \u001B[38;5;129;01mor\u001B[39;00m arr\u001B[38;5;241m.\u001B[39mshape \u001B[38;5;241m==\u001B[39m (\u001B[38;5;241m0\u001B[39m,):\n\u001B[1;32m-> 1413\u001B[0m     lst \u001B[38;5;241m=\u001B[39m \u001B[43marray2string\u001B[49m\u001B[43m(\u001B[49m\u001B[43marr\u001B[49m\u001B[43m,\u001B[49m\u001B[43m \u001B[49m\u001B[43mmax_line_width\u001B[49m\u001B[43m,\u001B[49m\u001B[43m \u001B[49m\u001B[43mprecision\u001B[49m\u001B[43m,\u001B[49m\u001B[43m \u001B[49m\u001B[43msuppress_small\u001B[49m\u001B[43m,\u001B[49m\n\u001B[0;32m   1414\u001B[0m \u001B[43m                       \u001B[49m\u001B[38;5;124;43m'\u001B[39;49m\u001B[38;5;124;43m, \u001B[39;49m\u001B[38;5;124;43m'\u001B[39;49m\u001B[43m,\u001B[49m\u001B[43m \u001B[49m\u001B[43mprefix\u001B[49m\u001B[43m,\u001B[49m\u001B[43m \u001B[49m\u001B[43msuffix\u001B[49m\u001B[38;5;241;43m=\u001B[39;49m\u001B[43msuffix\u001B[49m\u001B[43m)\u001B[49m\n\u001B[0;32m   1415\u001B[0m \u001B[38;5;28;01melse\u001B[39;00m:  \u001B[38;5;66;03m# show zero-length shape unless it is (0,)\u001B[39;00m\n\u001B[0;32m   1416\u001B[0m     lst \u001B[38;5;241m=\u001B[39m \u001B[38;5;124m\"\u001B[39m\u001B[38;5;124m[], shape=\u001B[39m\u001B[38;5;132;01m%s\u001B[39;00m\u001B[38;5;124m\"\u001B[39m \u001B[38;5;241m%\u001B[39m (\u001B[38;5;28mrepr\u001B[39m(arr\u001B[38;5;241m.\u001B[39mshape),)\n",
      "File \u001B[1;32mc:\\users\\ydssx\\appdata\\local\\programs\\python\\python38\\lib\\site-packages\\numpy\\core\\arrayprint.py:692\u001B[0m, in \u001B[0;36marray2string\u001B[1;34m(a, max_line_width, precision, suppress_small, separator, prefix, style, formatter, threshold, edgeitems, sign, floatmode, suffix, legacy)\u001B[0m\n\u001B[0;32m    689\u001B[0m \u001B[38;5;28;01mif\u001B[39;00m a\u001B[38;5;241m.\u001B[39msize \u001B[38;5;241m==\u001B[39m \u001B[38;5;241m0\u001B[39m:\n\u001B[0;32m    690\u001B[0m     \u001B[38;5;28;01mreturn\u001B[39;00m \u001B[38;5;124m\"\u001B[39m\u001B[38;5;124m[]\u001B[39m\u001B[38;5;124m\"\u001B[39m\n\u001B[1;32m--> 692\u001B[0m \u001B[38;5;28;01mreturn\u001B[39;00m \u001B[43m_array2string\u001B[49m\u001B[43m(\u001B[49m\u001B[43ma\u001B[49m\u001B[43m,\u001B[49m\u001B[43m \u001B[49m\u001B[43moptions\u001B[49m\u001B[43m,\u001B[49m\u001B[43m \u001B[49m\u001B[43mseparator\u001B[49m\u001B[43m,\u001B[49m\u001B[43m \u001B[49m\u001B[43mprefix\u001B[49m\u001B[43m)\u001B[49m\n",
      "File \u001B[1;32mc:\\users\\ydssx\\appdata\\local\\programs\\python\\python38\\lib\\site-packages\\numpy\\core\\arrayprint.py:468\u001B[0m, in \u001B[0;36m_recursive_guard.<locals>.decorating_function.<locals>.wrapper\u001B[1;34m(self, *args, **kwargs)\u001B[0m\n\u001B[0;32m    466\u001B[0m repr_running\u001B[38;5;241m.\u001B[39madd(key)\n\u001B[0;32m    467\u001B[0m \u001B[38;5;28;01mtry\u001B[39;00m:\n\u001B[1;32m--> 468\u001B[0m     \u001B[38;5;28;01mreturn\u001B[39;00m \u001B[43mf\u001B[49m\u001B[43m(\u001B[49m\u001B[38;5;28;43mself\u001B[39;49m\u001B[43m,\u001B[49m\u001B[43m \u001B[49m\u001B[38;5;241;43m*\u001B[39;49m\u001B[43margs\u001B[49m\u001B[43m,\u001B[49m\u001B[43m \u001B[49m\u001B[38;5;241;43m*\u001B[39;49m\u001B[38;5;241;43m*\u001B[39;49m\u001B[43mkwargs\u001B[49m\u001B[43m)\u001B[49m\n\u001B[0;32m    469\u001B[0m \u001B[38;5;28;01mfinally\u001B[39;00m:\n\u001B[0;32m    470\u001B[0m     repr_running\u001B[38;5;241m.\u001B[39mdiscard(key)\n",
      "File \u001B[1;32mc:\\users\\ydssx\\appdata\\local\\programs\\python\\python38\\lib\\site-packages\\numpy\\core\\arrayprint.py:494\u001B[0m, in \u001B[0;36m_array2string\u001B[1;34m(a, options, separator, prefix)\u001B[0m\n\u001B[0;32m    491\u001B[0m     summary_insert \u001B[38;5;241m=\u001B[39m \u001B[38;5;124m\"\u001B[39m\u001B[38;5;124m\"\u001B[39m\n\u001B[0;32m    493\u001B[0m \u001B[38;5;66;03m# find the right formatting function for the array\u001B[39;00m\n\u001B[1;32m--> 494\u001B[0m format_function \u001B[38;5;241m=\u001B[39m \u001B[43m_get_format_function\u001B[49m\u001B[43m(\u001B[49m\u001B[43mdata\u001B[49m\u001B[43m,\u001B[49m\u001B[43m \u001B[49m\u001B[38;5;241;43m*\u001B[39;49m\u001B[38;5;241;43m*\u001B[39;49m\u001B[43moptions\u001B[49m\u001B[43m)\u001B[49m\n\u001B[0;32m    496\u001B[0m \u001B[38;5;66;03m# skip over \"[\"\u001B[39;00m\n\u001B[0;32m    497\u001B[0m next_line_prefix \u001B[38;5;241m=\u001B[39m \u001B[38;5;124m\"\u001B[39m\u001B[38;5;124m \u001B[39m\u001B[38;5;124m\"\u001B[39m\n",
      "File \u001B[1;32mc:\\users\\ydssx\\appdata\\local\\programs\\python\\python38\\lib\\site-packages\\numpy\\core\\arrayprint.py:427\u001B[0m, in \u001B[0;36m_get_format_function\u001B[1;34m(data, **options)\u001B[0m\n\u001B[0;32m    425\u001B[0m         \u001B[38;5;28;01mreturn\u001B[39;00m formatdict[\u001B[38;5;124m'\u001B[39m\u001B[38;5;124mlongfloat\u001B[39m\u001B[38;5;124m'\u001B[39m]()\n\u001B[0;32m    426\u001B[0m     \u001B[38;5;28;01melse\u001B[39;00m:\n\u001B[1;32m--> 427\u001B[0m         \u001B[38;5;28;01mreturn\u001B[39;00m \u001B[43mformatdict\u001B[49m\u001B[43m[\u001B[49m\u001B[38;5;124;43m'\u001B[39;49m\u001B[38;5;124;43mfloat\u001B[39;49m\u001B[38;5;124;43m'\u001B[39;49m\u001B[43m]\u001B[49m\u001B[43m(\u001B[49m\u001B[43m)\u001B[49m\n\u001B[0;32m    428\u001B[0m \u001B[38;5;28;01melif\u001B[39;00m \u001B[38;5;28missubclass\u001B[39m(dtypeobj, _nt\u001B[38;5;241m.\u001B[39mcomplexfloating):\n\u001B[0;32m    429\u001B[0m     \u001B[38;5;28;01mif\u001B[39;00m \u001B[38;5;28missubclass\u001B[39m(dtypeobj, _nt\u001B[38;5;241m.\u001B[39mclongfloat):\n",
      "File \u001B[1;32mc:\\users\\ydssx\\appdata\\local\\programs\\python\\python38\\lib\\site-packages\\numpy\\core\\arrayprint.py:366\u001B[0m, in \u001B[0;36m_get_formatdict.<locals>.<lambda>\u001B[1;34m()\u001B[0m\n\u001B[0;32m    358\u001B[0m \u001B[38;5;28;01mdef\u001B[39;00m \u001B[38;5;21m_get_formatdict\u001B[39m(data, \u001B[38;5;241m*\u001B[39m, precision, floatmode, suppress, sign, legacy,\n\u001B[0;32m    359\u001B[0m                     formatter, \u001B[38;5;241m*\u001B[39m\u001B[38;5;241m*\u001B[39mkwargs):\n\u001B[0;32m    360\u001B[0m     \u001B[38;5;66;03m# note: extra arguments in kwargs are ignored\u001B[39;00m\n\u001B[0;32m    361\u001B[0m \n\u001B[0;32m    362\u001B[0m     \u001B[38;5;66;03m# wrapped in lambdas to avoid taking a code path with the wrong type of data\u001B[39;00m\n\u001B[0;32m    363\u001B[0m     formatdict \u001B[38;5;241m=\u001B[39m {\n\u001B[0;32m    364\u001B[0m         \u001B[38;5;124m'\u001B[39m\u001B[38;5;124mbool\u001B[39m\u001B[38;5;124m'\u001B[39m: \u001B[38;5;28;01mlambda\u001B[39;00m: BoolFormat(data),\n\u001B[0;32m    365\u001B[0m         \u001B[38;5;124m'\u001B[39m\u001B[38;5;124mint\u001B[39m\u001B[38;5;124m'\u001B[39m: \u001B[38;5;28;01mlambda\u001B[39;00m: IntegerFormat(data),\n\u001B[1;32m--> 366\u001B[0m         \u001B[38;5;124m'\u001B[39m\u001B[38;5;124mfloat\u001B[39m\u001B[38;5;124m'\u001B[39m: \u001B[38;5;28;01mlambda\u001B[39;00m: \u001B[43mFloatingFormat\u001B[49m\u001B[43m(\u001B[49m\n\u001B[0;32m    367\u001B[0m \u001B[43m            \u001B[49m\u001B[43mdata\u001B[49m\u001B[43m,\u001B[49m\u001B[43m \u001B[49m\u001B[43mprecision\u001B[49m\u001B[43m,\u001B[49m\u001B[43m \u001B[49m\u001B[43mfloatmode\u001B[49m\u001B[43m,\u001B[49m\u001B[43m \u001B[49m\u001B[43msuppress\u001B[49m\u001B[43m,\u001B[49m\u001B[43m \u001B[49m\u001B[43msign\u001B[49m\u001B[43m,\u001B[49m\u001B[43m \u001B[49m\u001B[43mlegacy\u001B[49m\u001B[38;5;241;43m=\u001B[39;49m\u001B[43mlegacy\u001B[49m\u001B[43m)\u001B[49m,\n\u001B[0;32m    368\u001B[0m         \u001B[38;5;124m'\u001B[39m\u001B[38;5;124mlongfloat\u001B[39m\u001B[38;5;124m'\u001B[39m: \u001B[38;5;28;01mlambda\u001B[39;00m: FloatingFormat(\n\u001B[0;32m    369\u001B[0m             data, precision, floatmode, suppress, sign, legacy\u001B[38;5;241m=\u001B[39mlegacy),\n\u001B[0;32m    370\u001B[0m         \u001B[38;5;124m'\u001B[39m\u001B[38;5;124mcomplexfloat\u001B[39m\u001B[38;5;124m'\u001B[39m: \u001B[38;5;28;01mlambda\u001B[39;00m: ComplexFloatingFormat(\n\u001B[0;32m    371\u001B[0m             data, precision, floatmode, suppress, sign, legacy\u001B[38;5;241m=\u001B[39mlegacy),\n\u001B[0;32m    372\u001B[0m         \u001B[38;5;124m'\u001B[39m\u001B[38;5;124mlongcomplexfloat\u001B[39m\u001B[38;5;124m'\u001B[39m: \u001B[38;5;28;01mlambda\u001B[39;00m: ComplexFloatingFormat(\n\u001B[0;32m    373\u001B[0m             data, precision, floatmode, suppress, sign, legacy\u001B[38;5;241m=\u001B[39mlegacy),\n\u001B[0;32m    374\u001B[0m         \u001B[38;5;124m'\u001B[39m\u001B[38;5;124mdatetime\u001B[39m\u001B[38;5;124m'\u001B[39m: \u001B[38;5;28;01mlambda\u001B[39;00m: DatetimeFormat(data, legacy\u001B[38;5;241m=\u001B[39mlegacy),\n\u001B[0;32m    375\u001B[0m         \u001B[38;5;124m'\u001B[39m\u001B[38;5;124mtimedelta\u001B[39m\u001B[38;5;124m'\u001B[39m: \u001B[38;5;28;01mlambda\u001B[39;00m: TimedeltaFormat(data),\n\u001B[0;32m    376\u001B[0m         \u001B[38;5;124m'\u001B[39m\u001B[38;5;124mobject\u001B[39m\u001B[38;5;124m'\u001B[39m: \u001B[38;5;28;01mlambda\u001B[39;00m: _object_format,\n\u001B[0;32m    377\u001B[0m         \u001B[38;5;124m'\u001B[39m\u001B[38;5;124mvoid\u001B[39m\u001B[38;5;124m'\u001B[39m: \u001B[38;5;28;01mlambda\u001B[39;00m: str_format,\n\u001B[0;32m    378\u001B[0m         \u001B[38;5;124m'\u001B[39m\u001B[38;5;124mnumpystr\u001B[39m\u001B[38;5;124m'\u001B[39m: \u001B[38;5;28;01mlambda\u001B[39;00m: repr_format,\n\u001B[0;32m    379\u001B[0m         \u001B[38;5;124m'\u001B[39m\u001B[38;5;124mstr\u001B[39m\u001B[38;5;124m'\u001B[39m: \u001B[38;5;28;01mlambda\u001B[39;00m: \u001B[38;5;28mstr\u001B[39m}\n\u001B[0;32m    381\u001B[0m     \u001B[38;5;66;03m# we need to wrap values in `formatter` in a lambda, so that the interface\u001B[39;00m\n\u001B[0;32m    382\u001B[0m     \u001B[38;5;66;03m# is the same as the above values.\u001B[39;00m\n\u001B[0;32m    383\u001B[0m     \u001B[38;5;28;01mdef\u001B[39;00m \u001B[38;5;21mindirect\u001B[39m(x):\n",
      "File \u001B[1;32mc:\\users\\ydssx\\appdata\\local\\programs\\python\\python38\\lib\\site-packages\\numpy\\core\\arrayprint.py:888\u001B[0m, in \u001B[0;36mFloatingFormat.__init__\u001B[1;34m(self, data, precision, floatmode, suppress_small, sign, legacy)\u001B[0m\n\u001B[0;32m    885\u001B[0m \u001B[38;5;28mself\u001B[39m\u001B[38;5;241m.\u001B[39mexp_format \u001B[38;5;241m=\u001B[39m \u001B[38;5;28;01mFalse\u001B[39;00m\n\u001B[0;32m    886\u001B[0m \u001B[38;5;28mself\u001B[39m\u001B[38;5;241m.\u001B[39mlarge_exponent \u001B[38;5;241m=\u001B[39m \u001B[38;5;28;01mFalse\u001B[39;00m\n\u001B[1;32m--> 888\u001B[0m \u001B[38;5;28;43mself\u001B[39;49m\u001B[38;5;241;43m.\u001B[39;49m\u001B[43mfillFormat\u001B[49m\u001B[43m(\u001B[49m\u001B[43mdata\u001B[49m\u001B[43m)\u001B[49m\n",
      "File \u001B[1;32mc:\\users\\ydssx\\appdata\\local\\programs\\python\\python38\\lib\\site-packages\\numpy\\core\\arrayprint.py:892\u001B[0m, in \u001B[0;36mFloatingFormat.fillFormat\u001B[1;34m(self, data)\u001B[0m\n\u001B[0;32m    890\u001B[0m \u001B[38;5;28;01mdef\u001B[39;00m \u001B[38;5;21mfillFormat\u001B[39m(\u001B[38;5;28mself\u001B[39m, data):\n\u001B[0;32m    891\u001B[0m     \u001B[38;5;66;03m# only the finite values are used to compute the number of digits\u001B[39;00m\n\u001B[1;32m--> 892\u001B[0m     finite_vals \u001B[38;5;241m=\u001B[39m \u001B[43mdata\u001B[49m\u001B[43m[\u001B[49m\u001B[43misfinite\u001B[49m\u001B[43m(\u001B[49m\u001B[43mdata\u001B[49m\u001B[43m)\u001B[49m\u001B[43m]\u001B[49m\n\u001B[0;32m    894\u001B[0m     \u001B[38;5;66;03m# choose exponential mode based on the non-zero finite values:\u001B[39;00m\n\u001B[0;32m    895\u001B[0m     abs_non_zero \u001B[38;5;241m=\u001B[39m absolute(finite_vals[finite_vals \u001B[38;5;241m!=\u001B[39m \u001B[38;5;241m0\u001B[39m])\n",
      "\u001B[1;31mKeyboardInterrupt\u001B[0m: "
     ]
    }
   ],
   "source": [
    "kshapelets = SelectShapelet(data_train,target_train,lmin,lmax,alp,blt,ylt)"
   ],
   "metadata": {
    "collapsed": false,
    "pycharm": {
     "name": "#%%\n"
    }
   }
  },
  {
   "cell_type": "code",
   "execution_count": null,
   "metadata": {},
   "outputs": [],
   "source": [
    "# kshapelets = ShapeletCachedSelection(T,lmin,lmax,k)"
   ]
  },
  {
   "cell_type": "code",
   "execution_count": null,
   "metadata": {},
   "outputs": [],
   "source": [
    "# for Ti in T:\n",
    "#     plt.plot(Ti)\n",
    "# plt.title(\"Training Trajectories\")"
   ]
  },
  {
   "cell_type": "code",
   "execution_count": null,
   "metadata": {},
   "outputs": [],
   "source": [
    "# for shape in kshapelets:\n",
    "#     plt.plot(shape[0])\n",
    "# plt.title(\"Discriminatory Shapelets\")\n",
    "# plt.show()"
   ]
  },
  {
   "cell_type": "code",
   "execution_count": null,
   "metadata": {},
   "outputs": [],
   "source": [
    "# feature_shaplets,quality_scores = zip(*kshapelets)"
   ]
  },
  {
   "cell_type": "code",
   "execution_count": null,
   "metadata": {
    "scrolled": true
   },
   "outputs": [],
   "source": [
    "# dataset = np.zeros((N,k))\n",
    "# for i,feature in enumerate(tqdm(feature_shaplets)):\n",
    "#     l = len(feature)\n",
    "#     Wl = create_Wl(T,l)\n",
    "#     Ds = findDistances(feature,Wl)\n",
    "#     dataset[:,i] = Ds\n",
    "# # print(dataset)"
   ]
  },
  {
   "cell_type": "code",
   "execution_count": null,
   "metadata": {},
   "outputs": [],
   "source": [
    "# dataset_test = np.zeros((N_test,k))\n",
    "# for i,feature in enumerate(tqdm(feature_shaplets)):\n",
    "#     l = len(feature)\n",
    "#     Wl = create_Wl(T_test,l)\n",
    "#     Ds = findDistances(feature,Wl)\n",
    "#     dataset_test[:,i] = Ds"
   ]
  },
  {
   "cell_type": "code",
   "execution_count": null,
   "metadata": {},
   "outputs": [],
   "source": [
    "# from sklearn.linear_model import LogisticRegressionCV\n",
    "# from sklearn.svm import LinearSVC\n",
    "# from sklearn.preprocessing import StandardScaler\n",
    "# from sklearn.metrics import classification_report\n",
    "# from sklearn.metrics import accuracy_score"
   ]
  },
  {
   "cell_type": "code",
   "execution_count": null,
   "metadata": {
    "scrolled": true
   },
   "outputs": [],
   "source": [
    "# sc = StandardScaler()\n",
    "# # model = LogisticRegressionCV().fit(sc.fit_transform(dataset),C)\n",
    "# model = LinearSVC().fit(sc.fit_transform(dataset),C)"
   ]
  },
  {
   "cell_type": "code",
   "execution_count": null,
   "metadata": {
    "scrolled": true
   },
   "outputs": [],
   "source": [
    "# print(classification_report(C,model.predict(sc.transform(dataset))))"
   ]
  },
  {
   "cell_type": "code",
   "execution_count": null,
   "metadata": {
    "scrolled": true
   },
   "outputs": [],
   "source": [
    "# print(classification_report(C_test,model.predict(sc.transform(dataset_test))))\n",
    "# print(accuracy_score(C_test,model.predict(sc.transform(dataset_test))))"
   ]
  }
 ],
 "metadata": {
  "kernelspec": {
   "name": "python3",
   "language": "python",
   "display_name": "Python 3 (ipykernel)"
  },
  "language_info": {
   "codemirror_mode": {
    "name": "ipython",
    "version": 3
   },
   "file_extension": ".py",
   "mimetype": "text/x-python",
   "name": "python",
   "nbconvert_exporter": "python",
   "pygments_lexer": "ipython3",
   "version": "3.6.3"
  }
 },
 "nbformat": 4,
 "nbformat_minor": 4
}
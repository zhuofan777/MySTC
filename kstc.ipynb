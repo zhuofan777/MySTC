{
 "cells": [
  {
   "cell_type": "code",
   "execution_count": 437,
   "outputs": [],
   "source": [
    "import random\n",
    "\n",
    "import numpy as np\n",
    "import pandas as pd\n",
    "from scipy.stats import f_oneway\n",
    "from scipy.spatial.distance import cdist\n",
    "from sklearn.manifold import TSNE\n",
    "import matplotlib.pyplot as plt\n",
    "import seaborn as sns\n",
    "from tqdm import tqdm\n",
    "import heapq as hq"
   ],
   "metadata": {
    "collapsed": false,
    "pycharm": {
     "name": "#%%\n"
    }
   }
  },
  {
   "cell_type": "code",
   "execution_count": 438,
   "outputs": [],
   "source": [
    "# 计算方差窗口的大小\n",
    "def computeWinSize(length, b):\n",
    "    if 0 < length <= b:\n",
    "        return 1\n",
    "    else:\n",
    "        return length // b"
   ],
   "metadata": {
    "collapsed": false,
    "pycharm": {
     "name": "#%%\n"
    }
   }
  },
  {
   "cell_type": "code",
   "execution_count": 439,
   "outputs": [],
   "source": [
    "# 计算标准差数组\n",
    "def computeStdArr(series, b):\n",
    "    l = len(series)\n",
    "    # 窗口下取整\n",
    "    w = computeWinSize(l, b)\n",
    "    # print(w)\n",
    "    res = []\n",
    "    for i in range(w, l - w):\n",
    "        win_arr = [0 for i in range(2 * w + 1)]\n",
    "        cnt = 0\n",
    "        for j in range(i - w, w + i + 1):\n",
    "            win_arr[cnt] = series[j]\n",
    "            cnt += 1\n",
    "        std = np.std(win_arr, ddof=0)\n",
    "        res.append(std)\n",
    "    return res"
   ],
   "metadata": {
    "collapsed": false,
    "pycharm": {
     "name": "#%%\n"
    }
   }
  },
  {
   "cell_type": "code",
   "execution_count": 440,
   "outputs": [],
   "source": [
    "# 选择L*α最大的点的下标,，保留下标\n",
    "def selectLargePoint(series, a):\n",
    "    l = len(series)\n",
    "    # 生成l*a个\n",
    "    res = hq.nlargest(int(l * a), range(l), key=lambda x: series[x])\n",
    "    return res"
   ],
   "metadata": {
    "collapsed": false,
    "pycharm": {
     "name": "#%%\n"
    }
   }
  },
  {
   "cell_type": "code",
   "execution_count": 441,
   "outputs": [],
   "source": [
    "# 判断是否为波峰波谷\n",
    "def isPeakOrValley(std_arr, index, b):\n",
    "    win_size = computeWinSize(len(std_arr), b)\n",
    "    flag = False\n",
    "    if win_size == 1:\n",
    "        if ((std_arr[index] > std_arr[index - 1] and std_arr[index] > std_arr[index + 1]) or (\n",
    "                std_arr[index] < std_arr[index - 1] and std_arr[index] < std_arr[index + 1])):\n",
    "            flag = True\n",
    "    elif win_size == 2:\n",
    "        if ((std_arr[index] >= std_arr[index - 1] and std_arr[index] > std_arr[index - 2] and std_arr[index] >= std_arr[\n",
    "            index + 1] and std_arr[index] > std_arr[index + 2])\n",
    "                or\n",
    "                (std_arr[index] <= std_arr[index - 1] and std_arr[index] < std_arr[index - 2] and std_arr[index] <=\n",
    "                 std_arr[\n",
    "                     index + 1]) and std_arr[index] < std_arr[index + 2]):\n",
    "            flag = True\n",
    "    elif win_size == 3:\n",
    "        if ((std_arr[index] >= std_arr[index - 1] and std_arr[index] > std_arr[index - 2] and std_arr[index] > std_arr[\n",
    "            index - 3]\n",
    "             and std_arr[index] >= std_arr[index + 1] and std_arr[index] > std_arr[index + 2] and std_arr[index] >\n",
    "             std_arr[\n",
    "                 index + 3])\n",
    "                or\n",
    "                (std_arr[index] <= std_arr[index - 1] and std_arr[index] < std_arr[index - 2] and std_arr[index] <\n",
    "                 std_arr[index - 3]) and std_arr[index] <= std_arr[index + 1] and std_arr[index] < std_arr[\n",
    "                    index + 2] and std_arr[index] < std_arr[index + 3]):\n",
    "            flag = True\n",
    "    elif win_size == 4:\n",
    "        if ((std_arr[index] >= std_arr[index - 1] and std_arr[index] > std_arr[index - 2] and std_arr[index] > std_arr[\n",
    "            index - 3] and std_arr[index] > std_arr[index - 4]\n",
    "             and std_arr[index] >= std_arr[index + 1] and std_arr[index] > std_arr[index + 2] and std_arr[index] >\n",
    "             std_arr[\n",
    "                 index + 3] and std_arr[index] > std_arr[index + 4])\n",
    "                or\n",
    "                (std_arr[index] <= std_arr[index - 1] and std_arr[index] < std_arr[index - 2] and std_arr[index] <\n",
    "                 std_arr[\n",
    "                     index - 3] and std_arr[index] < std_arr[index - 4]\n",
    "                 and std_arr[index] <= std_arr[index + 1] and std_arr[index] < std_arr[index + 2] and std_arr[index] <\n",
    "                 std_arr[index + 3] and std_arr[index] < std_arr[index + 4])):\n",
    "            flag = True\n",
    "    else:\n",
    "        if ((std_arr[index] > std_arr[index - 1] and std_arr[index] > std_arr[index - 2] and std_arr[index] > std_arr[\n",
    "            index - 3] and std_arr[index] > std_arr[index - 4] and std_arr[index] > std_arr[index - 5]\n",
    "             and std_arr[index] > std_arr[index + 1] and std_arr[index] > std_arr[index + 2] and std_arr[index] >\n",
    "             std_arr[\n",
    "                 index + 3] and std_arr[index] > std_arr[index + 4] and std_arr[index] > std_arr[index + 5])\n",
    "                or\n",
    "                (std_arr[index] < std_arr[index - 1] and std_arr[index] < std_arr[index - 2] and std_arr[index] <\n",
    "                 std_arr[\n",
    "                     index - 3] and std_arr[index] < std_arr[index - 4] and std_arr[index] < std_arr[index - 5]\n",
    "                 and std_arr[index] < std_arr[index + 1] and std_arr[index] < std_arr[index + 2] and std_arr[index] <\n",
    "                 std_arr[\n",
    "                     index + 3] and std_arr[index] < std_arr[index + 4] and std_arr[index] < std_arr[index + 5])):\n",
    "            flag = True\n",
    "    return flag"
   ],
   "metadata": {
    "collapsed": false,
    "pycharm": {
     "name": "#%%\n"
    }
   }
  },
  {
   "cell_type": "code",
   "execution_count": 442,
   "outputs": [],
   "source": [
    "# 找到所有合适的区间\n",
    "def fitPoint(stdA, indexA, b):\n",
    "    w = computeWinSize(len(stdA), b)\n",
    "    l = len(indexA)\n",
    "    res = []\n",
    "    for i in range(0, l):\n",
    "        val = indexA[i]\n",
    "        if w <= val < l - w:\n",
    "            if isPeakOrValley(stdA, val, b):\n",
    "                res.append(val + 2 * w + 1)\n",
    "    return res"
   ],
   "metadata": {
    "collapsed": false,
    "pycharm": {
     "name": "#%%\n"
    }
   }
  },
  {
   "cell_type": "code",
   "execution_count": 443,
   "outputs": [],
   "source": [
    "# 提取特征关键点\n",
    "def extractFeaturePoint(arr, a, b):\n",
    "    stdArrOne = computeStdArr(arr, b)\n",
    "    largePoint = selectLargePoint(stdArrOne, a)\n",
    "    indexArr = fitPoint(stdArrOne, largePoint, b)\n",
    "    return indexArr"
   ],
   "metadata": {
    "collapsed": false,
    "pycharm": {
     "name": "#%%\n"
    }
   }
  },
  {
   "cell_type": "code",
   "execution_count": 444,
   "outputs": [],
   "source": [
    "# 判断有几个关键点与它相近\n",
    "def closeNums(keyList,key,threshold):\n",
    "    cnt = 0\n",
    "    cnt += keyList.count(key)\n",
    "    for i in range(1,threshold):\n",
    "        a = key + i\n",
    "        b = key - i\n",
    "        cnt += keyList.count(a)\n",
    "        cnt += keyList.count(b)\n",
    "    return cnt"
   ],
   "metadata": {
    "collapsed": false,
    "pycharm": {
     "name": "#%%\n"
    }
   }
  },
  {
   "cell_type": "code",
   "execution_count": 445,
   "outputs": [],
   "source": [
    "class keyPoint:\n",
    "    def __init__(self,key,cnt,dim):\n",
    "        self.key = key\n",
    "        self.cnt = cnt\n",
    "        self.dim = dim"
   ],
   "metadata": {
    "collapsed": false,
    "pycharm": {
     "name": "#%%\n"
    }
   }
  },
  {
   "cell_type": "code",
   "execution_count": 446,
   "outputs": [],
   "source": [
    "class smallKeyPoint:\n",
    "    def __init__(self,key,dim):\n",
    "        self.key = key\n",
    "        self.dim = dim"
   ],
   "metadata": {
    "collapsed": false,
    "pycharm": {
     "name": "#%%\n"
    }
   }
  },
  {
   "cell_type": "code",
   "execution_count": 447,
   "outputs": [],
   "source": [
    "# 找到较为相近的关键点\n",
    "def selectKeys(data,alp,blt,howclose,orgin_dim_nums):\n",
    "    # 原始data顺序 样本数 维度数 序列长度\n",
    "    dim_nums = data.shape[1]\n",
    "    sample_nums = data.shape[0]\n",
    "    all_keys = []\n",
    "    for sm in tqdm(range(sample_nums)):\n",
    "        one_sample  = data[sm]\n",
    "        ################ 原始序列 #####################\n",
    "\n",
    "        # 每个维度的关键点下标集合\n",
    "        key_points = []\n",
    "        # 所为维度下的关键点下标\n",
    "        ex_key_points = []\n",
    "        for dn in range(orgin_dim_nums):\n",
    "            # keys 关键点的下标\n",
    "            keys = extractFeaturePoint(one_sample[dn],alp,blt)\n",
    "            key_points.append(keys)\n",
    "        # 有一部分在构建的序列上\n",
    "\n",
    "        for dn in range(orgin_dim_nums):\n",
    "            # 一个维度上的关键下标\n",
    "            kl = key_points[dn]\n",
    "            # 去掉自己维度的下标\n",
    "            tmp_key_points = key_points[:]\n",
    "            tmp_key_points.remove(kl)\n",
    "            key_list = []\n",
    "            for i in tmp_key_points:\n",
    "                key_list.extend(i)\n",
    "\n",
    "            ekl = []\n",
    "            for k in kl:\n",
    "                cnt = closeNums(key_list,k,howclose)\n",
    "                ekl.append(keyPoint(k,cnt,dn))\n",
    "            ex_key_points.extend(ekl)\n",
    "\n",
    "        ex_key_points.sort(key=lambda x:x.cnt,reverse=True)\n",
    "        # 筛选\n",
    "        res_keys = ex_key_points[:]\n",
    "        res = 0\n",
    "        for k in res_keys:\n",
    "            if k.cnt >= res_keys[0].cnt * 0.9:\n",
    "                res += 1\n",
    "        res_keys = res_keys[:res]\n",
    "\n",
    "        ################ 转换序列 ####################\n",
    "\n",
    "        # 每个维度的关键点下标集合\n",
    "        key_points = []\n",
    "        # 所为维度下的关键点下标\n",
    "        ex_key_points = []\n",
    "        for dn in range(orgin_dim_nums,dim_nums):\n",
    "            # keys 关键点的下标\n",
    "            keys = extractFeaturePoint(one_sample[dn],alp,blt)\n",
    "            key_points.append(keys)\n",
    "        # 有一部分在构建的序列上\n",
    "\n",
    "        for dn in range(orgin_dim_nums,dim_nums):\n",
    "            # 一个维度上的关键下标\n",
    "            kl = key_points[dn-orgin_dim_nums]\n",
    "            # 去掉自己维度的下标\n",
    "            tmp_key_points = key_points[:]\n",
    "            tmp_key_points.remove(kl)\n",
    "            key_list = []\n",
    "            for i in tmp_key_points:\n",
    "                key_list.extend(i)\n",
    "\n",
    "            ekl = []\n",
    "            for k in kl:\n",
    "                cnt = closeNums(key_list,k,howclose)\n",
    "                ekl.append(keyPoint(k,cnt,dn))\n",
    "            ex_key_points.extend(ekl)\n",
    "\n",
    "        ex_key_points.sort(key=lambda x:x.cnt,reverse=True)\n",
    "        # 筛选\n",
    "        res_keys2 = ex_key_points[:]\n",
    "        res = 0\n",
    "        for k in res_keys2:\n",
    "            if k.cnt >= res_keys2[0].cnt * 0.9:\n",
    "                res += 1\n",
    "        res_keys2 = res_keys2[:res]\n",
    "\n",
    "\n",
    "\n",
    "        all_keys.append(res_keys + res_keys2)\n",
    "        # all_keys.append(res_keys)\n",
    "    return all_keys"
   ],
   "metadata": {
    "collapsed": false,
    "pycharm": {
     "name": "#%%\n"
    }
   }
  },
  {
   "cell_type": "code",
   "execution_count": 448,
   "outputs": [],
   "source": [
    "class shapelet:\n",
    "    def __init__(self,keyPoint,ylt,st,ed,length,val,sample):\n",
    "        # keyPoint 由那个keyPoint生成\n",
    "        # ylt 松弛是多少\n",
    "        # st 起始位置\n",
    "        # ed 终止位置\n",
    "        # val shapelet在序列中的实际的值\n",
    "        self.dist = None\n",
    "        self.quality = None\n",
    "        self.keyPoint = keyPoint\n",
    "        self.ylt = ylt\n",
    "        self.st = st\n",
    "        self.ed = ed\n",
    "        self.length = length\n",
    "        self.val = val\n",
    "        self.sample = sample\n",
    "    def setQuality(self,quality):\n",
    "        self.quality = quality\n",
    "    def setDis(self,dist):\n",
    "        self.dist = dist"
   ],
   "metadata": {
    "collapsed": false,
    "pycharm": {
     "name": "#%%\n"
    }
   }
  },
  {
   "cell_type": "code",
   "execution_count": 449,
   "outputs": [],
   "source": [
    "def generateCandidates(s,sm,l,keyP,ylt):\n",
    "    # sm 为单个样本[维度，长度]\n",
    "    # keyP 应该为一个keyPoint\n",
    "    # ylt为松弛参数\n",
    "    candidate = []\n",
    "    if l % 2 == 1:\n",
    "        l = l // 2\n",
    "        dim = keyP.dim\n",
    "        s = s[dim]\n",
    "        for i in range(-ylt,ylt+1):\n",
    "            # 从中心点两侧的松弛长度进行计算\n",
    "            if keyP.key - i - l < 0:\n",
    "                continue\n",
    "            left = keyP.key - i - l\n",
    "            if keyP.key - i + l + 1 >= len(s):\n",
    "                continue\n",
    "            right = keyP.key - i + l + 1\n",
    "            spt = shapelet(keyPoint=keyP,ylt=ylt,st=left,ed=right - 1,length=right-left,val=s[left:right],sample=sm)\n",
    "            candidate.append(spt)\n",
    "    else:\n",
    "        l = l // 2\n",
    "        dim = keyP.dim\n",
    "        s = s[dim]\n",
    "        for i in range(-ylt,ylt+1):\n",
    "            # 从中心点两侧的松弛长度进行计算\n",
    "            if keyP.key - i - l < 0:\n",
    "                continue\n",
    "            left = keyP.key - i - l\n",
    "            if keyP.key - i + l >= len(s):\n",
    "                continue\n",
    "            right = keyP.key - i + l\n",
    "            spt = shapelet(keyPoint=keyP,ylt=ylt,st=left,ed=right - 1,length=right-left,val=s[left:right],sample=sm)\n",
    "            candidate.append(spt)\n",
    "            if keyP.key - i - l + 1< 0:\n",
    "                continue\n",
    "            left = keyP.key - i - l + 1\n",
    "            if keyP.key - i + l + 1 >= len(s):\n",
    "                continue\n",
    "            right = keyP.key - i + l + 1\n",
    "            spt = shapelet(keyPoint=keyP,ylt=ylt,st=left,ed=right - 1,length=right-left,val=s[left:right],sample=sm)\n",
    "            candidate.append(spt)\n",
    "    return candidate"
   ],
   "metadata": {
    "collapsed": false,
    "pycharm": {
     "name": "#%%\n"
    }
   }
  },
  {
   "cell_type": "code",
   "execution_count": 450,
   "outputs": [],
   "source": [
    "import collections"
   ],
   "metadata": {
    "collapsed": false,
    "pycharm": {
     "name": "#%%\n"
    }
   }
  },
  {
   "cell_type": "code",
   "execution_count": 451,
   "outputs": [],
   "source": [
    "def findShapeletCandidates(data, lmin, lmax, keys, ylt, odim):\n",
    "    sample_nums = data.shape[0]\n",
    "    candidate = []\n",
    "    for sm in tqdm(range(sample_nums)):\n",
    "        s = data[sm]\n",
    "        keyList = keys[sm]\n",
    "        for k in keyList:\n",
    "            # lmin - lmax\n",
    "            for l in range(lmin, lmax + 1):\n",
    "                candidate.extend(generateCandidates(s, sm, l, k, ylt))\n",
    "    # print(len(candidate))\n",
    "    dt = collections.defaultdict(list)\n",
    "    for cd in candidate:\n",
    "        dt[cd.length].append(cd)\n",
    "\n",
    "    # 对dt进行剪枝\n",
    "    v = dt.keys()\n",
    "    # print(len(dt[3]))\n",
    "\n",
    "    # 对于每个长度\n",
    "    for k in v:\n",
    "        ls = dt[k]\n",
    "        tmpls = []\n",
    "        #     每个维度都选几个\n",
    "        res = collections.defaultdict(list)\n",
    "        for i in ls:\n",
    "            # print(type(i))\n",
    "            res[i.keyPoint.dim].append(i)\n",
    "        dims = list(res.keys())\n",
    "        org_dim_list = []\n",
    "        convert_dim_list = []\n",
    "        for i in dims:\n",
    "            if i >= odim:\n",
    "                convert_dim_list.append([i, len(res[i])])\n",
    "            else:\n",
    "                org_dim_list.append([i, len(res[i])])\n",
    "\n",
    "        org_dim_list.sort(key=lambda x: x[1], reverse=True)\n",
    "        convert_dim_list.sort(key=lambda x: x[1], reverse=True)\n",
    "\n",
    "\n",
    "        org_pre_dim = int(len(org_dim_list) * 0.3) if int(len(org_dim_list) * 0.3) > 0 else 1\n",
    "        org_pre_dims = org_dim_list[:org_pre_dim + 1]\n",
    "        org_aft_dims = org_dim_list[org_pre_dim + 1:]\n",
    "        if len(org_pre_dims) > 1:\n",
    "            org_pre_dims = random.sample(org_pre_dims, min(org_pre_dim,int(org_pre_dim * 0.7) + 1 if int(org_pre_dim * 0.7) > 0 else 1))\n",
    "        if len(org_aft_dims) > 1:\n",
    "            org_aft_dims = random.sample(org_aft_dims, min(len(org_aft_dims),int(len(org_aft_dims) * 0.3) + 1 if int(len(org_aft_dims) * 0.3) > 0 else 1))\n",
    "        print(org_pre_dims,org_aft_dims)\n",
    "        #\n",
    "        convert_pre_dim = int(len(convert_dim_list) * 0.3) if int(len(convert_dim_list) * 0.3) > 0 else 1\n",
    "        convert_pre_dims = convert_dim_list[:convert_pre_dim + 1]\n",
    "        convert_aft_dims = convert_dim_list[convert_pre_dim + 1:]\n",
    "        if len(convert_pre_dims) > 1:\n",
    "            convert_pre_dims = random.sample(convert_pre_dims, min(convert_pre_dim,int(convert_pre_dim * 0.7)+1 if int(convert_pre_dim * 0.7) > 0 else 1 ))\n",
    "        if len(convert_aft_dims) > 1:\n",
    "            convert_aft_dims = random.sample(convert_aft_dims, min(len(convert_aft_dims),int(len(convert_aft_dims) * 0.3) if int(len(convert_aft_dims) * 0.3) > 0 else 1  ))\n",
    "\n",
    "        print(convert_pre_dims,convert_aft_dims)\n",
    "\n",
    "        dims_list =  org_pre_dims + org_aft_dims + convert_pre_dims + convert_aft_dims\n",
    "        dims = []\n",
    "\n",
    "\n",
    "        for i in dims_list:\n",
    "            dims.append(i[0])\n",
    "        dims = list(set(dims))\n",
    "        # print(dims)\n",
    "\n",
    "        # # 筛选维度\n",
    "        for i in dims:\n",
    "\n",
    "            tmp = res[i]\n",
    "            # 尽量选取每个样本\n",
    "            newdt = collections.defaultdict(list)\n",
    "            for x in tmp:\n",
    "                newdt[x.sample].append(x)\n",
    "            klist = list(newdt.keys())\n",
    "\n",
    "            indx = 0\n",
    "            smp = []\n",
    "            while len(smp) <= min(50, len(tmp)):\n",
    "                index = klist[indx]\n",
    "                indx = (indx + 1) % len(klist)\n",
    "                rc = random.choice(newdt[index])\n",
    "                # 防止死循环\n",
    "                cntime = 0\n",
    "                while rc in smp:\n",
    "                    cntime += 1\n",
    "                    rc = random.choice(newdt[index])\n",
    "                    if cntime == 50:\n",
    "                        break\n",
    "                smp.append(rc)\n",
    "            # smp = random.sample(tmp,min(50,len(tmp)))\n",
    "            tmpls.extend(smp)\n",
    "\n",
    "        dt[k] = tmpls\n",
    "    return dt"
   ],
   "metadata": {
    "collapsed": false,
    "pycharm": {
     "name": "#%%\n"
    }
   }
  },
  {
   "cell_type": "code",
   "execution_count": 452,
   "outputs": [],
   "source": [
    "def findDistances(c,l,data):\n",
    "    # 查找获选shapelet在每个样本上的最小值\n",
    "    ds = []\n",
    "    dim = c.keyPoint.dim\n",
    "    data = np.transpose(data,axes=(1,0,2))\n",
    "    sers = data[dim]\n",
    "    for s in sers:\n",
    "        cp = [s[i : i + l] for i in range(0, len(s)-l+1, 1)]\n",
    "        ds.append(cdist([c.val],cp,metric='seuclidean').min())\n",
    "    return np.array(ds)"
   ],
   "metadata": {
    "collapsed": false,
    "pycharm": {
     "name": "#%%\n"
    }
   }
  },
  {
   "cell_type": "code",
   "execution_count": 453,
   "outputs": [],
   "source": [
    "def assessCandidate(ds,label):\n",
    "    class_groups = []\n",
    "    for c in np.unique(label):\n",
    "        class_groups.append(ds[label==c].tolist())\n",
    "#  返回f值\n",
    "    return f_oneway(*class_groups).statistic"
   ],
   "metadata": {
    "collapsed": false,
    "pycharm": {
     "name": "#%%\n"
    }
   }
  },
  {
   "cell_type": "code",
   "execution_count": 454,
   "outputs": [],
   "source": [
    "def sortByQuality(shapelets):\n",
    "    return sorted(shapelets, key=lambda s: s.quality,reverse=True)"
   ],
   "metadata": {
    "collapsed": false,
    "pycharm": {
     "name": "#%%\n"
    }
   }
  },
  {
   "cell_type": "code",
   "execution_count": 455,
   "outputs": [],
   "source": [
    "def sortByDist(shapelets):\n",
    "    return sorted(shapelets, key=lambda s: s.dist,reverse=True)\n"
   ],
   "metadata": {
    "collapsed": false,
    "pycharm": {
     "name": "#%%\n"
    }
   }
  },
  {
   "cell_type": "code",
   "execution_count": 456,
   "outputs": [],
   "source": [
    "class interval:\n",
    "    def __init__(self,st,ed):\n",
    "        self.st = st\n",
    "        self.ed = ed\n",
    "    def isInclude(self,a):\n",
    "        # 是否被a包含\n",
    "        if self.st >= a.st and self.ed <= a.ed:\n",
    "            return True"
   ],
   "metadata": {
    "collapsed": false,
    "pycharm": {
     "name": "#%%\n"
    }
   }
  },
  {
   "cell_type": "code",
   "execution_count": 457,
   "outputs": [],
   "source": [
    "def removeSelfSimilar(shapelets):\n",
    "    ts = shapelets[:][::-1]\n",
    "    it = []\n",
    "    for x in ts:\n",
    "        it.append(interval(x.st,x.ed))\n",
    "    removeIdx = []\n",
    "    l = len(it)\n",
    "    # 修改将重叠改为包含\n",
    "    for i in range(l):\n",
    "        for j in range(i+1,l):\n",
    "            if it[i].isInclude(it[j]):\n",
    "                removeIdx.append(i)\n",
    "                break\n",
    "    res = []\n",
    "    for i in range(l):\n",
    "        if i not in removeIdx:\n",
    "            res.append(ts[i])\n",
    "\n",
    "\n",
    "    return res[::-1]"
   ],
   "metadata": {
    "collapsed": false,
    "pycharm": {
     "name": "#%%\n"
    }
   }
  },
  {
   "cell_type": "code",
   "execution_count": 458,
   "outputs": [],
   "source": [
    "def merge(k,kShapelets,shapelets):\n",
    "    total_shapelets = kShapelets + shapelets\n",
    "    return sortByQuality(total_shapelets)[:k]"
   ],
   "metadata": {
    "collapsed": false,
    "pycharm": {
     "name": "#%%\n"
    }
   }
  },
  {
   "cell_type": "code",
   "execution_count": 459,
   "outputs": [],
   "source": [
    "def calDis(ds):\n",
    "    return sum(ds)"
   ],
   "metadata": {
    "collapsed": false,
    "pycharm": {
     "name": "#%%\n"
    }
   }
  },
  {
   "cell_type": "code",
   "execution_count": 460,
   "outputs": [],
   "source": [
    "\n",
    "\n",
    "def findShapelets(data,label,dt,k):\n",
    "    kShapelets1 = []\n",
    "    kShapelets2 = []\n",
    "    # l 为长度\n",
    "    for l in dt.keys():\n",
    "        # cd 是单个长度的所有样本和维度下的shaplet候选\n",
    "        cd = dt[l]\n",
    "        if len(cd) == 0:\n",
    "            continue\n",
    "        for i,c in enumerate(tqdm(cd)):\n",
    "            ds = findDistances(c,l,data)\n",
    "            quality = assessCandidate(ds,label)\n",
    "            dist = calDis(ds)\n",
    "            cd[i].setQuality(quality)\n",
    "            cd[i].setDis(dist)\n",
    "        cd1 = sortByQuality(cd)\n",
    "        # print(len(cd))\n",
    "        cd1 = removeSelfSimilar(cd1)\n",
    "        # print(len(cd))\n",
    "        kShapelets1 = merge(k,kShapelets1,cd1)\n",
    "        cd2 = sortByDist(cd)\n",
    "        cd2 = removeSelfSimilar(cd2)\n",
    "        # print(len(cd))\n",
    "        kShapelets2 = merge(k,kShapelets2,cd2)\n",
    "    kShapelets = list(set(kShapelets1 + kShapelets2))\n",
    "    return kShapelets"
   ],
   "metadata": {
    "collapsed": false,
    "pycharm": {
     "name": "#%%\n"
    }
   }
  },
  {
   "cell_type": "code",
   "execution_count": 461,
   "outputs": [],
   "source": [
    "def load_raw_ts(path, dataset):\n",
    "    path = path + \"raw//\" + dataset + \"//\"\n",
    "    # 训练集\n",
    "    x_train = np.load(path + 'X_train.npy')\n",
    "    x_train = np.transpose(x_train, axes=(0, 2, 1))\n",
    "    x_test = np.load(path + 'X_test.npy')\n",
    "    x_test = np.transpose(x_test, axes=(0, 2, 1))\n",
    "    y_train = np.load(path + 'y_train.npy')\n",
    "    y_test = np.load(path + 'y_test.npy')\n",
    "    labels = np.concatenate((y_train, y_test), axis=0)\n",
    "    nclass = int(np.amax(labels)) + 1\n",
    "    return x_train, x_test, y_train.reshape(-1), y_test.reshape(-1), nclass"
   ],
   "metadata": {
    "collapsed": false,
    "pycharm": {
     "name": "#%%\n"
    }
   }
  },
  {
   "cell_type": "code",
   "execution_count": 462,
   "outputs": [],
   "source": [
    "# 对于每个样本生成差异序列序列\n",
    "def genDiffSeries(data):\n",
    "    sample_nums = data.shape[0]\n",
    "    dim_nums = data.shape[1]\n",
    "    series_length = data.shape[2]\n",
    "    gen_data = []\n",
    "    for sn in range(sample_nums):\n",
    "        sm = data[sn]\n",
    "        res = []\n",
    "        # 先将原始的每个维度的加进入\n",
    "        for i in range(dim_nums):\n",
    "            res.append(sm[i])\n",
    "        # 再计算每个减法维度，然后依次加进去\n",
    "        for i in range(dim_nums-1):\n",
    "            for j in range(i+1,dim_nums):\n",
    "                s1 = sm[i]\n",
    "                s2 = sm[j]\n",
    "                news = [0 for _ in range(series_length)]\n",
    "                for k in range(series_length):\n",
    "                    news[k] = s1[k] - s2[k]\n",
    "                res.append(np.array(news))\n",
    "        gen_data.append(np.array(res))\n",
    "    return np.array(gen_data)\n"
   ],
   "metadata": {
    "collapsed": false,
    "pycharm": {
     "name": "#%%\n"
    }
   }
  },
  {
   "cell_type": "code",
   "execution_count": 463,
   "outputs": [
    {
     "name": "stdout",
     "output_type": "stream",
     "text": [
      "(12, 4, 2500)\n",
      "(12, 10, 2500)\n"
     ]
    }
   ],
   "source": [
    "# target_train 为标签 data_train 为序列\n",
    "data_train, data_test, target_train, target_test, nclass = load_raw_ts(\"D://tmppro//data//\", 'StandWalkJump')\n",
    "sample_nums = data_train.shape[0]\n",
    "dim_nums = data_train.shape[1]\n",
    "series_length = data_train.shape[2]\n",
    "test_nums = data_test.shape[0]\n",
    "lmin = 3\n",
    "lmax = 13\n",
    "# 选取shapelet的数量\n",
    "k = 150\n",
    "alp = 0.3\n",
    "# k = 20\n",
    "# alp = random.choice([0.3, 0.4])\n",
    "# blt = random.choice([100, 90, 80, 70, 60, 50])\n",
    "blt = 50\n",
    "# ylt = random.choice([5,6,7,8])\n",
    "ylt = 4\n",
    "dis = 2\n",
    "\n",
    "print(data_train.shape)\n",
    "a = genDiffSeries(data_train)\n",
    "print(a.shape)\n"
   ],
   "metadata": {
    "collapsed": false,
    "pycharm": {
     "name": "#%%\n"
    }
   }
  },
  {
   "cell_type": "code",
   "execution_count": 464,
   "outputs": [
    {
     "name": "stderr",
     "output_type": "stream",
     "text": [
      "100%|██████████| 12/12 [00:21<00:00,  1.77s/it]"
     ]
    },
    {
     "name": "stdout",
     "output_type": "stream",
     "text": [
      "select keys\n"
     ]
    },
    {
     "name": "stderr",
     "output_type": "stream",
     "text": [
      "\n"
     ]
    }
   ],
   "source": [
    "keys = selectKeys(a, alp, blt, 2,dim_nums)\n",
    "print('select keys')"
   ],
   "metadata": {
    "collapsed": false,
    "pycharm": {
     "name": "#%%\n"
    }
   }
  },
  {
   "cell_type": "code",
   "execution_count": 465,
   "outputs": [],
   "source": [
    "# print(len(keys[200]))"
   ],
   "metadata": {
    "collapsed": false,
    "pycharm": {
     "name": "#%%\n"
    }
   }
  },
  {
   "cell_type": "code",
   "execution_count": 466,
   "outputs": [
    {
     "name": "stderr",
     "output_type": "stream",
     "text": [
      "100%|██████████| 12/12 [00:00<00:00, 256.03it/s]"
     ]
    },
    {
     "name": "stdout",
     "output_type": "stream",
     "text": [
      "[[3, 135]] [[0, 117]]\n",
      "[[4, 63]] [[6, 36]]\n",
      "[[3, 270]] [[0, 234]]\n",
      "[[5, 162]] [[8, 90]]\n",
      "[[1, 135]] [[0, 117]]\n",
      "[[5, 81]] [[6, 36]]\n",
      "[[3, 270]] [[0, 234]]\n",
      "[[5, 162]] [[6, 72]]\n",
      "[[3, 135]] [[0, 117]]\n",
      "[[4, 63]] [[9, 27]]\n",
      "[[1, 270]] [[2, 234]]\n",
      "[[4, 126]] [[6, 72]]\n",
      "[[1, 135]] [[2, 117]]\n",
      "[[4, 63]] [[8, 45]]\n",
      "[[1, 270]] [[0, 234]]\n",
      "[[5, 162]] [[6, 72]]\n",
      "[[3, 135]] [[0, 117]]\n",
      "[[5, 81]] [[9, 27]]\n",
      "[[1, 270]] [[2, 234]]\n",
      "[[4, 126]] [[9, 54]]\n",
      "[[3, 135]] [[2, 117]]\n",
      "[[5, 81]] [[8, 45]]\n",
      "select candi\n"
     ]
    },
    {
     "name": "stderr",
     "output_type": "stream",
     "text": [
      "\n"
     ]
    }
   ],
   "source": [
    "dt = findShapeletCandidates(a, lmin, lmax, keys, ylt,dim_nums)\n",
    "print('select candi')\n"
   ],
   "metadata": {
    "collapsed": false,
    "pycharm": {
     "name": "#%%\n"
    }
   }
  },
  {
   "cell_type": "code",
   "execution_count": 467,
   "outputs": [
    {
     "name": "stderr",
     "output_type": "stream",
     "text": [
      "  7%|▋         | 14/190 [00:00<00:05, 31.77it/s]c:\\users\\ydssx\\appdata\\local\\programs\\python\\python38\\lib\\site-packages\\scipy\\stats\\stats.py:3650: F_onewayConstantInputWarning: Each of the input arrays is constant;the F statistic is not defined or infinite\n",
      "  warnings.warn(F_onewayConstantInputWarning())\n",
      "100%|██████████| 190/190 [00:05<00:00, 31.85it/s]\n",
      "100%|██████████| 204/204 [00:06<00:00, 31.38it/s]\n",
      "100%|██████████| 190/190 [00:06<00:00, 30.25it/s]\n",
      "100%|██████████| 204/204 [00:06<00:00, 32.25it/s]\n",
      "100%|██████████| 181/181 [00:05<00:00, 30.32it/s]\n",
      "100%|██████████| 204/204 [00:06<00:00, 30.51it/s]\n",
      "100%|██████████| 199/199 [00:06<00:00, 31.05it/s]\n",
      "100%|██████████| 204/204 [00:08<00:00, 24.33it/s]\n",
      "100%|██████████| 181/181 [00:05<00:00, 30.57it/s]\n",
      "100%|██████████| 204/204 [00:06<00:00, 30.41it/s]\n",
      "100%|██████████| 199/199 [00:06<00:00, 29.87it/s]"
     ]
    },
    {
     "name": "stdout",
     "output_type": "stream",
     "text": [
      "find shapelet\n"
     ]
    },
    {
     "name": "stderr",
     "output_type": "stream",
     "text": [
      "\n"
     ]
    }
   ],
   "source": [
    "kshapelets = findShapelets(a, target_train, dt, k)\n",
    "print('find shapelet')\n"
   ],
   "metadata": {
    "collapsed": false,
    "pycharm": {
     "name": "#%%\n"
    }
   }
  },
  {
   "cell_type": "code",
   "execution_count": 468,
   "outputs": [
    {
     "name": "stdout",
     "output_type": "stream",
     "text": [
      "4.0009750248505584\n",
      "0.35580032087135716\n",
      "3.377147216547643\n",
      "3.0803743895907414\n",
      "0.23860237809242102\n",
      "9.133125542666312\n",
      "4.228843962469185\n",
      "3.5272633852617603\n",
      "3.46033319800005\n",
      "2.016305358621306\n",
      "1.9211747111224717\n",
      "3.156456110481663\n",
      "1.1927105193704262\n",
      "0.665917188012676\n",
      "3.4976809163802725\n",
      "2.0285982728598237\n",
      "0.5013019315041888\n",
      "5.050027581628739\n",
      "3.6498157528709094\n",
      "0.4929150642210218\n",
      "3.0866208436809037\n",
      "0.5645508163803665\n",
      "0.49481551203183716\n",
      "9.526970314322057\n",
      "3.52392325736421\n",
      "3.0547354830500963\n",
      "19.036654638396087\n",
      "3.2017270862186114\n",
      "3.0419379665473976\n",
      "3.1147766643923447\n",
      "3.105871023785194\n",
      "3.0747361002256794\n",
      "4.455700693295404\n",
      "2.327090878198261\n",
      "1.0000000000000004\n",
      "11.718758090987544\n",
      "3.369540763534891\n",
      "3.0715100502066908\n",
      "16.596019368054883\n",
      "4.527210701640863\n",
      "3.3933873364694973\n",
      "3.184863984387563\n",
      "3.1352122987974296\n",
      "3.1008895158253162\n",
      "3.2710204666511578\n",
      "2.735860521624798\n",
      "2.443877908264569\n",
      "3.0995664921909256\n",
      "1.771397403387585\n",
      "1.4873655563047572\n",
      "5.4073134861864665\n",
      "4.647331218335758\n",
      "4.185333098008395\n",
      "3.0452763940746803\n",
      "0.6878727228016214\n",
      "0.04589648300729116\n",
      "3.038253941261252\n",
      "3.0491259387476717\n",
      "4.270362222200837\n",
      "4.220906411097333\n",
      "3.035391530972483\n",
      "5.591359184781274\n",
      "4.7436584862649935\n",
      "4.712191865500905\n",
      "7.994089629580842\n",
      "3.049483003133229\n",
      "3.045077970050643\n",
      "4.6023865516088565\n",
      "3.0577577735717565\n",
      "3.0400974473988276\n",
      "0.05940583939811656\n",
      "2.5485209575934946\n",
      "3.0544635002177616\n",
      "3.0495676326855725\n",
      "3.0505590455727276\n",
      "3.05043572234373\n",
      "3.0343004334398587\n",
      "3.1069370859054835\n",
      "0.20072705447113579\n",
      "3.4520603914174295\n",
      "3.5345883119033705\n",
      "3.0763369703135304\n",
      "3.5720660582990638\n",
      "0.28216583744781915\n",
      "0.1026437651291917\n",
      "10.643286460179489\n",
      "0.15224154576921362\n",
      "3.0426164589952887\n",
      "0.5601730227183853\n",
      "3.589434401166517\n",
      "3.4488084086334467\n",
      "3.3156740611884907\n",
      "3.3957434017261194\n",
      "0.5543986151330571\n",
      "0.3027164729679683\n",
      "0.045783692071180535\n",
      "0.02066185531153507\n",
      "4.499725445971065\n",
      "3.303086594602904\n",
      "3.0571842473228674\n",
      "5.124275718505521\n",
      "3.4668516037413695\n",
      "0.02343528855685078\n",
      "4.553384399707092\n",
      "3.325670159806474\n",
      "0.18339018020501455\n",
      "4.2533245927687595\n",
      "6.673430808145926\n",
      "6.470207624277082\n",
      "9.8199241778638\n",
      "4.79915983771297\n",
      "3.0659212974139654\n",
      "7.9269399214005425\n",
      "5.045823652848937\n",
      "0.5461821142582239\n",
      "3.481314736519065\n",
      "0.42806571432543955\n",
      "0.40027882866993914\n",
      "3.786876806282331\n",
      "3.063013233754111\n",
      "0.218130456680581\n",
      "6.663518186247131\n",
      "3.173362223785349\n",
      "3.7135234962431225\n",
      "3.3862954072483538\n",
      "1.8991491882775124\n",
      "5.949671432286586\n",
      "1.8924296203803181\n",
      "4.758201899786318\n",
      "3.6003517411250052\n",
      "0.267568992126687\n",
      "16.77653807553927\n",
      "1.7587717789915103\n",
      "4.3591793738522355\n",
      "0.016197839296163554\n",
      "3.2346580149782556\n",
      "3.015447542040792\n",
      "3.0679748191713854\n",
      "0.016215245549784683\n",
      "5.001877332238613\n",
      "1.364070744310784\n",
      "0.28130383713396034\n",
      "0.19440620849704035\n",
      "1.0\n",
      "0.13556610953485596\n",
      "0.11681602307433463\n",
      "22.28263380108258\n",
      "0.15848244350866136\n",
      "0.01638138391061349\n",
      "2.719833488155717\n",
      "1.6308615547806946\n",
      "0.23362544715191738\n",
      "3.30640789040509\n",
      "3.082120978187683\n",
      "3.3950666863262597\n",
      "3.1265827184155257\n",
      "2.945642814399364\n",
      "0.014409315346673621\n",
      "2.9582231989189967\n",
      "2.9055679246595005\n",
      "5.210419222671817\n",
      "2.935895750110793\n",
      "0.6063990975236143\n",
      "3.0831681063617924\n",
      "0.9362580335583898\n",
      "0.6241783776909495\n",
      "0.3146336591769107\n",
      "0.013294687450723404\n",
      "2.977587246520459\n",
      "0.07042228581756155\n",
      "0.7159397051969508\n",
      "1.8390909952601255\n",
      "3.006161532345245\n",
      "0.26333681662279557\n",
      "0.5985802491325339\n",
      "0.11453248119759761\n",
      "0.4997179166247721\n",
      "0.6284411747420083\n",
      "4.311762184428791\n",
      "0.7688152919490464\n",
      "0.7334522508964583\n",
      "0.43219072931043867\n",
      "0.09097350226401504\n",
      "nan\n",
      "0.022175008662640543\n",
      "3.058532041016794\n",
      "0.4165553330513673\n",
      "0.13763122981628043\n",
      "0.5289705387452815\n",
      "5.943157861740461\n",
      "1.0081529090954424\n",
      "0.4914006028975612\n",
      "0.7878842940101902\n",
      "0.5668541114434689\n",
      "0.31686420690409656\n",
      "0.6730506843729843\n",
      "0.7091253085150735\n",
      "3.7858676751600653\n",
      "3.4776372309401857\n",
      "0.6803930244943016\n",
      "3.458710529892759\n",
      "0.97751261846595\n",
      "3.2697445503901448\n",
      "3.1166778260681505\n",
      "0.710156701487048\n",
      "4.617092561497595\n",
      "0.500733648080346\n",
      "0.12131503158739396\n",
      "3.010512486175205\n",
      "0.24276313219685544\n",
      "0.26044263041997434\n",
      "5.293276567484307\n",
      "4.902220396519527\n",
      "3.0592432422340003\n",
      "3.053423550399438\n",
      "3.034175099433499\n",
      "5.809436602865394\n",
      "3.380832175116625\n",
      "0.18339865087547713\n",
      "4.258128110108188\n",
      "3.0655567475335648\n",
      "0.07433067982107258\n",
      "3.2245201839486675\n",
      "3.119822039132125\n",
      "3.0453602637154615\n",
      "3.035726643255692\n",
      "0.760205642190386\n",
      "3.859290082870442\n",
      "3.0249478456860706\n",
      "0.0266843570452148\n",
      "4.332347022481081\n",
      "0.8546057126609878\n",
      "3.0995582830064548\n",
      "3.1193785682132087\n",
      "3.0898453548488685\n",
      "2.734205240672577\n",
      "1.5119557599521483\n",
      "3.363631164100074\n",
      "3.0090853333426097\n",
      "2.943049019736782\n",
      "2.952928852542979\n",
      "0.38154402885065936\n",
      "3.0817158742111905\n",
      "5.450374827656688\n",
      "3.0642376858063542\n",
      "2.8983696473169807\n",
      "4.193375643413518\n",
      "2.9269911379345364\n",
      "3.3180005656451694\n",
      "3.0763073618118977\n",
      "3.0637852413746693\n",
      "1.9060091048248133\n",
      "4.301820773661821\n",
      "4.037463906340927\n",
      "3.509259450546197\n",
      "3.0825222007191546\n",
      "4.990236154363673\n",
      "3.0883484333188482\n",
      "0.7756161509212778\n",
      "0.022373693500866487\n"
     ]
    }
   ],
   "source": [
    "for i in kshapelets:\n",
    "    print(i.quality)"
   ],
   "metadata": {
    "collapsed": false,
    "pycharm": {
     "name": "#%%\n"
    }
   }
  },
  {
   "cell_type": "code",
   "execution_count": 469,
   "outputs": [
    {
     "name": "stderr",
     "output_type": "stream",
     "text": [
      "100%|██████████| 260/260 [00:07<00:00, 32.61it/s]\n",
      "100%|██████████| 260/260 [00:10<00:00, 24.59it/s]"
     ]
    },
    {
     "name": "stdout",
     "output_type": "stream",
     "text": [
      "              precision    recall  f1-score   support\n",
      "\n",
      "           0       1.00      1.00      1.00         4\n",
      "           1       1.00      1.00      1.00         4\n",
      "           2       1.00      1.00      1.00         4\n",
      "\n",
      "    accuracy                           1.00        12\n",
      "   macro avg       1.00      1.00      1.00        12\n",
      "weighted avg       1.00      1.00      1.00        12\n",
      "\n",
      "1.0\n",
      "              precision    recall  f1-score   support\n",
      "\n",
      "           0       0.17      0.20      0.18         5\n",
      "           1       0.40      0.40      0.40         5\n",
      "           2       0.00      0.00      0.00         5\n",
      "\n",
      "    accuracy                           0.20        15\n",
      "   macro avg       0.19      0.20      0.19        15\n",
      "weighted avg       0.19      0.20      0.19        15\n",
      "\n",
      "0.2\n"
     ]
    },
    {
     "name": "stderr",
     "output_type": "stream",
     "text": [
      "\n"
     ]
    }
   ],
   "source": [
    "k = len(kshapelets)\n",
    "dataset = np.zeros((sample_nums, k))\n",
    "for i, sp in enumerate(tqdm(kshapelets)):\n",
    "    Ds = findDistances(sp, sp.length, a)\n",
    "    dataset[:, i] = Ds\n",
    "dataset = np.nan_to_num(dataset)\n",
    "# print(dataset)\n",
    "dataset_test = np.zeros((test_nums, k))\n",
    "b = genDiffSeries(data_test)\n",
    "for i, sp in enumerate(tqdm(kshapelets)):\n",
    "    Ds = findDistances(sp, sp.length, b)\n",
    "    dataset_test[:, i] = Ds\n",
    "dataset_test = np.nan_to_num(dataset_test)\n",
    "# from sklearn.linear_model import LogisticRegressionCV\n",
    "from sklearn.svm import LinearSVC\n",
    "from sklearn.preprocessing import StandardScaler\n",
    "from sklearn.metrics import classification_report\n",
    "from sklearn.metrics import accuracy_score\n",
    "\n",
    "sc = StandardScaler()\n",
    "# scc = sc.fit_transform(dataset)\n",
    "# np.set_printoptions(threshold=np.inf)\n",
    "# print(dataset)\n",
    "# print(scc)\n",
    "\n",
    "# model = LogisticRegressionCV(max_iter=100000).fit(sc.fit_transform(dataset), target_train)\n",
    "model = LinearSVC(max_iter=100000).fit(sc.fit_transform(dataset), target_train)\n",
    "print(classification_report(target_train, model.predict(sc.transform(dataset))))\n",
    "print(accuracy_score(target_train, model.predict(sc.transform(dataset))))\n",
    "print(classification_report(target_test, model.predict(sc.transform(dataset_test))))\n",
    "print(accuracy_score(target_test, model.predict(sc.transform(dataset_test))))"
   ],
   "metadata": {
    "collapsed": false,
    "pycharm": {
     "name": "#%%\n"
    }
   }
  }
 ],
 "metadata": {
  "kernelspec": {
   "display_name": "Python 3",
   "language": "python",
   "name": "python3"
  },
  "language_info": {
   "codemirror_mode": {
    "name": "ipython",
    "version": 2
   },
   "file_extension": ".py",
   "mimetype": "text/x-python",
   "name": "python",
   "nbconvert_exporter": "python",
   "pygments_lexer": "ipython2",
   "version": "2.7.6"
  }
 },
 "nbformat": 4,
 "nbformat_minor": 0
}
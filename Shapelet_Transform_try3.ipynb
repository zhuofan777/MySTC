{
 "cells": [
  {
   "cell_type": "code",
   "execution_count": 1,
   "metadata": {},
   "outputs": [],
   "source": [
    "import numpy as np\n",
    "import pandas as pd\n",
    "from scipy.stats import f_oneway\n",
    "from scipy.spatial.distance import cdist\n",
    "from sklearn.manifold import TSNE\n",
    "import matplotlib.pyplot as plt\n",
    "import seaborn as sns\n",
    "from tqdm import tqdm\n",
    "import heapq as hq"
   ]
  },
  {
   "cell_type": "code",
   "execution_count": 2,
   "metadata": {
    "pycharm": {
     "name": "#%%\n"
    }
   },
   "outputs": [],
   "source": [
    "# 计算方差窗口的大小\n",
    "def computeWinSize(length, b):\n",
    "    if 0 < length <= b:\n",
    "        return 1\n",
    "    else:\n",
    "        return length // b"
   ]
  },
  {
   "cell_type": "code",
   "execution_count": 3,
   "metadata": {
    "pycharm": {
     "name": "#%%\n"
    }
   },
   "outputs": [],
   "source": [
    "# 计算标准差数组\n",
    "def computeStdArr(series, b):\n",
    "    l = len(series)\n",
    "    # 窗口下取整\n",
    "    w = computeWinSize(l, b)\n",
    "    # print(w)\n",
    "    res = []\n",
    "    for i in range(w, l - w):\n",
    "        win_arr = [0 for i in range(2 * w + 1)]\n",
    "        cnt = 0\n",
    "        for j in range(i - w, w + i + 1):\n",
    "            win_arr[cnt] = series[j]\n",
    "            cnt += 1\n",
    "        std = np.std(win_arr, ddof=0)\n",
    "        res.append(std)\n",
    "    return res"
   ]
  },
  {
   "cell_type": "code",
   "execution_count": 4,
   "metadata": {
    "pycharm": {
     "name": "#%%\n"
    }
   },
   "outputs": [],
   "source": [
    "# 选择L*α最大的点的下标,，保留下标\n",
    "def selectLargePoint(series, a):\n",
    "    l = len(series)\n",
    "    # 生成l*a个\n",
    "    res = hq.nlargest(int(l * a), range(l), key=lambda x: series[x])\n",
    "    return res"
   ]
  },
  {
   "cell_type": "code",
   "execution_count": 5,
   "metadata": {
    "pycharm": {
     "name": "#%%\n"
    }
   },
   "outputs": [],
   "source": [
    "# 判断是否为波峰波谷\n",
    "def isPeakOrValley(std_arr, index, b):\n",
    "    win_size = computeWinSize(len(std_arr), b)\n",
    "    flag = False\n",
    "    if win_size == 1:\n",
    "        if ((std_arr[index] > std_arr[index - 1] and std_arr[index] > std_arr[index + 1]) or (\n",
    "                std_arr[index] < std_arr[index - 1] and std_arr[index] < std_arr[index + 1])):\n",
    "            flag = True\n",
    "    elif win_size == 2:\n",
    "        if ((std_arr[index] >= std_arr[index - 1] and std_arr[index] > std_arr[index - 2] and std_arr[index] >= std_arr[\n",
    "            index + 1] and std_arr[index] > std_arr[index + 2])\n",
    "                or\n",
    "                (std_arr[index] <= std_arr[index - 1] and std_arr[index] < std_arr[index - 2] and std_arr[index] <=\n",
    "                 std_arr[\n",
    "                     index + 1]) and std_arr[index] < std_arr[index + 2]):\n",
    "            flag = True\n",
    "    elif win_size == 3:\n",
    "        if ((std_arr[index] >= std_arr[index - 1] and std_arr[index] > std_arr[index - 2] and std_arr[index] > std_arr[\n",
    "            index - 3]\n",
    "             and std_arr[index] >= std_arr[index + 1] and std_arr[index] > std_arr[index + 2] and std_arr[index] >\n",
    "             std_arr[\n",
    "                 index + 3])\n",
    "                or\n",
    "                (std_arr[index] <= std_arr[index - 1] and std_arr[index] < std_arr[index - 2] and std_arr[index] <\n",
    "                 std_arr[index - 3]) and std_arr[index] <= std_arr[index + 1] and std_arr[index] < std_arr[\n",
    "                    index + 2] and std_arr[index] < std_arr[index + 3]):\n",
    "            flag = True\n",
    "    elif win_size == 4:\n",
    "        if ((std_arr[index] >= std_arr[index - 1] and std_arr[index] > std_arr[index - 2] and std_arr[index] > std_arr[\n",
    "            index - 3] and std_arr[index] > std_arr[index - 4]\n",
    "             and std_arr[index] >= std_arr[index + 1] and std_arr[index] > std_arr[index + 2] and std_arr[index] >\n",
    "             std_arr[\n",
    "                 index + 3] and std_arr[index] > std_arr[index + 4])\n",
    "                or\n",
    "                (std_arr[index] <= std_arr[index - 1] and std_arr[index] < std_arr[index - 2] and std_arr[index] <\n",
    "                 std_arr[\n",
    "                     index - 3] and std_arr[index] < std_arr[index - 4]\n",
    "                 and std_arr[index] <= std_arr[index + 1] and std_arr[index] < std_arr[index + 2] and std_arr[index] <\n",
    "                 std_arr[index + 3] and std_arr[index] < std_arr[index + 4])):\n",
    "            flag = True\n",
    "    else:\n",
    "        if ((std_arr[index] > std_arr[index - 1] and std_arr[index] > std_arr[index - 2] and std_arr[index] > std_arr[\n",
    "            index - 3] and std_arr[index] > std_arr[index - 4] and std_arr[index] > std_arr[index - 5]\n",
    "             and std_arr[index] > std_arr[index + 1] and std_arr[index] > std_arr[index + 2] and std_arr[index] >\n",
    "             std_arr[\n",
    "                 index + 3] and std_arr[index] > std_arr[index + 4] and std_arr[index] > std_arr[index + 5])\n",
    "                or\n",
    "                (std_arr[index] < std_arr[index - 1] and std_arr[index] < std_arr[index - 2] and std_arr[index] <\n",
    "                 std_arr[\n",
    "                     index - 3] and std_arr[index] < std_arr[index - 4] and std_arr[index] < std_arr[index - 5]\n",
    "                 and std_arr[index] < std_arr[index + 1] and std_arr[index] < std_arr[index + 2] and std_arr[index] <\n",
    "                 std_arr[\n",
    "                     index + 3] and std_arr[index] < std_arr[index + 4] and std_arr[index] < std_arr[index + 5])):\n",
    "            flag = True\n",
    "    return flag\n",
    "\n"
   ]
  },
  {
   "cell_type": "code",
   "execution_count": 6,
   "metadata": {
    "pycharm": {
     "name": "#%%\n"
    }
   },
   "outputs": [],
   "source": [
    "# 找到所有合适的区间\n",
    "def fitPoint(stdA, indexA, b):\n",
    "    w = computeWinSize(len(stdA), b)\n",
    "    l = len(indexA)\n",
    "    res = []\n",
    "    for i in range(0, l):\n",
    "        val = indexA[i]\n",
    "        if w <= val < l - w:\n",
    "            if isPeakOrValley(stdA, val, b):\n",
    "                res.append(val + 2 * w + 1)\n",
    "    return res"
   ]
  },
  {
   "cell_type": "code",
   "execution_count": 7,
   "metadata": {
    "pycharm": {
     "name": "#%%\n"
    }
   },
   "outputs": [],
   "source": [
    "# 提取特征关键点\n",
    "def extractFeaturePoint(arr, a, b):\n",
    "    stdArrOne = computeStdArr(arr, b)\n",
    "    largePoint = selectLargePoint(stdArrOne, a)\n",
    "    indexArr = fitPoint(stdArrOne, largePoint, b)\n",
    "    return indexArr"
   ]
  },
  {
   "cell_type": "code",
   "execution_count": 8,
   "metadata": {
    "pycharm": {
     "name": "#%%\n"
    }
   },
   "outputs": [],
   "source": [
    "# 判断有几个关键点与它相近\n",
    "def closeNums(keyList,key,threshold):\n",
    "    cnt = 0\n",
    "    cnt += keyList.count(key)\n",
    "    for i in range(1,threshold):\n",
    "        a = key + i\n",
    "        b = key - i\n",
    "        cnt += keyList.count(a)\n",
    "        cnt += keyList.count(b)\n",
    "    return cnt"
   ]
  },
  {
   "cell_type": "code",
   "execution_count": 9,
   "metadata": {
    "pycharm": {
     "name": "#%%\n"
    }
   },
   "outputs": [],
   "source": [
    "class keyPoint:\n",
    "    def __init__(self,key,cnt,dim):\n",
    "        self.key = key\n",
    "        self.cnt = cnt\n",
    "        self.dim = dim"
   ]
  },
  {
   "cell_type": "code",
   "execution_count": 10,
   "metadata": {
    "pycharm": {
     "name": "#%%\n"
    }
   },
   "outputs": [],
   "source": [
    "class smallKeyPoint:\n",
    "    def __init__(self,key,dim):\n",
    "        self.key = key\n",
    "        self.dim = dim"
   ]
  },
  {
   "cell_type": "code",
   "execution_count": 11,
   "metadata": {
    "pycharm": {
     "name": "#%%\n"
    }
   },
   "outputs": [],
   "source": [
    "# 找到较为相近的关键点\n",
    "def selectKeys(data,alp,blt,howclose=2):\n",
    "    # 原始data顺序 样本数 维度数 序列长度\n",
    "    dim_nums = data.shape[1]\n",
    "    sample_nums = data.shape[0]\n",
    "    all_keys = []\n",
    "    for sm in tqdm(range(sample_nums)):\n",
    "        one_sample  = data[sm]\n",
    "        # 每个维度的关键点下标集合\n",
    "        key_points = []\n",
    "        # 所为维度下的关键点下标\n",
    "        ex_key_points = []\n",
    "        for dn in range(dim_nums):\n",
    "            # keys 关键点的下标\n",
    "            keys = extractFeaturePoint(one_sample[dn],alp,blt)\n",
    "            key_points.append(keys)\n",
    "        # 有一部分在构建的序列上\n",
    "\n",
    "        for dn in range(dim_nums):\n",
    "            # 一个维度上的关键下标\n",
    "            kl = key_points[dn]\n",
    "            # 去掉自己维度的下标\n",
    "            tmp_key_points = key_points[:]\n",
    "            tmp_key_points.remove(kl)\n",
    "            key_list = []\n",
    "            for i in tmp_key_points:\n",
    "                key_list.extend(i)\n",
    "\n",
    "            ekl = []\n",
    "            for k in kl:\n",
    "                cnt = closeNums(key_list,k,howclose)\n",
    "                ekl.append(keyPoint(k,cnt,dn))\n",
    "            ex_key_points.extend(ekl)\n",
    "\n",
    "        ex_key_points.sort(key=lambda x:x.cnt,reverse=True)\n",
    "        # 筛选\n",
    "        res_keys = ex_key_points[:]\n",
    "        res = 0\n",
    "        for k in res_keys:\n",
    "            if k.cnt >= res_keys[0].cnt * 0.9:\n",
    "                res += 1\n",
    "        res_keys = res_keys[:res]\n",
    "        all_keys.append(res_keys)\n",
    "    return all_keys"
   ]
  },
  {
   "cell_type": "code",
   "execution_count": 12,
   "metadata": {
    "pycharm": {
     "name": "#%%\n"
    }
   },
   "outputs": [],
   "source": [
    "class shapelet:\n",
    "    def __init__(self,keyPoint,ylt,st,ed,length,val,sample):\n",
    "        # keyPoint 由那个keyPoint生成\n",
    "        # ylt 松弛是多少\n",
    "        # st 起始位置\n",
    "        # ed 终止位置\n",
    "        # val shapelet在序列中的实际的值\n",
    "        self.quality = None\n",
    "        self.keyPoint = keyPoint\n",
    "        self.ylt = ylt\n",
    "        self.st = st\n",
    "        self.ed = ed\n",
    "        self.length = length\n",
    "        self.val = val\n",
    "        self.sample = sample\n",
    "    def setQuality(self,quality):\n",
    "        self.quality = quality"
   ]
  },
  {
   "cell_type": "code",
   "execution_count": 13,
   "metadata": {
    "pycharm": {
     "name": "#%%\n"
    }
   },
   "outputs": [],
   "source": [
    "def generateCandidates(s,sm,l,keyP,ylt):\n",
    "    # sm 为单个样本[维度，长度]\n",
    "    # keyP 应该为一个keyPoint\n",
    "    # ylt为松弛参数\n",
    "    candidate = []\n",
    "    if l % 2 == 1:\n",
    "        l = l // 2\n",
    "        dim = keyP.dim\n",
    "        s = s[dim]\n",
    "        for i in range(-ylt,ylt+1):\n",
    "            # 从中心点两侧的松弛长度进行计算\n",
    "            if keyP.key - i - l < 0:\n",
    "                continue\n",
    "            left = keyP.key - i - l\n",
    "            if keyP.key - i + l + 1 >= len(s):\n",
    "                continue\n",
    "            right = keyP.key - i + l + 1\n",
    "            spt = shapelet(keyPoint=keyP,ylt=ylt,st=left,ed=right - 1,length=right-left,val=s[left:right],sample=sm)\n",
    "            candidate.append(spt)\n",
    "    else:\n",
    "        l = l // 2\n",
    "        dim = keyP.dim\n",
    "        s = s[dim]\n",
    "        for i in range(-ylt,ylt+1):\n",
    "            # 从中心点两侧的松弛长度进行计算\n",
    "            if keyP.key - i - l < 0:\n",
    "                continue\n",
    "            left = keyP.key - i - l\n",
    "            if keyP.key - i + l >= len(s):\n",
    "                continue\n",
    "            right = keyP.key - i + l\n",
    "            spt = shapelet(keyPoint=keyP,ylt=ylt,st=left,ed=right - 1,length=right-left,val=s[left:right],sample=sm)\n",
    "            candidate.append(spt)\n",
    "            if keyP.key - i - l + 1< 0:\n",
    "                continue\n",
    "            left = keyP.key - i - l + 1\n",
    "            if keyP.key - i + l + 1 >= len(s):\n",
    "                continue\n",
    "            right = keyP.key - i + l + 1\n",
    "            spt = shapelet(keyPoint=keyP,ylt=ylt,st=left,ed=right - 1,length=right-left,val=s[left:right],sample=sm)\n",
    "            candidate.append(spt)\n",
    "    return candidate"
   ]
  },
  {
   "cell_type": "code",
   "execution_count": 14,
   "outputs": [],
   "source": [
    "import collections\n",
    "def findShapeletCandidates(data,lmin,lmax,keys,ylt,odim):\n",
    "    sample_nums = data.shape[0]\n",
    "    candidate = []\n",
    "    for sm in tqdm(range(sample_nums)):\n",
    "        s = data[sm]\n",
    "        keyList = keys[sm]\n",
    "        for k in keyList:\n",
    "            # lmin - lmax\n",
    "            for l in range(lmin,lmax+1):\n",
    "                candidate.extend(generateCandidates(s,sm,l,k,ylt))\n",
    "    # print(len(candidate))\n",
    "    dt = collections.defaultdict(list)\n",
    "    for cd in candidate:\n",
    "        dt[cd.length].append(cd)\n",
    "\n",
    "    # 对dt进行剪枝\n",
    "    v = dt.keys()\n",
    "    # print(len(dt[3]))\n",
    "\n",
    "    # 对于每个长度\n",
    "    for k in v:\n",
    "        ls = dt[k]\n",
    "        tmpls = []\n",
    "    #     每个维度都选几个\n",
    "        res = collections.defaultdict(list)\n",
    "        for i in ls:\n",
    "            # print(type(i))\n",
    "            res[i.keyPoint.dim].append(i)\n",
    "        dims = list(res.keys())\n",
    "\n",
    "        org_dim_list = []\n",
    "        convert_dim_list = []\n",
    "        for i in dims:\n",
    "            if i >= odim:\n",
    "                convert_dim_list.append([i,len(res[i])])\n",
    "            else:\n",
    "                org_dim_list.append([i,len(res[i])])\n",
    "\n",
    "\n",
    "        convert_dim_list.sort(key = lambda x:x[1],reverse=True)\n",
    "        org_dim_list.sort(key = lambda x:x[1],reverse=True)\n",
    "\n",
    "        convert_pre_dim = int(len(convert_dim_list) * 0.3)\n",
    "        convert_pre_dims = convert_dim_list[:convert_pre_dim + 1]\n",
    "        convert_aft_dims = convert_dim_list[convert_pre_dim + 1:]\n",
    "        if len(convert_pre_dims) > 1:\n",
    "            convert_pre_dims = random.sample(convert_pre_dims,int(convert_pre_dim * 0.7))\n",
    "        if len(convert_aft_dims) > 1:\n",
    "            convert_aft_dims = random.sample(convert_aft_dims,int(len(convert_aft_dims) * 0.3))\n",
    "        # print(convert_pre_dims,convert_aft_dims)\n",
    "\n",
    "\n",
    "        org_pre_dim = int(len(org_dim_list) * 0.3)\n",
    "        org_pre_dims = org_dim_list[:org_pre_dim + 1]\n",
    "        org_aft_dims = org_dim_list[org_pre_dim + 1:]\n",
    "        if len(org_pre_dims) > 1:\n",
    "            org_pre_dims = random.sample(org_pre_dims,int(org_pre_dim * 0.7))\n",
    "        if len(org_aft_dims) > 1:\n",
    "            org_aft_dims = random.sample(org_aft_dims,int(len(org_aft_dims) * 0.3))\n",
    "\n",
    "        # 选择数量较多的维度\n",
    "        # 前30%为维度选择70% 后70%维度选择30%\n",
    "        # pre_dim = int(len(dims) * 0.3)\n",
    "        # pre_dims = dims[:pre_dim + 1]\n",
    "        # aft_dims = dims[pre_dim + 1:]\n",
    "        # # 70%\n",
    "        # pre_dims = random.sample(pre_dims,int(pre_dim * 0.7))\n",
    "        # aft_dims = random.sample(aft_dims,int(len(aft_dims) * 0.3))\n",
    "        # dims = convert_pre_dims + convert_aft_dims + org_pre_dims + org_aft_dims\n",
    "        dims_list = convert_pre_dims + convert_aft_dims + org_pre_dims + org_aft_dims\n",
    "        dims = []\n",
    "        for i in dims_list:\n",
    "            dims.append(i[0])\n",
    "        # print(\"777777777777777777777777777777777777\")\n",
    "        # print(dims)\n",
    "        # 筛选维度\n",
    "        for i in dims:\n",
    "            tmp = res[i]\n",
    "            # 尽量选取每个样本\n",
    "            newdt = collections.defaultdict(list)\n",
    "            for x in tmp:\n",
    "                newdt[x.sample].append(x)\n",
    "            klist = list(newdt.keys())\n",
    "\n",
    "            indx = 0\n",
    "            smp = []\n",
    "            while len(smp) <= min(50,len(tmp)):\n",
    "                index = klist[indx]\n",
    "                indx = (indx + 1) % len(klist)\n",
    "                rc = random.choice(newdt[index])\n",
    "                while rc in smp:\n",
    "                    rc = random.choice(newdt[index])\n",
    "                smp.append(rc)\n",
    "            # smp = random.sample(tmp,min(50,len(tmp)))\n",
    "            tmpls.extend(smp)\n",
    "\n",
    "\n",
    "\n",
    "        # # # 取每个维度的前1000\n",
    "        # for i in dims:\n",
    "        #     tmp = res[i]\n",
    "        #     # 尽量选取每个样本\n",
    "        #     newdt = collections.defaultdict(list)\n",
    "        #     for x in tmp:\n",
    "        #         newdt[x.sample].append(x)\n",
    "        #     klist = list(newdt.keys())\n",
    "        #\n",
    "        #     indx = 0\n",
    "        #     smp = []\n",
    "        #     while len(smp) <= min(50,len(tmp)):\n",
    "        #         index = klist[indx]\n",
    "        #         indx = (indx + 1) % len(klist)\n",
    "        #         rc = random.choice(newdt[index])\n",
    "        #         while rc in smp:\n",
    "        #             rc = random.choice(newdt[index])\n",
    "        #         smp.append(rc)\n",
    "        #     # smp = random.sample(tmp,min(50,len(tmp)))\n",
    "        #     tmpls.extend(smp)\n",
    "        dt[k] = tmpls\n",
    "    return dt\n"
   ],
   "metadata": {
    "collapsed": false,
    "pycharm": {
     "name": "#%%\n"
    }
   }
  },
  {
   "cell_type": "code",
   "execution_count": 15,
   "metadata": {
    "pycharm": {
     "name": "#%%\n"
    }
   },
   "outputs": [],
   "source": [
    "# import collections\n",
    "# def findShapeletCandidates(data,lmin,lmax,keys,ylt):\n",
    "#     sample_nums = data.shape[0]\n",
    "#     candidate = []\n",
    "#     for sm in tqdm(range(sample_nums)):\n",
    "#         s = data[sm]\n",
    "#         keyList = keys[sm]\n",
    "#         for k in keyList:\n",
    "#             # lmin - lmax\n",
    "#             for l in range(lmin,lmax+1):\n",
    "#                 candidate.extend(generateCandidates(s,sm,l,k,ylt))\n",
    "#     # print(len(candidate))\n",
    "#     dt = collections.defaultdict(list)\n",
    "#     for cd in candidate:\n",
    "#         dt[cd.length].append(cd)\n",
    "#\n",
    "#     # 对dt进行剪枝\n",
    "#     v = dt.keys()\n",
    "#     # 对于每个长度\n",
    "#     for k in v:\n",
    "#         ls = dt[k]\n",
    "#         tmpls = []\n",
    "#     #     每个维度都选几个\n",
    "#         res = collections.defaultdict(list)\n",
    "#         for i in ls:\n",
    "#             # print(type(i))\n",
    "#             res[i.keyPoint.dim].append(i)\n",
    "#         dims = res.keys()\n",
    "#         # 取每个维度的前1000\n",
    "#         for i in dims:\n",
    "#             tmp = res[i]\n",
    "#             smp = random.sample(tmp,min(50,len(tmp)))\n",
    "#             tmpls.extend(smp)\n",
    "#         dt[k] = tmpls\n",
    "#     return dt\n"
   ]
  },
  {
   "cell_type": "code",
   "execution_count": 16,
   "metadata": {
    "pycharm": {
     "name": "#%%\n"
    }
   },
   "outputs": [],
   "source": [
    "def findDistances(c,l,data):\n",
    "    # 查找获选shapelet在每个样本上的最小值\n",
    "    ds = []\n",
    "    dim = c.keyPoint.dim\n",
    "    data = np.transpose(data,axes=(1,0,2))\n",
    "    sers = data[dim]\n",
    "    for s in sers:\n",
    "        cp = [s[i : i + l] for i in range(0, len(s)-l+1, 1)]\n",
    "        ds.append(cdist([c.val],cp,metric='seuclidean').min())\n",
    "    return np.array(ds)"
   ]
  },
  {
   "cell_type": "code",
   "execution_count": 17,
   "metadata": {
    "pycharm": {
     "name": "#%%\n"
    }
   },
   "outputs": [],
   "source": [
    "def assessCandidate(ds,label):\n",
    "    class_groups = []\n",
    "    for c in np.unique(label):\n",
    "        class_groups.append(ds[label==c].tolist())\n",
    "#  返回f值\n",
    "    return f_oneway(*class_groups).statistic"
   ]
  },
  {
   "cell_type": "code",
   "execution_count": 18,
   "metadata": {
    "pycharm": {
     "name": "#%%\n"
    }
   },
   "outputs": [],
   "source": [
    "def sortByQuality(shapelets):\n",
    "    return sorted(shapelets, key=lambda s: s.quality,reverse=True)"
   ]
  },
  {
   "cell_type": "code",
   "execution_count": 19,
   "outputs": [],
   "source": [
    "class interval:\n",
    "    def __init__(self,st,ed):\n",
    "        self.st = st\n",
    "        self.ed = ed\n",
    "    def isInclude(self,a):\n",
    "        # 是否被a包含\n",
    "        if self.st >= a.st and self.ed <= a.ed:\n",
    "            return True\n"
   ],
   "metadata": {
    "collapsed": false,
    "pycharm": {
     "name": "#%%\n"
    }
   }
  },
  {
   "cell_type": "code",
   "execution_count": 20,
   "metadata": {
    "pycharm": {
     "name": "#%%\n"
    }
   },
   "outputs": [],
   "source": [
    "def removeSelfSimilar(shapelets):\n",
    "    ts = shapelets[:][::-1]\n",
    "    it = []\n",
    "    for x in ts:\n",
    "        it.append(interval(x.st,x.ed))\n",
    "    removeIdx = []\n",
    "    l = len(it)\n",
    "    # 修改将重叠改为包含\n",
    "    for i in range(l):\n",
    "        for j in range(i+1,l):\n",
    "            if it[i].isInclude(it[j]):\n",
    "                removeIdx.append(i)\n",
    "                break\n",
    "    res = []\n",
    "    for i in range(l):\n",
    "        if i not in removeIdx:\n",
    "            res.append(ts[i])\n",
    "\n",
    "\n",
    "    return res[::-1]"
   ]
  },
  {
   "cell_type": "code",
   "execution_count": 21,
   "metadata": {
    "pycharm": {
     "name": "#%%\n"
    }
   },
   "outputs": [],
   "source": [
    "def merge(k,kShapelets,shapelets):\n",
    "    total_shapelets = kShapelets + shapelets\n",
    "    return sortByQuality(total_shapelets)[:k]"
   ]
  },
  {
   "cell_type": "code",
   "execution_count": 22,
   "metadata": {
    "pycharm": {
     "name": "#%%\n"
    }
   },
   "outputs": [],
   "source": [
    "def findShapelets(data,label,dt,k):\n",
    "    kShapelets = []\n",
    "    # l 为长度\n",
    "    for l in dt.keys():\n",
    "        # cd 是单个长度的所有样本和维度下的shaplet候选\n",
    "        cd = dt[l]\n",
    "        if len(cd) == 0:\n",
    "            continue\n",
    "        for i,c in enumerate(tqdm(cd)):\n",
    "            ds = findDistances(c,l,data)\n",
    "            quality = assessCandidate(ds,label)\n",
    "            cd[i].setQuality(quality)\n",
    "        cd = sortByQuality(cd)\n",
    "        # print(len(cd))\n",
    "        cd = removeSelfSimilar(cd)\n",
    "        # print(len(cd))\n",
    "        kShapelets = merge(k,kShapelets,cd)\n",
    "    return kShapelets\n",
    "        # print(len(cd))\n",
    "        # print(cd[0].quality,cd[1].quality,cd[-1].quality)\n",
    "    # print(k)"
   ]
  },
  {
   "cell_type": "code",
   "execution_count": 23,
   "metadata": {
    "pycharm": {
     "name": "#%%\n"
    }
   },
   "outputs": [],
   "source": [
    "# np.vstack([[2,3,4,5],[1,2,3,4],[1,2,3,5]])"
   ]
  },
  {
   "cell_type": "code",
   "execution_count": 24,
   "metadata": {
    "pycharm": {
     "name": "#%%\n"
    }
   },
   "outputs": [],
   "source": [
    "# a = cdist([[1,2,3,4]],[[2,3,4,10],[1,2,3,4],[1,2,3,5]],metric='euclidean').min()\n",
    "# print(a)"
   ]
  },
  {
   "cell_type": "code",
   "execution_count": 25,
   "metadata": {
    "pycharm": {
     "name": "#%%\n"
    }
   },
   "outputs": [],
   "source": [
    "# def SelectShapelet(data,label,lmin,lmax,alp,blt,ylt):\n",
    "#     # 原始data顺序 样本数 维度数 序列长度\n",
    "#     data = np.transpose(data,axes=(1,0,2))\n",
    "#     # 现在data顺序 维度数 样本数 序列长度\n",
    "#     dim_nums = data.shape[0]\n",
    "#     sample_nums = data.shape[1]\n",
    "#     for dn in tqdm(range(dim_nums)):\n",
    "#         T = data[dn]\n",
    "#         keyPoints = []\n",
    "#         for sm in range(sample_nums):\n",
    "#             keyPoints.append(extractFeaturePoint(data[dn][sm],alp,blt))\n",
    "#\n",
    "#\n",
    "#\n",
    "#\n",
    "#\n",
    "#\n",
    "#         # print(keyPoints)\n",
    "#         precompute_Wl = {l : create_Wl(T,l,keyPoints,sample_nums,ylt) for l in np.arange(lmin,lmax+1)}\n",
    "#\n",
    "#         kShapelets = []\n",
    "#         for i,Ti in enumerate(T):\n",
    "#             shapelets = []\n",
    "#             for l in np.arange(lmin,lmax+1):\n",
    "#                 # S为所有的长度\n",
    "#                 Al = precompute_Wl[l]\n",
    "#                 Wl,Pl = Al[0],Al[1]\n",
    "#                 for index,S in enumerate(Wl[i]):\n",
    "#                      # 和所有样本上的候选者比较\n",
    "#                     #  S 区间，keypoint，松弛长度\n",
    "#                     # Ds,Indx = findDistances(S,Wl)\n",
    "#\n",
    "#                     Ds = findDistances(S,Wl)\n",
    "#                     quality = assessCandidate(Ds,label)\n",
    "#                     #  区间值 度量  区间 关键点\n",
    "#                     shapelets.append((S,quality,pd.Interval(Pl[index][1],Pl[index][2]-1,closed='both'),Pl[index][0]))\n",
    "#             shapelets = sortByQuality(shapelets)\n",
    "#             shapelets = removeSelfSimilar(shapelets)\n",
    "#             kShapelets = merge(k,kShapelets,shapelets)\n",
    "#         print(kShapelets)\n",
    "#\n",
    "#\n",
    "#\n",
    "#\n",
    "#\n",
    "#\n",
    "#\n"
   ]
  },
  {
   "cell_type": "code",
   "execution_count": 26,
   "metadata": {
    "pycharm": {
     "name": "#%%\n"
    }
   },
   "outputs": [],
   "source": [
    "def load_raw_ts(path, dataset):\n",
    "    path = path + \"raw//\" + dataset + \"//\"\n",
    "    # 训练集\n",
    "    x_train = np.load(path + 'X_train.npy')\n",
    "    x_train = np.transpose(x_train, axes=(0, 2, 1))\n",
    "    x_test = np.load(path + 'X_test.npy')\n",
    "    x_test = np.transpose(x_test, axes=(0, 2, 1))\n",
    "    y_train = np.load(path + 'y_train.npy')\n",
    "    y_test = np.load(path + 'y_test.npy')\n",
    "    labels = np.concatenate((y_train, y_test), axis=0)\n",
    "    nclass = int(np.amax(labels)) + 1\n",
    "    return x_train, x_test, y_train.reshape(-1), y_test.reshape(-1), nclass"
   ]
  },
  {
   "cell_type": "code",
   "execution_count": 27,
   "metadata": {
    "pycharm": {
     "name": "#%%\n"
    }
   },
   "outputs": [],
   "source": [
    "# target_train 为标签 data_train 为序列\n",
    "data_train, data_test, target_train, target_test, nclass = load_raw_ts(\"D://tmppro//data//\", \"NATOPS\")\n",
    "sample_nums = data_train.shape[0]\n",
    "dim_nums = data_train.shape[1]\n",
    "series_length = data_train.shape[2]\n",
    "test_nums = data_test.shape[0]"
   ]
  },
  {
   "cell_type": "code",
   "execution_count": 28,
   "metadata": {},
   "outputs": [],
   "source": [
    "import random\n",
    "\n",
    "lmin = 3\n",
    "lmax = 13\n",
    "# 选取shapelet的数量\n",
    "k = int(series_length * dim_nums)\n",
    "alp = 0.3\n",
    "# k = 20\n",
    "# alp = random.choice([0.3, 0.4])\n",
    "# blt = random.choice([100, 90, 80, 70, 60, 50])\n",
    "blt = 100\n",
    "# ylt = random.choice([5,6,7,8])\n",
    "ylt = 8\n",
    "dis = 2"
   ]
  },
  {
   "cell_type": "code",
   "execution_count": 29,
   "outputs": [
    {
     "name": "stdout",
     "output_type": "stream",
     "text": [
      "1224\n"
     ]
    }
   ],
   "source": [
    "print(k)"
   ],
   "metadata": {
    "collapsed": false,
    "pycharm": {
     "name": "#%%\n"
    }
   }
  },
  {
   "cell_type": "code",
   "execution_count": 30,
   "metadata": {
    "pycharm": {
     "name": "#%%\n"
    }
   },
   "outputs": [],
   "source": [
    "#对于每个样本生成差异序列序列\n",
    "def genDiffSeries(data):\n",
    "    sample_nums = data.shape[0]\n",
    "    dim_nums = data.shape[1]\n",
    "    series_length = data.shape[2]\n",
    "    gen_data = []\n",
    "    for sn in range(sample_nums):\n",
    "        sm = data[sn]\n",
    "        res = []\n",
    "        # 先将原始的每个维度的加进入\n",
    "        for i in range(dim_nums):\n",
    "            res.append(sm[i])\n",
    "        # 再计算每个减法维度，然后依次加进去\n",
    "        for i in range(dim_nums-1):\n",
    "            for j in range(i+1,dim_nums):\n",
    "                s1 = sm[i]\n",
    "                s2 = sm[j]\n",
    "                news = [0 for _ in range(series_length)]\n",
    "                for k in range(series_length):\n",
    "                    news[k] = s1[k] - s2[k]\n",
    "                res.append(np.array(news))\n",
    "        gen_data.append(np.array(res))\n",
    "    return np.array(gen_data)"
   ]
  },
  {
   "cell_type": "code",
   "execution_count": 31,
   "metadata": {
    "pycharm": {
     "name": "#%%\n"
    }
   },
   "outputs": [
    {
     "name": "stdout",
     "output_type": "stream",
     "text": [
      "(180, 24, 51)\n",
      "(180, 300, 51)\n"
     ]
    }
   ],
   "source": [
    "print(data_train.shape)\n",
    "a = genDiffSeries(data_train)\n",
    "print(a.shape)\n"
   ]
  },
  {
   "cell_type": "code",
   "execution_count": 32,
   "metadata": {
    "pycharm": {
     "name": "#%%\n"
    }
   },
   "outputs": [
    {
     "name": "stderr",
     "output_type": "stream",
     "text": [
      "100%|██████████| 180/180 [01:38<00:00,  1.82it/s]\n"
     ]
    }
   ],
   "source": [
    "keys = selectKeys(a,alp,blt,2)"
   ]
  },
  {
   "cell_type": "code",
   "execution_count": 33,
   "metadata": {
    "pycharm": {
     "name": "#%%\n"
    }
   },
   "outputs": [
    {
     "name": "stderr",
     "output_type": "stream",
     "text": [
      "100%|██████████| 180/180 [00:15<00:00, 11.55it/s]\n"
     ]
    }
   ],
   "source": [
    "dt = findShapeletCandidates(a,lmin,lmax,keys,ylt,dim_nums)"
   ]
  },
  {
   "cell_type": "code",
   "execution_count": 34,
   "metadata": {
    "pycharm": {
     "name": "#%%\n"
    }
   },
   "outputs": [
    {
     "name": "stderr",
     "output_type": "stream",
     "text": [
      "100%|██████████| 6222/6222 [02:30<00:00, 41.30it/s]\n",
      "100%|██████████| 6222/6222 [02:14<00:00, 46.20it/s]\n",
      "100%|██████████| 6222/6222 [02:09<00:00, 47.87it/s]\n",
      "100%|██████████| 6222/6222 [02:08<00:00, 48.33it/s]\n",
      "100%|██████████| 6222/6222 [02:10<00:00, 47.81it/s]\n",
      "100%|██████████| 6222/6222 [02:06<00:00, 49.05it/s]\n",
      "100%|██████████| 6222/6222 [02:04<00:00, 50.04it/s]\n",
      "100%|██████████| 6222/6222 [01:58<00:00, 52.50it/s]\n",
      "100%|██████████| 6222/6222 [01:56<00:00, 53.50it/s]\n",
      "100%|██████████| 6222/6222 [01:56<00:00, 53.58it/s]\n",
      "100%|██████████| 6222/6222 [01:55<00:00, 53.82it/s]\n"
     ]
    }
   ],
   "source": [
    "kshapelets = findShapelets(a,target_train,dt,k)\n",
    "k = len(kshapelets)"
   ]
  },
  {
   "cell_type": "code",
   "execution_count": 35,
   "outputs": [
    {
     "data": {
      "text/plain": "<Figure size 432x288 with 1 Axes>",
      "image/png": "[encoded data removed]"
     },
     "metadata": {
      "needs_background": "light"
     },
     "output_type": "display_data"
    }
   ],
   "source": [
    "for shape in kshapelets:\n",
    "    if shape.length == 3:\n",
    "        plt.plot(shape.val)\n",
    "plt.title(\"Discriminatory Shapelets\")\n",
    "plt.show()"
   ],
   "metadata": {
    "collapsed": false,
    "pycharm": {
     "name": "#%%\n"
    }
   }
  },
  {
   "cell_type": "markdown",
   "source": [
    "搞个判断标准，选择较好的候选shapelet"
   ],
   "metadata": {
    "collapsed": false
   }
  },
  {
   "cell_type": "code",
   "execution_count": 36,
   "metadata": {
    "pycharm": {
     "name": "#%%\n"
    }
   },
   "outputs": [
    {
     "name": "stderr",
     "output_type": "stream",
     "text": [
      "100%|██████████| 228/228 [00:04<00:00, 54.08it/s]\n"
     ]
    }
   ],
   "source": [
    "dataset = np.zeros((sample_nums,k))\n",
    "for i,sp in enumerate(tqdm(kshapelets)):\n",
    "    Ds = findDistances(sp,sp.length,a)\n",
    "    dataset[:,i] = Ds\n",
    "dataset = np.nan_to_num(dataset)\n",
    "# print(dataset)"
   ]
  },
  {
   "cell_type": "code",
   "execution_count": 37,
   "metadata": {},
   "outputs": [
    {
     "name": "stderr",
     "output_type": "stream",
     "text": [
      "100%|██████████| 228/228 [00:04<00:00, 54.89it/s]\n"
     ]
    }
   ],
   "source": [
    "dataset_test = np.zeros((test_nums,k))\n",
    "b = genDiffSeries(data_test)\n",
    "for i,sp in enumerate(tqdm(kshapelets)):\n",
    "    Ds = findDistances(sp,sp.length,b)\n",
    "    dataset_test[:,i] = Ds\n",
    "dataset_test = np.nan_to_num(dataset_test)"
   ]
  },
  {
   "cell_type": "code",
   "execution_count": 38,
   "metadata": {},
   "outputs": [],
   "source": [
    "from sklearn.linear_model import LogisticRegressionCV\n",
    "from sklearn.svm import LinearSVC\n",
    "from sklearn.preprocessing import StandardScaler\n",
    "from sklearn.metrics import classification_report\n",
    "from sklearn.metrics import accuracy_score"
   ]
  },
  {
   "cell_type": "code",
   "execution_count": 39,
   "metadata": {
    "scrolled": true
   },
   "outputs": [],
   "source": [
    "sc = StandardScaler()\n",
    "# scc = sc.fit_transform(dataset)\n",
    "# np.set_printoptions(threshold=np.inf)\n",
    "# print(dataset)\n",
    "# print(scc)\n",
    "\n",
    "# model = LogisticRegressionCV(max_iter=100000).fit(sc.fit_transform(dataset),target_train)\n",
    "model = LinearSVC(max_iter=100000).fit(sc.fit_transform(dataset),target_train)"
   ]
  },
  {
   "cell_type": "code",
   "execution_count": 40,
   "metadata": {
    "scrolled": true
   },
   "outputs": [
    {
     "name": "stdout",
     "output_type": "stream",
     "text": [
      "              precision    recall  f1-score   support\n",
      "\n",
      "           0       0.86      0.80      0.83        30\n",
      "           1       0.83      0.80      0.81        30\n",
      "           2       0.85      0.93      0.89        30\n",
      "           3       1.00      1.00      1.00        30\n",
      "           4       1.00      1.00      1.00        30\n",
      "           5       1.00      1.00      1.00        30\n",
      "\n",
      "    accuracy                           0.92       180\n",
      "   macro avg       0.92      0.92      0.92       180\n",
      "weighted avg       0.92      0.92      0.92       180\n",
      "\n",
      "0.9222222222222223\n"
     ]
    }
   ],
   "source": [
    "print(classification_report(target_train,model.predict(sc.transform(dataset))))\n",
    "print(accuracy_score(target_train,model.predict(sc.transform(dataset))))"
   ]
  },
  {
   "cell_type": "code",
   "execution_count": 41,
   "metadata": {
    "scrolled": true
   },
   "outputs": [
    {
     "name": "stdout",
     "output_type": "stream",
     "text": [
      "              precision    recall  f1-score   support\n",
      "\n",
      "           0       0.35      0.27      0.30        30\n",
      "           1       0.42      0.33      0.37        30\n",
      "           2       0.40      0.57      0.47        30\n",
      "           3       1.00      0.93      0.97        30\n",
      "           4       0.94      1.00      0.97        30\n",
      "           5       1.00      1.00      1.00        30\n",
      "\n",
      "    accuracy                           0.68       180\n",
      "   macro avg       0.68      0.68      0.68       180\n",
      "weighted avg       0.68      0.68      0.68       180\n",
      "\n",
      "0.6833333333333333\n"
     ]
    }
   ],
   "source": [
    "print(classification_report(target_test,model.predict(sc.transform(dataset_test))))\n",
    "print(accuracy_score(target_test,model.predict(sc.transform(dataset_test))))"
   ]
  },
  {
   "cell_type": "code",
   "execution_count": 41,
   "metadata": {},
   "outputs": [],
   "source": []
  },
  {
   "cell_type": "markdown",
   "source": [
    "todo:\n",
    "优先选择样本产生多的？？"
   ],
   "metadata": {
    "collapsed": false
   }
  }
 ],
 "metadata": {
  "kernelspec": {
   "display_name": "Python 3 (ipykernel)",
   "language": "python",
   "name": "python3"
  },
  "language_info": {
   "codemirror_mode": {
    "name": "ipython",
    "version": 3
   },
   "file_extension": ".py",
   "mimetype": "text/x-python",
   "name": "python",
   "nbconvert_exporter": "python",
   "pygments_lexer": "ipython3",
   "version": "3.8.2"
  }
 },
 "nbformat": 4,
 "nbformat_minor": 4
}